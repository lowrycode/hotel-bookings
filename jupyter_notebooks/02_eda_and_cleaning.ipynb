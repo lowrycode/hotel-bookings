{
  "cells": [
    {
      "cell_type": "markdown",
      "metadata": {
        "id": "0aStgWSO0E0E"
      },
      "source": [
        "# **EDA AND DATA CLEANING NOTEBOOK**"
      ]
    },
    {
      "cell_type": "markdown",
      "metadata": {
        "id": "1eLEkw5O0ECa"
      },
      "source": [
        "## Objectives\n",
        "\n",
        "* Carry Out EDA relating to quality of data\n",
        "* Clean data and save for use in further analysis\n",
        "\n",
        "## Inputs\n",
        "\n",
        "* **Raw Dataset:** inputs/datasets/raw/hotel_bookings.csv\n",
        "\n",
        "## Outputs\n",
        "\n",
        "* **Cleaned Dataset with All Records:** outputs/{version}/datasets/cleaned/cleaned_all_records.csv\n",
        "* **Cleaned Dataset with Duplicates Removed:** outputs/{version}/datasets/cleaned/cleaned_deduplicated.csv\n",
        "* **Images from Duplicates Analysis:**\n",
        "  - outputs/{version}/images/cancellations_by_dup_category.png\n",
        "  - outputs/{version}/images/market_segments_by_dup_category.png"
      ]
    },
    {
      "cell_type": "markdown",
      "metadata": {
        "id": "9uWZXH9LwoQg"
      },
      "source": [
        "---"
      ]
    },
    {
      "cell_type": "markdown",
      "metadata": {
        "id": "cqP-UeN-z3i2"
      },
      "source": [
        "# Import Packages and Load Data"
      ]
    },
    {
      "cell_type": "markdown",
      "metadata": {},
      "source": [
        "Imports"
      ]
    },
    {
      "cell_type": "code",
      "execution_count": null,
      "metadata": {
        "id": "wZfF_j-Bz3i4",
        "outputId": "66943449-1436-4c3d-85c7-b85f9f78349b"
      },
      "outputs": [],
      "source": [
        "%matplotlib inline\n",
        "import numpy as np\n",
        "import pandas as pd\n",
        "import matplotlib.pyplot as plt\n",
        "import seaborn as sns\n",
        "import plotly.express as px"
      ]
    },
    {
      "cell_type": "markdown",
      "metadata": {
        "id": "M_xPk_Ijz3i-"
      },
      "source": [
        "Load data"
      ]
    },
    {
      "cell_type": "code",
      "execution_count": null,
      "metadata": {
        "id": "vz3S-_kjz3jA",
        "outputId": "00b79ae4-75d0-4a96-d193-ac9ef9847ea2"
      },
      "outputs": [],
      "source": [
        "from pathlib import Path\n",
        "\n",
        "project_root = Path.cwd().parent\n",
        "dataset_file = project_root / 'inputs' / 'datasets' / 'raw' / 'hotel_bookings.csv'\n",
        "df = pd.read_csv(dataset_file)\n",
        "df.head(3)"
      ]
    },
    {
      "cell_type": "markdown",
      "metadata": {},
      "source": [
        "---"
      ]
    },
    {
      "cell_type": "markdown",
      "metadata": {},
      "source": [
        "# Convert Data Types"
      ]
    },
    {
      "cell_type": "markdown",
      "metadata": {},
      "source": [
        "View current data types"
      ]
    },
    {
      "cell_type": "code",
      "execution_count": null,
      "metadata": {},
      "outputs": [],
      "source": [
        "df.info()"
      ]
    },
    {
      "cell_type": "markdown",
      "metadata": {},
      "source": [
        "Convert data types ready for profiling report.\n",
        "- `Int64` allows for the missing values and is used for `children`, `agent` and `company` to remove decimal digits before converting to `category` type"
      ]
    },
    {
      "cell_type": "code",
      "execution_count": null,
      "metadata": {},
      "outputs": [],
      "source": [
        "df['hotel'] = df['hotel'].astype('category')\n",
        "df['is_canceled'] = df['is_canceled'].astype('bool')\n",
        "df['arrival_date_year'] = df['arrival_date_year'].astype('category')\n",
        "df['arrival_date_month'] = df['arrival_date_month'].astype('category')\n",
        "df['children'] = df['children'].astype('Int64')\n",
        "df['meal'] = df['meal'].astype('category')\n",
        "df['country'] = df['country'].astype('category')\n",
        "df['market_segment'] = df['market_segment'].astype('category')\n",
        "df['distribution_channel'] = df['distribution_channel'].astype('category')\n",
        "df['is_repeated_guest'] = df['is_repeated_guest'].astype('bool')\n",
        "df['reserved_room_type'] = df['reserved_room_type'].astype('category')\n",
        "df['assigned_room_type'] = df['assigned_room_type'].astype('category')\n",
        "df['deposit_type'] = df['deposit_type'].astype('category')\n",
        "df['agent'] = df['agent'].astype('Int64').astype('category')\n",
        "df['company'] = df['company'].astype('Int64').astype('category')\n",
        "df['customer_type'] = df['customer_type'].astype('category')\n",
        "df['reservation_status'] = df['reservation_status'].astype('category')\n",
        "df['reservation_status_date'] = pd.to_datetime(df['reservation_status_date'])\n",
        "\n",
        "df.info()"
      ]
    },
    {
      "cell_type": "markdown",
      "metadata": {
        "id": "-mavJ8DibrcQ"
      },
      "source": [
        "# Profile Report"
      ]
    },
    {
      "cell_type": "code",
      "execution_count": null,
      "metadata": {},
      "outputs": [],
      "source": [
        "from ydata_profiling import ProfileReport\n",
        "profile = ProfileReport(df.drop_duplicates(), title=\"Hotel Bookings Profile Report\", minimal=True)\n",
        "profile.to_notebook_iframe()"
      ]
    },
    {
      "cell_type": "markdown",
      "metadata": {},
      "source": [
        "The Profile Report alerts us to some possible data issues which require further exploration:\n",
        "- **Data Ranges:**\n",
        "  - `lead_time` shows two values over 600\n",
        "  - `stays_in_weekend_nights` shows some values over 10\n",
        "  - `stays_in_week_nights` shows some values over 30\n",
        "  - `adults` shows some values over 20\n",
        "  - `children` shows a high value of 10\n",
        "  - `babies` shows high values of 9 and 10\n",
        "  - `previous_cancellations` shows values over 20\n",
        "  - `previous_bookings_not_canceled` shows values over 60\n",
        "  - `booking_changes` shows values over 20\n",
        "  - `days_in_waiting_list` shows values over 300\n",
        "  - `adr` shows at least one negative value, many zero values and an incredibly high value of 5400\n",
        "  - `required_car_parking_spaces` shows a high value of 8\n",
        "- **Undefined Values for Categorical Variables:**\n",
        "  - there are 'Undefined' values for `meal`, `market_segment`, `distribution_channel`\n",
        "- **Missing Values**\n",
        "  - there are missing values for `children`, `country`, `agent` and `company`"
      ]
    },
    {
      "cell_type": "markdown",
      "metadata": {
        "id": "ZY3l0-AxO93d"
      },
      "source": [
        "---"
      ]
    },
    {
      "cell_type": "markdown",
      "metadata": {},
      "source": [
        "# Explore Statistical Outliers"
      ]
    },
    {
      "cell_type": "markdown",
      "metadata": {},
      "source": [
        "## Functions to assist analysis"
      ]
    },
    {
      "cell_type": "markdown",
      "metadata": {},
      "source": [
        "Define function for summarising value counts and percentages in a table"
      ]
    },
    {
      "cell_type": "code",
      "execution_count": null,
      "metadata": {},
      "outputs": [],
      "source": [
        "def value_counts_and_percentages(df, filter_by_cols=None):\n",
        "    data = df[filter_by_cols] if filter_by_cols else df\n",
        "    df_count = data.value_counts(dropna=False)\n",
        "    df_percent = round(data.value_counts(normalize=True, dropna=False) * 100, 1)\n",
        "    summary = pd.concat([df_count, df_percent], axis=1)\n",
        "    summary.columns = ['Count', '%']\n",
        "    return summary\n",
        "\n",
        "def plot_categorical_facets(data, x, facet_by, xlim=None):\n",
        "    g = sns.catplot(data=data, x=x, kind=\"count\", col=facet_by, col_wrap=2, sharey=False, hue=x, legend=False)\n",
        "    for ax in g.axes.flatten():\n",
        "        plt.setp(ax.get_xticklabels(), rotation=90)\n",
        "    if xlim:\n",
        "        plt.xlim(xlim)\n",
        "    plt.show()"
      ]
    },
    {
      "cell_type": "markdown",
      "metadata": {},
      "source": [
        "## Remove 'Undefined' Values"
      ]
    },
    {
      "cell_type": "markdown",
      "metadata": {},
      "source": [
        "### Meal"
      ]
    },
    {
      "cell_type": "markdown",
      "metadata": {},
      "source": [
        "View categories"
      ]
    },
    {
      "cell_type": "code",
      "execution_count": null,
      "metadata": {},
      "outputs": [],
      "source": [
        "summary = value_counts_and_percentages(df, ['meal'])\n",
        "summary"
      ]
    },
    {
      "cell_type": "markdown",
      "metadata": {},
      "source": [
        "Drop 'Undefined'"
      ]
    },
    {
      "cell_type": "code",
      "execution_count": null,
      "metadata": {},
      "outputs": [],
      "source": [
        "# Drop rows with values of 'Undefined'\n",
        "condition = (df['meal'] == 'Undefined')\n",
        "df = df[~condition]\n",
        "\n",
        "# Remove 'Undefined' as a category\n",
        "df['meal'] = df['meal'].cat.remove_categories(['Undefined'])\n",
        "\n",
        "# Check values have been dropped\n",
        "summary = value_counts_and_percentages(df, ['meal'])\n",
        "summary"
      ]
    },
    {
      "cell_type": "markdown",
      "metadata": {},
      "source": [
        "### Market Segment"
      ]
    },
    {
      "cell_type": "markdown",
      "metadata": {},
      "source": [
        "View categories"
      ]
    },
    {
      "cell_type": "code",
      "execution_count": null,
      "metadata": {},
      "outputs": [],
      "source": [
        "summary = value_counts_and_percentages(df, ['market_segment'])\n",
        "summary"
      ]
    },
    {
      "cell_type": "markdown",
      "metadata": {},
      "source": [
        "Drop 'Undefined'"
      ]
    },
    {
      "cell_type": "code",
      "execution_count": null,
      "metadata": {},
      "outputs": [],
      "source": [
        "# Drop rows with values of 'Undefined'\n",
        "condition = (df['market_segment'] == 'Undefined')\n",
        "df = df[~condition]\n",
        "\n",
        "# Remove 'Undefined' as a category\n",
        "df['market_segment'] = df['market_segment'].cat.remove_categories(['Undefined'])\n",
        "\n",
        "# Check values have been dropped\n",
        "summary = value_counts_and_percentages(df, ['market_segment'])\n",
        "summary"
      ]
    },
    {
      "cell_type": "markdown",
      "metadata": {},
      "source": [
        "### Distribution Channel"
      ]
    },
    {
      "cell_type": "markdown",
      "metadata": {},
      "source": [
        "View categories"
      ]
    },
    {
      "cell_type": "code",
      "execution_count": null,
      "metadata": {},
      "outputs": [],
      "source": [
        "summary = value_counts_and_percentages(df, ['distribution_channel'])\n",
        "summary"
      ]
    },
    {
      "cell_type": "markdown",
      "metadata": {},
      "source": [
        "Drop 'Undefined'"
      ]
    },
    {
      "cell_type": "code",
      "execution_count": null,
      "metadata": {},
      "outputs": [],
      "source": [
        "# Drop rows with values of 'Undefined'\n",
        "condition = (df['distribution_channel'] == 'Undefined')\n",
        "df = df[~condition]\n",
        "\n",
        "# Remove 'Undefined' as a category\n",
        "df['distribution_channel'] = df['distribution_channel'].cat.remove_categories(['Undefined'])\n",
        "\n",
        "# Check values have been dropped\n",
        "summary = value_counts_and_percentages(df, ['distribution_channel'])\n",
        "summary"
      ]
    },
    {
      "cell_type": "markdown",
      "metadata": {},
      "source": [
        "## Lead Time"
      ]
    },
    {
      "cell_type": "markdown",
      "metadata": {},
      "source": [
        "Show distribution"
      ]
    },
    {
      "cell_type": "code",
      "execution_count": null,
      "metadata": {},
      "outputs": [],
      "source": [
        "sns.histplot(df, x='lead_time')"
      ]
    },
    {
      "cell_type": "markdown",
      "metadata": {},
      "source": [
        "Analyse values over 600"
      ]
    },
    {
      "cell_type": "code",
      "execution_count": null,
      "metadata": {},
      "outputs": [],
      "source": [
        "cols = ['hotel', 'lead_time', 'arrival_date_year', 'arrival_date_month', 'arrival_date_week_number', 'stays_in_weekend_nights',\n",
        "        'stays_in_week_nights', 'meal', 'market_segment', 'distribution_channel', 'agent', 'company','is_repeated_guest',\n",
        "        'reserved_room_type','assigned_room_type', 'deposit_type', 'days_in_waiting_list',\n",
        "        'customer_type', 'adr', 'required_car_parking_spaces', 'total_of_special_requests', 'reservation_status', 'reservation_status_date']\n",
        "cols = df.columns\n",
        "data = df[df['lead_time'] > 600][cols].value_counts(dropna=False)\n",
        "pd.DataFrame(data)"
      ]
    },
    {
      "cell_type": "markdown",
      "metadata": {},
      "source": [
        "The bookings with lead times between 600 and 700 share a number of similarities:\n",
        "- same hotel (City Hotel)\n",
        "- same travel agent\n",
        "- for off-peak seasons\n",
        "- all group bookings\n",
        "- same room type and meal plan\n",
        "- adr within 58-63 range\n",
        "- resulted in cancelled bookings\n",
        "\n",
        "The bookings with lead times above 700 also share a number of similarities:\n",
        "- same hotel (resort hotel)\n",
        "- direct bookings\n",
        "- were not cancelled\n",
        "\n",
        "They are also both unusual in different ways:\n",
        "- one has no overnight stays (either weekdays or weekends) and an adr of 0\n",
        "  - NOTE: a deeper analysis of adr=0 follows later\n",
        "- one has 28 overnight stays (i.e. 4 weeks)\n",
        "\n",
        "These bookings do not appear to be random anomalies but rather coherent subsets of bookings. They are also not too much higher than other lead time values.\n",
        "\n",
        "**ACTION:** keep all records"
      ]
    },
    {
      "cell_type": "markdown",
      "metadata": {},
      "source": [
        "## Overnight Stays"
      ]
    },
    {
      "cell_type": "markdown",
      "metadata": {},
      "source": [
        "Add a calculated `total_nights` variable to assist in analysis"
      ]
    },
    {
      "cell_type": "code",
      "execution_count": null,
      "metadata": {},
      "outputs": [],
      "source": [
        "df_nights = df.copy().drop_duplicates()\n",
        "df_nights['total_nights'] = df_nights['stays_in_weekend_nights'] + df['stays_in_week_nights']"
      ]
    },
    {
      "cell_type": "markdown",
      "metadata": {},
      "source": [
        "### Check consistency between `stays_in_weekend_nights` and `stays_in_week_nights`"
      ]
    },
    {
      "cell_type": "markdown",
      "metadata": {},
      "source": [
        "By calculating the weeks that a guest stayed using `stays_in_weekend_nights` and `stays_in_week_nights`, we can check that the difference is never greater than 1."
      ]
    },
    {
      "cell_type": "code",
      "execution_count": null,
      "metadata": {},
      "outputs": [],
      "source": [
        "# Create columns for weeks calculated by weekday nights and weekend nights\n",
        "df_nights['weekend_weeks'] = df_nights['stays_in_weekend_nights'] / 2\n",
        "df_nights['weekday_weeks'] = df_nights['stays_in_week_nights'] / 5\n",
        "\n",
        "# If consistent, the difference between weekend_weeks and weekday_weeks should be <= 1\n",
        "df_nights['weeks_are_consistent'] = (abs(df_nights['weekend_weeks'] - df_nights['weekday_weeks'])<=1)\n",
        "df_nights['weeks_are_consistent'].value_counts()"
      ]
    },
    {
      "cell_type": "markdown",
      "metadata": {},
      "source": [
        "All records have consistent values."
      ]
    },
    {
      "cell_type": "markdown",
      "metadata": {},
      "source": [
        "### Analyse highest values"
      ]
    },
    {
      "cell_type": "markdown",
      "metadata": {},
      "source": [
        "Inspect records with long stays"
      ]
    },
    {
      "cell_type": "code",
      "execution_count": null,
      "metadata": {},
      "outputs": [],
      "source": [
        "high_overnight_stays = df_nights[(df_nights['stays_in_weekend_nights']>10) | (df_nights['stays_in_week_nights']>30)]\n",
        "high_overnight_stays"
      ]
    },
    {
      "cell_type": "markdown",
      "metadata": {},
      "source": [
        "These observations all seem plausible. For example, there are no babies or children staying for this long. Some of the average daily rates are very low with 4 of the stays being without charge. This is presumably a concession for special guests."
      ]
    },
    {
      "cell_type": "markdown",
      "metadata": {},
      "source": [
        "### Zero Overnight Stays"
      ]
    },
    {
      "cell_type": "markdown",
      "metadata": {},
      "source": [
        "Inspect records with no overnight stays"
      ]
    },
    {
      "cell_type": "code",
      "execution_count": null,
      "metadata": {},
      "outputs": [],
      "source": [
        "no_overnight_stays = df_nights[(df_nights['total_nights']==0)]\n",
        "no_overnight_stays"
      ]
    },
    {
      "cell_type": "markdown",
      "metadata": {},
      "source": [
        "It is unclear what these bookings are but they are clearly a special case.\n",
        "\n",
        "These bookings constitute less than 1% of the overall data (duplicates removed)."
      ]
    },
    {
      "cell_type": "code",
      "execution_count": null,
      "metadata": {},
      "outputs": [],
      "source": [
        "summary = value_counts_and_percentages(df_nights, ['total_nights'])\n",
        "summary.loc[[0.0]]"
      ]
    },
    {
      "cell_type": "markdown",
      "metadata": {},
      "source": [
        "All of these records have **adr = 0**. According to the [original data source](https://www.sciencedirect.com/science/article/pii/S2352340918315191), Average Daily Rates are calculated by\n",
        "> dividing the sum of all lodging transactions by the total number of staying nights.\n",
        "\n",
        "If there are no staying nights, the value will be undefined and the system presumably defaults to zero."
      ]
    },
    {
      "cell_type": "code",
      "execution_count": null,
      "metadata": {},
      "outputs": [],
      "source": [
        "summary = value_counts_and_percentages(no_overnight_stays, ['adr'])\n",
        "summary"
      ]
    },
    {
      "cell_type": "markdown",
      "metadata": {},
      "source": [
        "Cancellation rates are much lower for this type of booking than overnight stays"
      ]
    },
    {
      "cell_type": "code",
      "execution_count": null,
      "metadata": {},
      "outputs": [],
      "source": [
        "condition = df_nights['total_nights'] == 0.0\n",
        "\n",
        "# Get percentage counts for day-only bookings and overnight bookings\n",
        "day_only_counts = value_counts_and_percentages(df_nights[condition], ['is_canceled'])\n",
        "overnight_counts = value_counts_and_percentages(df_nights[~condition], ['is_canceled'])\n",
        "\n",
        "# Concatenate data into one summary table\n",
        "summary = pd.concat([day_only_counts, overnight_counts], axis=1)\n",
        "\n",
        "# Drop Counts and rename columns\n",
        "summary.drop('Count', axis=1, inplace=True)\n",
        "summary.columns = ['No Overnight Stays (%)', 'Yes Overnight Stays (%)']\n",
        "\n",
        "summary"
      ]
    },
    {
      "cell_type": "markdown",
      "metadata": {},
      "source": [
        "Of all bookings that have adr = 0.0, the majority of these do consist of at least one overnight stay (~63%) but bookings with no overnight stays still constitute a significant minority and therefore will not be removed for the moment."
      ]
    },
    {
      "cell_type": "code",
      "execution_count": null,
      "metadata": {},
      "outputs": [],
      "source": [
        "zero_adr = df_nights[df_nights['adr'] == 0.0]\n",
        "summary = value_counts_and_percentages(zero_adr, ['total_nights'])\n",
        "summary"
      ]
    },
    {
      "cell_type": "markdown",
      "metadata": {},
      "source": [
        "## Adults"
      ]
    },
    {
      "cell_type": "markdown",
      "metadata": {},
      "source": [
        "View values"
      ]
    },
    {
      "cell_type": "code",
      "execution_count": null,
      "metadata": {},
      "outputs": [],
      "source": [
        "summary = value_counts_and_percentages(df.drop_duplicates(), ['adults'])\n",
        "summary"
      ]
    },
    {
      "cell_type": "markdown",
      "metadata": {},
      "source": [
        "Analyse records with more than 5 adults"
      ]
    },
    {
      "cell_type": "code",
      "execution_count": null,
      "metadata": {},
      "outputs": [],
      "source": [
        "high_adults = df[df['adults'] > 5].drop_duplicates()\n",
        "high_adults"
      ]
    },
    {
      "cell_type": "markdown",
      "metadata": {},
      "source": [
        "These records share some similarities\n",
        "- same hotel (Resort)\n",
        "- booked for Sep and Oct in 2015\n",
        "- booked over 300 days in advance\n",
        "- group bookings\n",
        "- many were booked through the same travel agent\n",
        "- adr = 0\n",
        "- country = PRT\n",
        "- all were cancelled - most in Jan 2015 but one in Sep 2015\n",
        "\n",
        "Since they were group bookings with other similarities, these records are valid and will not be removed. "
      ]
    },
    {
      "cell_type": "markdown",
      "metadata": {},
      "source": [
        "## Children"
      ]
    },
    {
      "cell_type": "markdown",
      "metadata": {},
      "source": [
        "View values"
      ]
    },
    {
      "cell_type": "code",
      "execution_count": null,
      "metadata": {},
      "outputs": [],
      "source": [
        "summary = value_counts_and_percentages(df.drop_duplicates(), ['children'])\n",
        "summary"
      ]
    },
    {
      "cell_type": "markdown",
      "metadata": {},
      "source": [
        "It is highly unlikely but not impossible that a booking involved 10 children"
      ]
    },
    {
      "cell_type": "code",
      "execution_count": null,
      "metadata": {},
      "outputs": [],
      "source": [
        "df[df['children'] == 10]"
      ]
    },
    {
      "cell_type": "markdown",
      "metadata": {},
      "source": [
        "View the distribution of ADR for the same room type"
      ]
    },
    {
      "cell_type": "code",
      "execution_count": null,
      "metadata": {},
      "outputs": [],
      "source": [
        "room_D = df[df['assigned_room_type'] == 'D'].drop_duplicates()\n",
        "sns.histplot(room_D, x='adr')"
      ]
    },
    {
      "cell_type": "markdown",
      "metadata": {},
      "source": [
        "It is likely an anomaly because:\n",
        "- Most hotels don’t allow a single room with 2 adults + 10 children so it was likely meant to say 1 or 0.\n",
        "- ADR (133.16) looks like a normal rate for 1–2 rooms, not for such a large group.\n",
        "- Reservation status = 'No-Show', which might explain why it slipped through without being corrected on arrival.\n",
        "\n",
        "**ACTION:** drop"
      ]
    },
    {
      "cell_type": "code",
      "execution_count": null,
      "metadata": {},
      "outputs": [],
      "source": [
        "condition = df['children'] == 10\n",
        "df = df[~condition]"
      ]
    },
    {
      "cell_type": "markdown",
      "metadata": {},
      "source": [
        "## Babies"
      ]
    },
    {
      "cell_type": "markdown",
      "metadata": {},
      "source": [
        "View values"
      ]
    },
    {
      "cell_type": "code",
      "execution_count": null,
      "metadata": {},
      "outputs": [],
      "source": [
        "summary = value_counts_and_percentages(df.drop_duplicates(), ['babies'])\n",
        "summary"
      ]
    },
    {
      "cell_type": "markdown",
      "metadata": {},
      "source": [
        "Inspect babies > 5"
      ]
    },
    {
      "cell_type": "code",
      "execution_count": null,
      "metadata": {},
      "outputs": [],
      "source": [
        "df[df['babies'] > 5]"
      ]
    },
    {
      "cell_type": "markdown",
      "metadata": {},
      "source": [
        "The rest of the details look to be consistent with small bookings. These are considered to be anomalies.\n",
        "\n",
        "**ACTION:** drop"
      ]
    },
    {
      "cell_type": "code",
      "execution_count": null,
      "metadata": {},
      "outputs": [],
      "source": [
        "condition = df['babies'] > 5\n",
        "df = df[~condition]"
      ]
    },
    {
      "cell_type": "markdown",
      "metadata": {},
      "source": [
        "## Previous Cancellations"
      ]
    },
    {
      "cell_type": "markdown",
      "metadata": {},
      "source": [
        "View values"
      ]
    },
    {
      "cell_type": "code",
      "execution_count": null,
      "metadata": {},
      "outputs": [],
      "source": [
        "summary = value_counts_and_percentages(df.drop_duplicates(), ['previous_cancellations'])\n",
        "summary"
      ]
    },
    {
      "cell_type": "markdown",
      "metadata": {},
      "source": [
        "Inspect records with high previous_cancellations"
      ]
    },
    {
      "cell_type": "code",
      "execution_count": null,
      "metadata": {},
      "outputs": [],
      "source": [
        "high_cancellations = df[df['previous_cancellations'] > 15].drop_duplicates()\n",
        "high_cancellations\n"
      ]
    },
    {
      "cell_type": "markdown",
      "metadata": {},
      "source": [
        "View relationship between previous_cancellations and previous_bookings_not_canceled"
      ]
    },
    {
      "cell_type": "code",
      "execution_count": null,
      "metadata": {},
      "outputs": [],
      "source": [
        "sns.scatterplot(df.drop_duplicates(), x='previous_cancellations', y='previous_bookings_not_canceled')"
      ]
    },
    {
      "cell_type": "markdown",
      "metadata": {},
      "source": [
        "Guests who have very high cancellation rates are typically characterised by having no previous non-cancelled bookings and no other records after Oct 2015.\n",
        "\n",
        "These are probably valid system records which were flagged by the hotel to prevent future bookings by these customers although they could represent a system design error (e.g. the same “guest” ID may be reused by an agent, inflating cancellation counts).\n",
        "\n",
        "**ACTION:** keep"
      ]
    },
    {
      "cell_type": "markdown",
      "metadata": {},
      "source": [
        "## Previous Bookings Not Cancelled"
      ]
    },
    {
      "cell_type": "markdown",
      "metadata": {},
      "source": [
        "Inspect previous_bookings_not_canceled > 40"
      ]
    },
    {
      "cell_type": "code",
      "execution_count": null,
      "metadata": {},
      "outputs": [],
      "source": [
        "df[df['previous_bookings_not_canceled'] > 40].drop_duplicates()\n"
      ]
    },
    {
      "cell_type": "markdown",
      "metadata": {},
      "source": [
        "These bookings appear to be valid as they were all made to the City Hotel by the same company with low lead times.\n",
        "\n",
        "**ACTION:** keep"
      ]
    },
    {
      "cell_type": "markdown",
      "metadata": {},
      "source": [
        "## Booking Changes"
      ]
    },
    {
      "cell_type": "markdown",
      "metadata": {},
      "source": [
        "View values"
      ]
    },
    {
      "cell_type": "code",
      "execution_count": null,
      "metadata": {},
      "outputs": [],
      "source": [
        "summary = value_counts_and_percentages(df.drop_duplicates(), ['booking_changes'])\n",
        "summary"
      ]
    },
    {
      "cell_type": "code",
      "execution_count": null,
      "metadata": {},
      "outputs": [],
      "source": [
        "df[df['booking_changes'] > 15].drop_duplicates()"
      ]
    },
    {
      "cell_type": "markdown",
      "metadata": {},
      "source": [
        "These do not look like random errors since there are similarities:\n",
        "- All of these bookings are associated with a company or an agent (most are tied to agent 9 or agent 240, which may represent large travel agencies or corporate portals)\n",
        "- Some of these are very long stays and these are more likely to require some booking changes\n",
        "\n",
        "They could possibly be explained by agencies using \"change\" instead of cancel/rebook.\n",
        "\n",
        "**ACTION:** keep"
      ]
    },
    {
      "cell_type": "markdown",
      "metadata": {},
      "source": [
        "## Days in Waiting List"
      ]
    },
    {
      "cell_type": "code",
      "execution_count": null,
      "metadata": {},
      "outputs": [],
      "source": [
        "summary = value_counts_and_percentages(df.drop_duplicates(), ['days_in_waiting_list'])\n",
        "summary"
      ]
    },
    {
      "cell_type": "code",
      "execution_count": null,
      "metadata": {},
      "outputs": [],
      "source": [
        "df[df['days_in_waiting_list'] > 300].drop_duplicates()"
      ]
    },
    {
      "cell_type": "markdown",
      "metadata": {},
      "source": [
        "These look to be valid entries because they share the following similiarities:\n",
        "- same hotel (City)\n",
        "- group bookings by the same agent (1)\n",
        "- high lead times\n",
        "\n",
        "They reflect group reservations booked far in advance, held on a waiting list until confirmed.\n",
        "\n",
        "**ACTION:** keep"
      ]
    },
    {
      "cell_type": "markdown",
      "metadata": {},
      "source": [
        "## Average Daily Rates"
      ]
    },
    {
      "cell_type": "markdown",
      "metadata": {},
      "source": [
        "A negative value for ADR is not valid\n",
        "\n",
        "**ACTION:** drop"
      ]
    },
    {
      "cell_type": "code",
      "execution_count": null,
      "metadata": {},
      "outputs": [],
      "source": [
        "condition = df['adr'] < 0\n",
        "df = df[~condition]"
      ]
    },
    {
      "cell_type": "markdown",
      "metadata": {},
      "source": [
        "View values"
      ]
    },
    {
      "cell_type": "code",
      "execution_count": null,
      "metadata": {},
      "outputs": [],
      "source": [
        "summary = value_counts_and_percentages(df.drop_duplicates(), ['adr'])\n",
        "summary"
      ]
    },
    {
      "cell_type": "markdown",
      "metadata": {},
      "source": [
        "Approximately 2% of unduplicated records have **adr = 0** so it is worth more exploration."
      ]
    },
    {
      "cell_type": "code",
      "execution_count": null,
      "metadata": {},
      "outputs": [],
      "source": [
        "df_adr = df.copy().drop_duplicates()\n",
        "df_adr['zero_adr'] = df_adr['adr'] == 0.0\n",
        "df_adr['zero_adr'].value_counts(normalize=True)"
      ]
    },
    {
      "cell_type": "markdown",
      "metadata": {},
      "source": [
        "### Distributions in Categorical Features"
      ]
    },
    {
      "cell_type": "markdown",
      "metadata": {},
      "source": [
        "Look for differences in the distribution of categorical variables."
      ]
    },
    {
      "cell_type": "code",
      "execution_count": null,
      "metadata": {},
      "outputs": [],
      "source": [
        "cat_features = df_adr.select_dtypes(['category', 'bool']).columns.to_list()\n",
        "for feature in cat_features:\n",
        "    plot_categorical_facets(df_adr, feature, 'zero_adr')"
      ]
    },
    {
      "cell_type": "markdown",
      "metadata": {},
      "source": [
        "View which agents booked the most zero-adr bookings"
      ]
    },
    {
      "cell_type": "code",
      "execution_count": null,
      "metadata": {},
      "outputs": [],
      "source": [
        "df_adr[df_adr['zero_adr'] == True]['agent'].value_counts().head(3)"
      ]
    },
    {
      "cell_type": "markdown",
      "metadata": {},
      "source": [
        "View which companies booked the most zero-adr bookings"
      ]
    },
    {
      "cell_type": "code",
      "execution_count": null,
      "metadata": {},
      "outputs": [],
      "source": [
        "df_adr[df_adr['zero_adr'] == True]['company'].value_counts().head(3)"
      ]
    },
    {
      "cell_type": "markdown",
      "metadata": {},
      "source": [
        "### Distributions in Numeric Features"
      ]
    },
    {
      "cell_type": "markdown",
      "metadata": {},
      "source": [
        "View numeric features to investigate"
      ]
    },
    {
      "cell_type": "code",
      "execution_count": null,
      "metadata": {},
      "outputs": [],
      "source": [
        "numeric_features = df_adr.select_dtypes('number').columns.to_list()\n",
        "print(numeric_features)"
      ]
    },
    {
      "cell_type": "markdown",
      "metadata": {},
      "source": [
        "View distributions of lead times"
      ]
    },
    {
      "cell_type": "code",
      "execution_count": null,
      "metadata": {},
      "outputs": [],
      "source": [
        "sns.histplot(df_adr, x='lead_time', hue='zero_adr', stat='density', common_norm=False, kde=True)\n",
        "plt.xlim(0,300)"
      ]
    },
    {
      "cell_type": "markdown",
      "metadata": {},
      "source": [
        "Bookings with zero-adr are much more likely to have zero lead time"
      ]
    },
    {
      "cell_type": "code",
      "execution_count": null,
      "metadata": {},
      "outputs": [],
      "source": [
        "df_zero = df_adr[df_adr['zero_adr']==True]\n",
        "df_non_zero = df_adr[df_adr['zero_adr']==False]\n",
        "\n",
        "zero_count = value_counts_and_percentages(df_zero, ['lead_time'])\n",
        "non_zero_count = value_counts_and_percentages(df_non_zero, ['lead_time'])\n",
        "\n",
        "summary = pd.concat([zero_count, non_zero_count], axis=1)\n",
        "summary.drop('Count', axis=1, inplace=True)\n",
        "summary.columns = ['zero-adr (%)', 'non zero-adr (%)']\n",
        "summary"
      ]
    },
    {
      "cell_type": "markdown",
      "metadata": {},
      "source": [
        "View duration of stay"
      ]
    },
    {
      "cell_type": "code",
      "execution_count": null,
      "metadata": {},
      "outputs": [],
      "source": [
        "plot_categorical_facets(df_adr, 'stays_in_weekend_nights', 'zero_adr')"
      ]
    },
    {
      "cell_type": "code",
      "execution_count": null,
      "metadata": {},
      "outputs": [],
      "source": [
        "plot_categorical_facets(df_adr, 'stays_in_week_nights', 'zero_adr', (-1,10))"
      ]
    },
    {
      "cell_type": "code",
      "execution_count": null,
      "metadata": {},
      "outputs": [],
      "source": [
        "df_adr['total_nights'] = df_adr['stays_in_week_nights'] + df_adr['stays_in_weekend_nights']\n",
        "plot_categorical_facets(df_adr, 'total_nights', 'zero_adr', (-1,20))"
      ]
    },
    {
      "cell_type": "code",
      "execution_count": null,
      "metadata": {},
      "outputs": [],
      "source": [
        "for feature in numeric_features:\n",
        "    sns.histplot(df_adr, x=feature, hue='zero_adr', stat='density', common_norm=False, kde=True)\n",
        "    plt.show()"
      ]
    },
    {
      "cell_type": "markdown",
      "metadata": {},
      "source": []
    },
    {
      "cell_type": "markdown",
      "metadata": {},
      "source": [
        "### Conclusions"
      ]
    },
    {
      "cell_type": "markdown",
      "metadata": {},
      "source": [
        "Compared to standard bookings, bookings with zero ADR have:\n",
        "- lower percentage cancellations\n",
        "- higher percentage `is_repeated_guest`\n",
        "- higher percentages in Oct and Dec for `arrival_date_month`\n",
        "- higher percentages of 'Complementary' for `market_segment`\n",
        "- higher percentages of 'Direct' for `distribution_channel`\n",
        "- higher perentage of room I and K for `assigned_room_type`\n",
        "- higher percentage for 240 for `agent`\n",
        "- predominantly been booked through company 45\n",
        "- higher occurences of zero lead time\n",
        "- fewer overnight stays and a large proportion of zero overnight stays \n",
        "\n",
        "These patterns make it unlikely that they are random errors. It is more likely that zero ADR represents valid \"non-revenue\" bookings such as staff stays, promotions, group allotments or company-specific deals where revenue is not recorded at ADR level.\n",
        "\n",
        "**ACTION:** Keep"
      ]
    },
    {
      "cell_type": "markdown",
      "metadata": {},
      "source": [
        "## Car Parking"
      ]
    },
    {
      "cell_type": "markdown",
      "metadata": {},
      "source": [
        "View values"
      ]
    },
    {
      "cell_type": "code",
      "execution_count": null,
      "metadata": {},
      "outputs": [],
      "source": [
        "summary = value_counts_and_percentages(df.drop_duplicates(), ['required_car_parking_spaces'])\n",
        "summary"
      ]
    },
    {
      "cell_type": "markdown",
      "metadata": {},
      "source": [
        "Inspect required_car_parking_spaces > 5"
      ]
    },
    {
      "cell_type": "code",
      "execution_count": null,
      "metadata": {},
      "outputs": [],
      "source": [
        "df[df['required_car_parking_spaces'] > 5]"
      ]
    },
    {
      "cell_type": "markdown",
      "metadata": {},
      "source": [
        "These are valid bookings because they are both corporate bookings classed under a `customer_type` of 'Transient-Party'.\n",
        "\n",
        "**ACTION:** Keep"
      ]
    },
    {
      "cell_type": "markdown",
      "metadata": {},
      "source": [
        "# Data Consistency Analysis"
      ]
    },
    {
      "cell_type": "markdown",
      "metadata": {},
      "source": [
        "## Investigate Distribution Channel"
      ]
    },
    {
      "cell_type": "markdown",
      "metadata": {},
      "source": [
        "### Initial Investigations"
      ]
    },
    {
      "cell_type": "markdown",
      "metadata": {},
      "source": [
        "View values for `distribution_channel`"
      ]
    },
    {
      "cell_type": "code",
      "execution_count": null,
      "metadata": {},
      "outputs": [],
      "source": [
        "summary = value_counts_and_percentages(df, ['distribution_channel'])\n",
        "display(summary)"
      ]
    },
    {
      "cell_type": "markdown",
      "metadata": {},
      "source": [
        "### `distribution_channel` + `agent`"
      ]
    },
    {
      "cell_type": "markdown",
      "metadata": {},
      "source": [
        "We expect that when an **agent** is specified, **distribution_channel = TA/TO**"
      ]
    },
    {
      "cell_type": "code",
      "execution_count": null,
      "metadata": {},
      "outputs": [],
      "source": [
        "data = df[~df['agent'].isna()]\n",
        "summary = value_counts_and_percentages(data, ['distribution_channel'])\n",
        "display(summary)"
      ]
    },
    {
      "cell_type": "markdown",
      "metadata": {},
      "source": [
        "Findings\n",
        "- **TA/TO** is expected:\n",
        "  - This is the majority class with over 90% of all observations\n",
        "  - ACTION: keep\n",
        "- **Direct** is inconsistent:\n",
        "  - Probably `distribution_channel` or `agent` is mis-labelled but impossible to know which.\n",
        "  - ACTION: drop\n",
        "- **Corporate** is possible:\n",
        "  - Some corporate bookings are handled by travel agents (e.g. travel management companies).\n",
        "  - ACTION: investigate further\n",
        "- **GDS** is valid:\n",
        "  - Many travel agents book via GDS.\n",
        "  - ACTION: keep"
      ]
    },
    {
      "cell_type": "markdown",
      "metadata": {},
      "source": [
        "Check that similar patterns are seen with both hotels"
      ]
    },
    {
      "cell_type": "code",
      "execution_count": null,
      "metadata": {},
      "outputs": [],
      "source": [
        "# City\n",
        "city_data = df[(~df['agent'].isna() & (df['hotel'] == 'City Hotel'))]\n",
        "city_summary = value_counts_and_percentages(city_data, ['distribution_channel'])\n",
        "\n",
        "# Resort\n",
        "resort_data = df[(~df['agent'].isna() & (df['hotel'] == 'Resort Hotel'))]\n",
        "resort_summary = value_counts_and_percentages(resort_data, ['distribution_channel'])\n",
        "\n",
        "# Concatenate into one table and remove counts\n",
        "summary = pd.concat([city_summary, resort_summary], axis=1)\n",
        "summary.drop('Count', axis=1, inplace=True)\n",
        "\n",
        "# Rename column headings and display\n",
        "summary.columns = ['% of City Hotel Bookings', '% of Resort Hotel Bookings']\n",
        "summary\n"
      ]
    },
    {
      "cell_type": "markdown",
      "metadata": {},
      "source": [
        "Similar patterns are seen with both hotels so there don't seem to be issues with administrative errors in only one of the hotels.\n",
        "\n",
        "Investigate `Corporate` further\n",
        "- How many of the 1134 corporate bookings have a company ID specified alongside the travel agent?"
      ]
    },
    {
      "cell_type": "code",
      "execution_count": null,
      "metadata": {},
      "outputs": [],
      "source": [
        "data = df[(~df['agent'].isna()) & (~df['company'].isna())]\n",
        "summary = value_counts_and_percentages(data, ['distribution_channel'])\n",
        "display(summary)"
      ]
    },
    {
      "cell_type": "markdown",
      "metadata": {},
      "source": [
        "Findings\n",
        "- Only 132 of the 1134 agent bookings assigned distribution_channel = corporate have a company ID associated with them (~12%)\n",
        "- These may still be valid records where the company was not recorded\n",
        "- ACTION: keep 'Corporate' but drop 'Direct'\n"
      ]
    },
    {
      "cell_type": "code",
      "execution_count": null,
      "metadata": {},
      "outputs": [],
      "source": [
        "# Drop rows with specified agent but distribution_channel = 'Direct'\n",
        "condition = (~df['agent'].isna()) & (df['distribution_channel'] == 'Direct')\n",
        "df = df[~condition]\n",
        "\n",
        "data = df[~df['agent'].isna()]\n",
        "summary = value_counts_and_percentages(data, ['distribution_channel'])\n",
        "display(summary)"
      ]
    },
    {
      "cell_type": "markdown",
      "metadata": {},
      "source": [
        "### `distribution_channel` + `company`"
      ]
    },
    {
      "cell_type": "markdown",
      "metadata": {},
      "source": [
        "We expect that when a **company** is specified, **distribution_channel = Corporate**"
      ]
    },
    {
      "cell_type": "code",
      "execution_count": null,
      "metadata": {},
      "outputs": [],
      "source": [
        "data = df[~df['company'].isna()]\n",
        "summary = value_counts_and_percentages(data, ['distribution_channel'])\n",
        "display(summary)"
      ]
    },
    {
      "cell_type": "markdown",
      "metadata": {},
      "source": [
        "Findings\n",
        "- **Corporate** is expected:\n",
        "  - This is the majority class with ~ 75% of all observations\n",
        "  - ACTION: keep\n",
        "- **TA/TO** is possible:\n",
        "  - Some corporate bookings are handled by travel agents (e.g. travel management companies).\n",
        "  - ACTION: keep\n",
        "- **Direct** is inconsistent:\n",
        "  - Probably `distribution_channel` or `company` is mis-labelled but impossible to know which.\n",
        "  - ACTION: drop\n",
        "- **GDS** is possible:\n",
        "  - The company could have booked via GDS.\n",
        "  - ACTION: keep"
      ]
    },
    {
      "cell_type": "code",
      "execution_count": null,
      "metadata": {},
      "outputs": [],
      "source": [
        "# Drop rows with specified company but distribution_channel = 'Direct'\n",
        "condition = (~df['company'].isna()) & (df['distribution_channel'] == 'Direct')\n",
        "df = df[~condition]\n",
        "\n",
        "data = df[~df['company'].isna()]\n",
        "summary = value_counts_and_percentages(data, ['distribution_channel'])\n",
        "display(summary)"
      ]
    },
    {
      "cell_type": "markdown",
      "metadata": {},
      "source": [
        "## Investigate `is_canceled`"
      ]
    },
    {
      "cell_type": "markdown",
      "metadata": {},
      "source": [
        "We expect that records with **is_canceled = 0** should have **reservation_status = 'Check-Out'**"
      ]
    },
    {
      "cell_type": "code",
      "execution_count": null,
      "metadata": {},
      "outputs": [],
      "source": [
        "data = df[df['is_canceled']==0]\n",
        "summary = value_counts_and_percentages(data, ['reservation_status'])\n",
        "display(summary)"
      ]
    },
    {
      "cell_type": "markdown",
      "metadata": {},
      "source": [
        "This is the case. We also expect that records with **is_canceled = 1** should have **reservation_status = 'Canceled' or 'No-Show'**"
      ]
    },
    {
      "cell_type": "code",
      "execution_count": null,
      "metadata": {},
      "outputs": [],
      "source": [
        "data = df[df['is_canceled']==1]\n",
        "summary = value_counts_and_percentages(data, ['reservation_status'])\n",
        "display(summary)"
      ]
    },
    {
      "cell_type": "markdown",
      "metadata": {},
      "source": [
        "This is also the case so no cleaning required here."
      ]
    },
    {
      "cell_type": "markdown",
      "metadata": {},
      "source": [
        "## Investigate `is_repeated_guest`"
      ]
    },
    {
      "cell_type": "markdown",
      "metadata": {},
      "source": [
        "This variable should relate to `previous_bookings_not_canceled` and `previous_cancellations` so these will each be investigated first."
      ]
    },
    {
      "cell_type": "markdown",
      "metadata": {},
      "source": [
        "### Investigate `previous_bookings_not_canceled`"
      ]
    },
    {
      "cell_type": "markdown",
      "metadata": {},
      "source": [
        "According to the [original data source](https://www.sciencedirect.com/science/article/pii/S2352340918315191), this variable was assigned as follows:\n",
        "> In case there was no customer profile associated with the booking, the value is set to 0. Otherwise, the value is the number of bookings with the same customer profile created before the current booking and not canceled.\n",
        "\n",
        "Presumably this also applies to bookings made before the date range of the current dataset."
      ]
    },
    {
      "cell_type": "markdown",
      "metadata": {},
      "source": [
        "View counts"
      ]
    },
    {
      "cell_type": "code",
      "execution_count": null,
      "metadata": {},
      "outputs": [],
      "source": [
        "data = df.drop_duplicates(keep='first')  # Drop duplicates to prevent skewing the data\n",
        "summary = value_counts_and_percentages(data, ['previous_bookings_not_canceled'])\n",
        "display(summary)"
      ]
    },
    {
      "cell_type": "markdown",
      "metadata": {},
      "source": [
        "### Investigate `previous_cancellations`"
      ]
    },
    {
      "cell_type": "markdown",
      "metadata": {},
      "source": [
        "According to the [original data source](https://www.sciencedirect.com/science/article/pii/S2352340918315191), this variable was assigned as follows:\n",
        "> In case there was no customer profile associated with the booking, the value is set to 0. Otherwise, the value is the number of bookings with the same customer profile created before the current booking and canceled.\n",
        "\n",
        "Presumably this also applies to bookings made before the date range of the current dataset."
      ]
    },
    {
      "cell_type": "code",
      "execution_count": null,
      "metadata": {},
      "outputs": [],
      "source": [
        "data = df.drop_duplicates(keep='first')  # Drop duplicates to prevent skewing the data\n",
        "summary = value_counts_and_percentages(data, ['previous_cancellations'])\n",
        "display(summary)"
      ]
    },
    {
      "cell_type": "markdown",
      "metadata": {},
      "source": [
        "### Investigate `is_repeated_guest`"
      ]
    },
    {
      "cell_type": "markdown",
      "metadata": {},
      "source": [
        "According to the [original data source](https://www.sciencedirect.com/science/article/pii/S2352340918315191), this variable was\n",
        "\n",
        "> *\"created by verifying if a profile was associated with the booking customer. If so, and if the customer profile creation date was prior to the creation date for the booking on the PMS database it was assumed the booking was from a repeated guest.\"*"
      ]
    },
    {
      "cell_type": "markdown",
      "metadata": {},
      "source": [
        "Create a `total_previous_bookings` column"
      ]
    },
    {
      "cell_type": "code",
      "execution_count": null,
      "metadata": {},
      "outputs": [],
      "source": [
        "df_prev_bookings = df.drop_duplicates(keep='first')\n",
        "df_prev_bookings['total_previous_bookings'] = df_prev_bookings['previous_bookings_not_canceled'] + df_prev_bookings['previous_cancellations']\n",
        "df_prev_bookings.head(3)\n"
      ]
    },
    {
      "cell_type": "markdown",
      "metadata": {},
      "source": [
        "We expect that all records with **is_repeated_guest = 0** will have no previous non-cancelled bookings but this is not found to be the case."
      ]
    },
    {
      "cell_type": "code",
      "execution_count": null,
      "metadata": {},
      "outputs": [],
      "source": [
        "data = df_prev_bookings[df_prev_bookings['is_repeated_guest']==0]\n",
        "summary = value_counts_and_percentages(data, ['total_previous_bookings', 'previous_bookings_not_canceled', 'previous_cancellations', 'is_repeated_guest'])\n",
        "display(summary)"
      ]
    },
    {
      "cell_type": "markdown",
      "metadata": {},
      "source": [
        "We expect that all records with **is_repeated_guest = 1** will have at least one previous non-cancelled booking but this is not found to be the case either. "
      ]
    },
    {
      "cell_type": "code",
      "execution_count": null,
      "metadata": {},
      "outputs": [],
      "source": [
        "data = df_prev_bookings[df_prev_bookings['is_repeated_guest']==1]\n",
        "summary = value_counts_and_percentages(data, ['total_previous_bookings', 'previous_bookings_not_canceled', 'previous_cancellations', 'is_repeated_guest'])\n",
        "display(summary)"
      ]
    },
    {
      "cell_type": "markdown",
      "metadata": {},
      "source": [
        "Since the is_repeated_guest feature is derived from whether the PMS had a guest profile created before the booking (rather than using the previous booking data), the discrepancy may have predictive power when training the model.\n",
        "- ACTION: add an additional feature (an inconsistency flag) during feature engineering and assess feature importance after training the model to see if the signal has any significance."
      ]
    },
    {
      "cell_type": "markdown",
      "metadata": {},
      "source": [
        "# Missing Data"
      ]
    },
    {
      "cell_type": "markdown",
      "metadata": {},
      "source": [
        "## Initial Overview"
      ]
    },
    {
      "cell_type": "markdown",
      "metadata": {},
      "source": [
        "Helper function for sumarising missing data"
      ]
    },
    {
      "cell_type": "code",
      "execution_count": null,
      "metadata": {},
      "outputs": [],
      "source": [
        "def summarise_missing_data():\n",
        "    # Get variables with missing data\n",
        "    missing = pd.DataFrame(df.isna().sum(), columns=['count'])\n",
        "    missing = missing[missing['count'] > 0]\n",
        "\n",
        "    # Add percentage column\n",
        "    total = len(df)\n",
        "    missing['%'] = round(100 * missing['count'] / total,2)\n",
        "\n",
        "    return missing"
      ]
    },
    {
      "cell_type": "markdown",
      "metadata": {},
      "source": [
        "View variables with missing data"
      ]
    },
    {
      "cell_type": "code",
      "execution_count": null,
      "metadata": {},
      "outputs": [],
      "source": [
        "summarise_missing_data()"
      ]
    },
    {
      "cell_type": "markdown",
      "metadata": {},
      "source": [
        "*NOTE: Although the profile report identified 4 missing values for `children`, these have been removed in the data cleaning steps already taken.*"
      ]
    },
    {
      "cell_type": "markdown",
      "metadata": {},
      "source": [
        "## Handling missing `agent` and `company`"
      ]
    },
    {
      "cell_type": "markdown",
      "metadata": {},
      "source": [
        "According to the [original data source](https://www.sciencedirect.com/science/article/pii/S2352340918315191), an empty value should be interpreted as 'not applicable' for `agent` and `company`. However, in this dataset, when comparing missing values with the `distribution_channel`, it appears that there were a significant number of bookings were made by travel agents (or tour operators) but the agent ID was not recorded."
      ]
    },
    {
      "cell_type": "code",
      "execution_count": null,
      "metadata": {},
      "outputs": [],
      "source": [
        "summary = value_counts_and_percentages(df[df['agent'].isna()].drop_duplicates(), ['distribution_channel'])\n",
        "summary"
      ]
    },
    {
      "cell_type": "markdown",
      "metadata": {},
      "source": [
        "Similarly, some bookings were made by companies but the company ID was not recorded."
      ]
    },
    {
      "cell_type": "code",
      "execution_count": null,
      "metadata": {},
      "outputs": [],
      "source": [
        "summary = value_counts_and_percentages(df[df['company'].isna()].drop_duplicates(), ['distribution_channel'])\n",
        "summary"
      ]
    },
    {
      "cell_type": "markdown",
      "metadata": {},
      "source": [
        "Since these columns contain numeric identifiers for each agent/company, a value of zero could be used to represent 'not specified' if it doesn't already exist.\n",
        "\n",
        "Let's check if zero is already a category"
      ]
    },
    {
      "cell_type": "code",
      "execution_count": null,
      "metadata": {},
      "outputs": [],
      "source": [
        "print('Agent 0 exists:', (df['agent'] == 0).any())\n",
        "print('Company 0 exists:', (df['company'] == 0).any())"
      ]
    },
    {
      "cell_type": "markdown",
      "metadata": {},
      "source": [
        "Since neither features have a category of zero, this category will be created and used for when the agent/company is not specified."
      ]
    },
    {
      "cell_type": "code",
      "execution_count": null,
      "metadata": {},
      "outputs": [],
      "source": [
        "df['agent'] = df['agent'].cat.add_categories([0]).fillna(0)\n",
        "df['company'] = df['company'].cat.add_categories([0]).fillna(0)\n",
        "summarise_missing_data()"
      ]
    },
    {
      "cell_type": "markdown",
      "metadata": {},
      "source": [
        "---"
      ]
    },
    {
      "cell_type": "markdown",
      "metadata": {},
      "source": [
        "## Handle Missing `country`"
      ]
    },
    {
      "cell_type": "markdown",
      "metadata": {},
      "source": [
        "Since it is common for hotels not to know the correct nationality of guests until the moment of check-in, we will check whether missing values are associated with cancelled bookings."
      ]
    },
    {
      "cell_type": "code",
      "execution_count": null,
      "metadata": {},
      "outputs": [],
      "source": [
        "summary = value_counts_and_percentages(df[df['country'].isna()].drop_duplicates(), ['reservation_status'])\n",
        "summary"
      ]
    },
    {
      "cell_type": "markdown",
      "metadata": {},
      "source": [
        "Only ~7% of missing values are associated with guests who did not check-in so check if the missing values come predominantly from one hotel."
      ]
    },
    {
      "cell_type": "code",
      "execution_count": null,
      "metadata": {},
      "outputs": [],
      "source": [
        "summary = value_counts_and_percentages(df[df['country'].isna()].drop_duplicates(), ['hotel'])\n",
        "summary"
      ]
    },
    {
      "cell_type": "markdown",
      "metadata": {},
      "source": [
        "Most missing values (99%) are associated with the Resort hotel so lets analyse the nationality of guests at the resort hotel."
      ]
    },
    {
      "cell_type": "code",
      "execution_count": null,
      "metadata": {},
      "outputs": [],
      "source": [
        "df_resort = df[df['hotel'] == 'Resort Hotel'].drop_duplicates()\n",
        "summary = value_counts_and_percentages(df_resort, ['country'])\n",
        "summary"
      ]
    },
    {
      "cell_type": "markdown",
      "metadata": {},
      "source": [
        "Most of the guests at the resort hotel are from Portugal but they still constitute less than half of the total guests. Therefore, it is not immediately obvious which country the guests with missing data are from.\n",
        "\n",
        "Since missing values constitutes a very small percentage of the data, these records will be dropped.\n",
        "\n",
        "**ACTION:** Drop"
      ]
    },
    {
      "cell_type": "code",
      "execution_count": null,
      "metadata": {},
      "outputs": [],
      "source": [
        "df.dropna(subset=['country'], inplace=True)\n",
        "summarise_missing_data()"
      ]
    },
    {
      "cell_type": "markdown",
      "metadata": {},
      "source": [
        "# Duplicate Records"
      ]
    },
    {
      "cell_type": "markdown",
      "metadata": {},
      "source": [
        "## Overview"
      ]
    },
    {
      "cell_type": "markdown",
      "metadata": {},
      "source": [
        "View extent of duplicated records"
      ]
    },
    {
      "cell_type": "code",
      "execution_count": null,
      "metadata": {},
      "outputs": [],
      "source": [
        "total_count = df.shape[0]\n",
        "\n",
        "unique_count = df.drop_duplicates(keep=False).shape[0]\n",
        "unique_percent = round(100*unique_count/total_count,1)\n",
        "\n",
        "duplicated_count = df.duplicated(keep=False).sum()\n",
        "duplicated_percent = round(100*duplicated_count/total_count,1)\n",
        "\n",
        "print(f'Total Records: {total_count}')\n",
        "print(f'Unique Records: {unique_count} ({unique_percent}%)')\n",
        "print(f'Records with duplicates: {duplicated_count} ({duplicated_percent}%)')"
      ]
    },
    {
      "cell_type": "markdown",
      "metadata": {},
      "source": [
        "Group duplicate records and count the number in each group"
      ]
    },
    {
      "cell_type": "code",
      "execution_count": null,
      "metadata": {},
      "outputs": [],
      "source": [
        "grouped_records = df.value_counts().reset_index(name=\"count\")\n",
        "\n",
        "unique_records = grouped_records[grouped_records['count']==1]\n",
        "duplicate_groups = grouped_records[grouped_records['count']>1]\n",
        "\n",
        "print('Number of unique records:', unique_records.shape[0])\n",
        "print('Number of distinct duplicate record groups:', duplicate_groups.shape[0])"
      ]
    },
    {
      "cell_type": "markdown",
      "metadata": {},
      "source": [
        "Show distribution for numbers of duplicates in each group"
      ]
    },
    {
      "cell_type": "code",
      "execution_count": null,
      "metadata": {},
      "outputs": [],
      "source": [
        "sns.histplot(data=duplicate_groups, x='count', binwidth=5)"
      ]
    },
    {
      "cell_type": "markdown",
      "metadata": {},
      "source": [
        "View these as percentages for most common group sizes"
      ]
    },
    {
      "cell_type": "code",
      "execution_count": null,
      "metadata": {},
      "outputs": [],
      "source": [
        "summary = value_counts_and_percentages(duplicate_groups, ['count'])\n",
        "summary.head(10)"
      ]
    },
    {
      "cell_type": "markdown",
      "metadata": {},
      "source": [
        "Nearly all of the duplicate records have less than 30 exact duplicates with the vast majority of these with between 1 and 5 duplicates. It is not implausible that a small number of independent records could have identical information, especially if the hotels are large and bookings were made in response to advertised special offers. However, it is highly unlikely that more than 5 independent bookings should have exactly the same information and these would likely be system errors.\n",
        "\n",
        "However, the duplicates could be explained by the booking behaviours of travel agents (e.g. bulk reservations or group bookings) so further investigation is needed."
      ]
    },
    {
      "cell_type": "markdown",
      "metadata": {},
      "source": [
        " ## Top Ten Duplicated Individual Records"
      ]
    },
    {
      "cell_type": "markdown",
      "metadata": {},
      "source": [
        "View extent of duplication for individual records (see `count` - far right column)."
      ]
    },
    {
      "cell_type": "code",
      "execution_count": null,
      "metadata": {},
      "outputs": [],
      "source": [
        "duplicate_groups.head(10)"
      ]
    },
    {
      "cell_type": "markdown",
      "metadata": {},
      "source": [
        "The following similarities are observed:\n",
        "- same hotel (City)\n",
        "- all were cancelled\n",
        "- short stays (1 to 3 nights) predominantly mid-week\n",
        "- no children or babies\n",
        "- same meal type (BB)\n",
        "- all booked through travel agents or corporate organisations\n",
        "- none are repeated guests\n",
        "- same reserved and assigned room type (A)\n",
        "- no booking changes\n",
        "- non refundable deposits\n",
        "- three from the same agent (37)\n",
        "- no special requests\n",
        "\n",
        "These are most likely all group bookings or bulk reservations where each room is recorded as a separate record and the rooms were later cancelled in bulk. This theory is supported by the fact that all of the records above have **deposit_type='Non Refund'** - this is the minority class in the context of the whole dataset and suggests that the hotel may be expecting these bookings to later be cancelled.\n",
        "\n",
        "However, only half of these records have been assigned as 'Groups' under `market_segment` with others preferring to label them as Offline bookings from travel agents. Perhaps the offline bookings were also group bookings or perhaps they represent travel agents making bulk reservations to secure the rooms.\n",
        "\n",
        "Since no booking reference IDs are included in the dataset, it is impossible to know whether these duplicate records relate to the same booking instance. Further investigation is needed to determine whether the duplicates follow identifiable patterns or are simply random noise."
      ]
    },
    {
      "cell_type": "markdown",
      "metadata": {},
      "source": [
        "## Distributions for Different Duplication Size Bins"
      ]
    },
    {
      "cell_type": "markdown",
      "metadata": {},
      "source": [
        "Create `dup_category` variable for comparing different levels of duplication"
      ]
    },
    {
      "cell_type": "code",
      "execution_count": null,
      "metadata": {},
      "outputs": [],
      "source": [
        "bins = [0, 1, 5, 10, 20, 50, 100, float('inf')]\n",
        "labels = [\n",
        "    'unique records (1)',\n",
        "    'very low (2-5)',\n",
        "    'low (6-10)',\n",
        "    'medium (11-20)',\n",
        "    'high (21-50)',\n",
        "    'very high (51-100)',\n",
        "    'extremely high (>100)'\n",
        "]\n",
        "\n",
        "# Assign each row to a duplication category\n",
        "grouped_records['dup_category'] = pd.cut(grouped_records['count'], bins=bins, labels=labels)\n",
        "\n",
        "# Show relative proportions\n",
        "summary = value_counts_and_percentages(grouped_records, ['dup_category'])\n",
        "summary"
      ]
    },
    {
      "cell_type": "markdown",
      "metadata": {},
      "source": [
        "*Note the small sample sizes for 'very high' and 'extremely high' categories. Caution is needed when interpreting these groups.*"
      ]
    },
    {
      "cell_type": "markdown",
      "metadata": {},
      "source": [
        "Define function to assist with generating comparison plots"
      ]
    },
    {
      "cell_type": "code",
      "execution_count": null,
      "metadata": {},
      "outputs": [],
      "source": [
        "def generate_group_percentage_plots(data, group_by, target_feature, save_file_path=None):\n",
        "    # Count combinations\n",
        "    counts = (data.groupby([group_by, target_feature], observed=True).size().reset_index(name='count'))\n",
        "\n",
        "    # Calculate percentages within each dup_category\n",
        "    counts['percentage'] = counts.groupby(group_by, observed=True)['count'].transform(lambda x: x / x.sum() * 100)\n",
        "\n",
        "    # Plot\n",
        "    plt.figure(figsize=(10,6))\n",
        "    sns.barplot(data=counts, x=group_by, y='percentage', hue=target_feature, palette='Set1')\n",
        "    plt.xticks(rotation=45)\n",
        "    plt.xlabel('Size of Duplicate Group')\n",
        "    plt.ylabel('Percentage')\n",
        "    plt.title(f\"Percentage {target_feature} by duplicate group size\")\n",
        "    plt.legend(title=target_feature)\n",
        "    plt.tight_layout()\n",
        "    \n",
        "    if save_file_path:\n",
        "        plt.savefig(save_file_path, bbox_inches='tight')\n",
        "        print(f'SUCCESS: Image saved at {save_file_path}')\n",
        "    \n",
        "    plt.show()"
      ]
    },
    {
      "cell_type": "markdown",
      "metadata": {},
      "source": [
        "### Analyse `dup_category` by Market Segments"
      ]
    },
    {
      "cell_type": "code",
      "execution_count": null,
      "metadata": {},
      "outputs": [],
      "source": [
        "generate_group_percentage_plots(grouped_records, 'dup_category', 'market_segment')"
      ]
    },
    {
      "cell_type": "markdown",
      "metadata": {},
      "source": [
        "'Groups' and 'Offline TA/TO' become more prominant in larger duplicate group sizes which supports the theory that duplicate records are largely group bookings by travel agents."
      ]
    },
    {
      "cell_type": "markdown",
      "metadata": {},
      "source": [
        "### Analyse `dup_category` by Distribution Channel"
      ]
    },
    {
      "cell_type": "code",
      "execution_count": null,
      "metadata": {},
      "outputs": [],
      "source": [
        "generate_group_percentage_plots(grouped_records, 'dup_category', 'distribution_channel')"
      ]
    },
    {
      "cell_type": "markdown",
      "metadata": {},
      "source": [
        "Similar proportions for distribution channels are observed in each duplicate group category. There is perhaps a small increase in the proportion of bookings made by travel agents but the percentage of these bookings is already very high and differences may not be statistically significant."
      ]
    },
    {
      "cell_type": "markdown",
      "metadata": {},
      "source": [
        "### Duplicated records by `agent`"
      ]
    },
    {
      "cell_type": "markdown",
      "metadata": {},
      "source": [
        "View top 10 agents by number of *different* duplicated records"
      ]
    },
    {
      "cell_type": "code",
      "execution_count": null,
      "metadata": {},
      "outputs": [],
      "source": [
        "duplicate_groups['agent'].value_counts().head(10)"
      ]
    },
    {
      "cell_type": "markdown",
      "metadata": {},
      "source": [
        "View top 10 agents by total number of duplicated records"
      ]
    },
    {
      "cell_type": "code",
      "execution_count": null,
      "metadata": {},
      "outputs": [],
      "source": [
        "duplicate_groups.groupby('agent', observed=True)['count'].sum().sort_values(ascending=False).head(10)"
      ]
    },
    {
      "cell_type": "markdown",
      "metadata": {},
      "source": [
        "Duplicate records are not distributed randomly between agents but tend to focus on certain big players (especially those with IDs of 1, 9, 6, 240 and 3). This suggests that the duplicates can be explained by the booking behaviours of these agents."
      ]
    },
    {
      "cell_type": "markdown",
      "metadata": {},
      "source": [
        "### Duplicated Records by Cancellation Rates"
      ]
    },
    {
      "cell_type": "markdown",
      "metadata": {},
      "source": [
        "Investigate relationship between cancellations and duplicate records"
      ]
    },
    {
      "cell_type": "code",
      "execution_count": null,
      "metadata": {},
      "outputs": [],
      "source": [
        "generate_group_percentage_plots(grouped_records, 'dup_category', 'reservation_status')"
      ]
    },
    {
      "cell_type": "markdown",
      "metadata": {},
      "source": [
        "The cancellation rate increases with the level of duplication. This also suggests that the duplicates are not just random errors in the data collation process but likely relates to real booking behaviour and administrative workflows."
      ]
    },
    {
      "cell_type": "markdown",
      "metadata": {},
      "source": [
        "## Conclusions"
      ]
    },
    {
      "cell_type": "markdown",
      "metadata": {},
      "source": [
        "Analysis of duplicate records suggests that they can most likely be explained by the booking behaviours of travel agents. It is likely that bookings were made by travel agents to secure availability and then later cancelled if not needed. Analysis of the market segments suggests that many of these could be explained by group bookings.\n",
        "\n",
        "It is impossible to be sure without learning more about the administrative workflows used by the hotels and travel agents and some of the duplicates may still be the result of errors when collating the data.\n",
        "\n",
        "Since the number of duplicated records clearly correlates with cancellation rates, it would be useful to keep information about whether the record is unique or has many duplicates. However, having duplicated observations would cause data leakage when splitting the data into train and test sets for training the model later.\n",
        "\n",
        "**ACTION:** Save two different versions of the cleaned data:\n",
        "1. **cleaned_all_records.csv:** useful for analysis\n",
        "2. **cleaned_deduplicated.csv:** useful for training the ML model\n",
        "\n",
        "*The second of these files would include a new `record_count` feature.*"
      ]
    },
    {
      "cell_type": "code",
      "execution_count": null,
      "metadata": {},
      "outputs": [],
      "source": [
        "df_cleaned_all = df.copy()\n",
        "df_cleaned_deduplicated = df.value_counts().reset_index(name=\"record_count\")"
      ]
    },
    {
      "cell_type": "markdown",
      "metadata": {},
      "source": [
        "Check df_cleaned_deduplicated looks correct"
      ]
    },
    {
      "cell_type": "code",
      "execution_count": null,
      "metadata": {},
      "outputs": [],
      "source": [
        "df_cleaned_deduplicated"
      ]
    },
    {
      "cell_type": "markdown",
      "metadata": {},
      "source": [
        "# Push files to Repo"
      ]
    },
    {
      "cell_type": "markdown",
      "metadata": {},
      "source": [
        "Set version number for outputs directory"
      ]
    },
    {
      "cell_type": "code",
      "execution_count": null,
      "metadata": {},
      "outputs": [],
      "source": [
        "version = 'v1'"
      ]
    },
    {
      "cell_type": "markdown",
      "metadata": {},
      "source": [
        "Create output directory with that version number"
      ]
    },
    {
      "cell_type": "code",
      "execution_count": null,
      "metadata": {},
      "outputs": [],
      "source": [
        "outputs_v_dir = project_root / 'outputs' / version\n",
        "\n",
        "if outputs_v_dir.is_dir():\n",
        "    raise FileExistsError(\n",
        "        f'Output directory already exists at: {outputs_v_dir}\\n'\n",
        "        'Please create a new version.'\n",
        "    )\n",
        "else:\n",
        "    # Create outputs-version directory\n",
        "    outputs_v_dir.mkdir(parents=True, exist_ok=False)\n",
        "    print(f'SUCCESS: New directory created at: {outputs_v_dir}')\n"
      ]
    },
    {
      "cell_type": "markdown",
      "metadata": {},
      "source": [
        "Save cleaned data"
      ]
    },
    {
      "cell_type": "code",
      "execution_count": null,
      "metadata": {},
      "outputs": [],
      "source": [
        "dataset_cleaned_dir = outputs_v_dir / 'datasets' / 'cleaned'\n",
        "\n",
        "if dataset_cleaned_dir.is_dir():\n",
        "    raise FileExistsError(\n",
        "        f'Output directory already exists at: {dataset_cleaned_dir}\\n'\n",
        "        'Create a new version or delete the existing folder before rerunning.'\n",
        "    )\n",
        "else:\n",
        "    # Create directory for cleaned datasets\n",
        "    dataset_cleaned_dir.mkdir(parents=True, exist_ok=False)\n",
        "\n",
        "    # Save cleaned datasets as csv files\n",
        "    df_cleaned_all.to_csv(dataset_cleaned_dir / 'cleaned_all_records.csv', index=False)\n",
        "    df_cleaned_deduplicated.to_csv(dataset_cleaned_dir / 'cleaned_deduplicated.csv', index=False)\n",
        "\n",
        "    # Confirmation message\n",
        "    print(f'SUCCESS: Cleaned datasets saved in {dataset_cleaned_dir}')"
      ]
    },
    {
      "cell_type": "markdown",
      "metadata": {},
      "source": [
        "Create images directory for saving images to be used on the dashboard\n"
      ]
    },
    {
      "cell_type": "code",
      "execution_count": null,
      "metadata": {},
      "outputs": [],
      "source": [
        "images_dir = outputs_v_dir / 'images'\n",
        "images_dir.mkdir(parents=True, exist_ok=True)"
      ]
    },
    {
      "cell_type": "markdown",
      "metadata": {},
      "source": [
        "Save images"
      ]
    },
    {
      "cell_type": "code",
      "execution_count": null,
      "metadata": {},
      "outputs": [],
      "source": [
        "file_path = images_dir / 'market_segments_by_dup_category.png'\n",
        "generate_group_percentage_plots(grouped_records, 'dup_category', 'market_segment', save_file_path=file_path)"
      ]
    },
    {
      "cell_type": "code",
      "execution_count": null,
      "metadata": {},
      "outputs": [],
      "source": [
        "file_path = images_dir / 'cancellations_by_dup_category.png'\n",
        "generate_group_percentage_plots(grouped_records, 'dup_category', 'is_canceled', save_file_path=file_path)"
      ]
    }
  ],
  "metadata": {
    "accelerator": "GPU",
    "colab": {
      "name": "Data Practitioner Jupyter Notebook.ipynb",
      "provenance": [],
      "toc_visible": true
    },
    "kernelspec": {
      "display_name": ".venv",
      "language": "python",
      "name": "python3"
    },
    "language_info": {
      "codemirror_mode": {
        "name": "ipython",
        "version": 3
      },
      "file_extension": ".py",
      "mimetype": "text/x-python",
      "name": "python",
      "nbconvert_exporter": "python",
      "pygments_lexer": "ipython3",
      "version": "3.12.8"
    },
    "orig_nbformat": 2
  },
  "nbformat": 4,
  "nbformat_minor": 2
}
