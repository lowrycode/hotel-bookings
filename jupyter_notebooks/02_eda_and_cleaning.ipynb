{
  "cells": [
    {
      "cell_type": "markdown",
      "metadata": {
        "id": "0aStgWSO0E0E"
      },
      "source": [
        "# **EDA AND DATA CLEANING NOTEBOOK**"
      ]
    },
    {
      "cell_type": "markdown",
      "metadata": {
        "id": "1eLEkw5O0ECa"
      },
      "source": [
        "## Objectives\n",
        "\n",
        "* Carry Out EDA relating to quality of data\n",
        "* Clean data and save for use in further analysis\n",
        "\n",
        "## Inputs\n",
        "\n",
        "* **Raw Dataset:** inputs/datasets/raw/hotel_bookings.csv\n",
        "\n",
        "## Outputs\n",
        "\n",
        "* **Cleaned Dataset:** outputs/datasets/collection/cleaned/cleaned.csv"
      ]
    },
    {
      "cell_type": "markdown",
      "metadata": {
        "id": "9uWZXH9LwoQg"
      },
      "source": [
        "---"
      ]
    },
    {
      "cell_type": "markdown",
      "metadata": {
        "id": "cqP-UeN-z3i2"
      },
      "source": [
        "# Import Packages and Load Data"
      ]
    },
    {
      "cell_type": "markdown",
      "metadata": {},
      "source": [
        "Imports"
      ]
    },
    {
      "cell_type": "code",
      "execution_count": null,
      "metadata": {
        "id": "wZfF_j-Bz3i4",
        "outputId": "66943449-1436-4c3d-85c7-b85f9f78349b"
      },
      "outputs": [],
      "source": [
        "%matplotlib inline\n",
        "import numpy as np\n",
        "import pandas as pd\n",
        "import matplotlib.pyplot as plt\n",
        "import seaborn as sns\n",
        "import plotly.express as px"
      ]
    },
    {
      "cell_type": "markdown",
      "metadata": {
        "id": "M_xPk_Ijz3i-"
      },
      "source": [
        "Load data"
      ]
    },
    {
      "cell_type": "code",
      "execution_count": null,
      "metadata": {
        "id": "vz3S-_kjz3jA",
        "outputId": "00b79ae4-75d0-4a96-d193-ac9ef9847ea2"
      },
      "outputs": [],
      "source": [
        "from pathlib import Path\n",
        "\n",
        "project_root = Path.cwd().parent\n",
        "dataset_file = project_root / 'inputs' / 'datasets' / 'raw' / 'hotel_bookings.csv'\n",
        "df = pd.read_csv(dataset_file)\n",
        "df.head(3)"
      ]
    },
    {
      "cell_type": "markdown",
      "metadata": {},
      "source": [
        "---"
      ]
    },
    {
      "cell_type": "markdown",
      "metadata": {},
      "source": [
        "# Convert Data Types"
      ]
    },
    {
      "cell_type": "markdown",
      "metadata": {},
      "source": [
        "View current data types"
      ]
    },
    {
      "cell_type": "code",
      "execution_count": null,
      "metadata": {},
      "outputs": [],
      "source": [
        "df.info()"
      ]
    },
    {
      "cell_type": "markdown",
      "metadata": {},
      "source": [
        "Convert data types ready for profiling report.\n",
        "- `Int64` allows for the missing values and is used for `children`, `agent` and `company` to remove decimal digits before converting to `category` type"
      ]
    },
    {
      "cell_type": "code",
      "execution_count": null,
      "metadata": {},
      "outputs": [],
      "source": [
        "df['hotel'] = df['hotel'].astype('category')\n",
        "df['is_canceled'] = df['is_canceled'].astype('bool')\n",
        "df['arrival_date_year'] = df['arrival_date_year'].astype('category')\n",
        "df['arrival_date_month'] = df['arrival_date_month'].astype('category')\n",
        "df['children'] = df['children'].astype('Int64')\n",
        "df['meal'] = df['meal'].astype('category')\n",
        "df['country'] = df['country'].astype('category')\n",
        "df['market_segment'] = df['market_segment'].astype('category')\n",
        "df['distribution_channel'] = df['distribution_channel'].astype('category')\n",
        "df['is_repeated_guest'] = df['is_repeated_guest'].astype('bool')\n",
        "df['reserved_room_type'] = df['reserved_room_type'].astype('category')\n",
        "df['assigned_room_type'] = df['assigned_room_type'].astype('category')\n",
        "df['deposit_type'] = df['deposit_type'].astype('category')\n",
        "df['agent'] = df['agent'].astype('Int64').astype('category')\n",
        "df['company'] = df['company'].astype('Int64').astype('category')\n",
        "df['customer_type'] = df['customer_type'].astype('category')\n",
        "df['reservation_status'] = df['reservation_status'].astype('category')\n",
        "df['reservation_status_date'] = pd.to_datetime(df['reservation_status_date'])\n",
        "\n",
        "df.info()"
      ]
    },
    {
      "cell_type": "markdown",
      "metadata": {
        "id": "-mavJ8DibrcQ"
      },
      "source": [
        "# Profile Report"
      ]
    },
    {
      "cell_type": "code",
      "execution_count": null,
      "metadata": {},
      "outputs": [],
      "source": [
        "from ydata_profiling import ProfileReport\n",
        "profile = ProfileReport(df.drop_duplicates(), title=\"Hotel Bookings Profile Report\", minimal=True)\n",
        "profile.to_notebook_iframe()"
      ]
    },
    {
      "cell_type": "markdown",
      "metadata": {},
      "source": [
        "The Profile Report alerts us to some possible data issues which require further exploration:\n",
        "- **Data Ranges:**\n",
        "  - `lead_time` shows two values over 600\n",
        "  - `stays_in_weekend_nights` shows some values over 10\n",
        "  - `stays_in_week_nights` shows some values over 30\n",
        "  - `adults` shows some values over 20\n",
        "  - `children` shows a high value of 10\n",
        "  - `babies` shows high values of 9 and 10\n",
        "  - `previous_cancellations` shows values over 20\n",
        "  - `previous_bookings_not_canceled` shows values over 60\n",
        "  - `booking_changes` shows values over 20\n",
        "  - `days_in_waiting_list` shows values over 300\n",
        "  - `adr` shows at least one negative value, many zero values and an incredibly high value of 5400\n",
        "  - `required_car_parking_spaces` shows a high value of 8\n",
        "  - `reservation_status_dates` that lie outside of the date range for when guests were due to arrive\n",
        "- **Undefined Values for Categorical Variables:**\n",
        "  - there are 'Undefined' values for `meal`, `market_segment`, `distribution_channel`\n",
        "- **Missing Values**\n",
        "  - there are missing values for `children`, `country`, `agent` and `company`"
      ]
    },
    {
      "cell_type": "markdown",
      "metadata": {
        "id": "ZY3l0-AxO93d"
      },
      "source": [
        "---"
      ]
    },
    {
      "cell_type": "markdown",
      "metadata": {},
      "source": [
        "# Exploring Anomalies and Inconsistencies"
      ]
    },
    {
      "cell_type": "markdown",
      "metadata": {},
      "source": [
        "## Function to assist analysis"
      ]
    },
    {
      "cell_type": "markdown",
      "metadata": {},
      "source": [
        "Define function for summarising value counts and percentages in a table"
      ]
    },
    {
      "cell_type": "code",
      "execution_count": 186,
      "metadata": {},
      "outputs": [],
      "source": [
        "def value_counts_and_percentages(df, filter_by_cols=None):\n",
        "    data = df[filter_by_cols] if filter_by_cols else df\n",
        "    df_count = data.value_counts(dropna=False)\n",
        "    df_percent = round(data.value_counts(normalize=True, dropna=False) * 100, 1)\n",
        "    summary = pd.concat([df_count, df_percent], axis=1)\n",
        "    summary.columns = ['Count', '%']\n",
        "    return summary"
      ]
    },
    {
      "cell_type": "markdown",
      "metadata": {},
      "source": [
        "## Remove 'Undefined' Values"
      ]
    },
    {
      "cell_type": "markdown",
      "metadata": {},
      "source": [
        "### Meal"
      ]
    },
    {
      "cell_type": "markdown",
      "metadata": {},
      "source": [
        "View categories"
      ]
    },
    {
      "cell_type": "code",
      "execution_count": 160,
      "metadata": {},
      "outputs": [
        {
          "data": {
            "text/html": [
              "<div>\n",
              "<style scoped>\n",
              "    .dataframe tbody tr th:only-of-type {\n",
              "        vertical-align: middle;\n",
              "    }\n",
              "\n",
              "    .dataframe tbody tr th {\n",
              "        vertical-align: top;\n",
              "    }\n",
              "\n",
              "    .dataframe thead th {\n",
              "        text-align: right;\n",
              "    }\n",
              "</style>\n",
              "<table border=\"1\" class=\"dataframe\">\n",
              "  <thead>\n",
              "    <tr style=\"text-align: right;\">\n",
              "      <th></th>\n",
              "      <th>Count</th>\n",
              "      <th>%</th>\n",
              "    </tr>\n",
              "    <tr>\n",
              "      <th>meal</th>\n",
              "      <th></th>\n",
              "      <th></th>\n",
              "    </tr>\n",
              "  </thead>\n",
              "  <tbody>\n",
              "    <tr>\n",
              "      <th>BB</th>\n",
              "      <td>92310</td>\n",
              "      <td>77.3</td>\n",
              "    </tr>\n",
              "    <tr>\n",
              "      <th>HB</th>\n",
              "      <td>14463</td>\n",
              "      <td>12.1</td>\n",
              "    </tr>\n",
              "    <tr>\n",
              "      <th>SC</th>\n",
              "      <td>10650</td>\n",
              "      <td>8.9</td>\n",
              "    </tr>\n",
              "    <tr>\n",
              "      <th>Undefined</th>\n",
              "      <td>1169</td>\n",
              "      <td>1.0</td>\n",
              "    </tr>\n",
              "    <tr>\n",
              "      <th>FB</th>\n",
              "      <td>798</td>\n",
              "      <td>0.7</td>\n",
              "    </tr>\n",
              "  </tbody>\n",
              "</table>\n",
              "</div>"
            ],
            "text/plain": [
              "           Count     %\n",
              "meal                  \n",
              "BB         92310  77.3\n",
              "HB         14463  12.1\n",
              "SC         10650   8.9\n",
              "Undefined   1169   1.0\n",
              "FB           798   0.7"
            ]
          },
          "execution_count": 160,
          "metadata": {},
          "output_type": "execute_result"
        }
      ],
      "source": [
        "summary = value_counts_and_percentages(df, ['meal'])\n",
        "summary"
      ]
    },
    {
      "cell_type": "markdown",
      "metadata": {},
      "source": [
        "Drop 'Undefined'"
      ]
    },
    {
      "cell_type": "code",
      "execution_count": 171,
      "metadata": {},
      "outputs": [
        {
          "data": {
            "text/html": [
              "<div>\n",
              "<style scoped>\n",
              "    .dataframe tbody tr th:only-of-type {\n",
              "        vertical-align: middle;\n",
              "    }\n",
              "\n",
              "    .dataframe tbody tr th {\n",
              "        vertical-align: top;\n",
              "    }\n",
              "\n",
              "    .dataframe thead th {\n",
              "        text-align: right;\n",
              "    }\n",
              "</style>\n",
              "<table border=\"1\" class=\"dataframe\">\n",
              "  <thead>\n",
              "    <tr style=\"text-align: right;\">\n",
              "      <th></th>\n",
              "      <th>Count</th>\n",
              "      <th>%</th>\n",
              "    </tr>\n",
              "    <tr>\n",
              "      <th>meal</th>\n",
              "      <th></th>\n",
              "      <th></th>\n",
              "    </tr>\n",
              "  </thead>\n",
              "  <tbody>\n",
              "    <tr>\n",
              "      <th>BB</th>\n",
              "      <td>92306</td>\n",
              "      <td>78.1</td>\n",
              "    </tr>\n",
              "    <tr>\n",
              "      <th>HB</th>\n",
              "      <td>14462</td>\n",
              "      <td>12.2</td>\n",
              "    </tr>\n",
              "    <tr>\n",
              "      <th>SC</th>\n",
              "      <td>10650</td>\n",
              "      <td>9.0</td>\n",
              "    </tr>\n",
              "    <tr>\n",
              "      <th>FB</th>\n",
              "      <td>798</td>\n",
              "      <td>0.7</td>\n",
              "    </tr>\n",
              "    <tr>\n",
              "      <th>Undefined</th>\n",
              "      <td>0</td>\n",
              "      <td>0.0</td>\n",
              "    </tr>\n",
              "  </tbody>\n",
              "</table>\n",
              "</div>"
            ],
            "text/plain": [
              "           Count     %\n",
              "meal                  \n",
              "BB         92306  78.1\n",
              "HB         14462  12.2\n",
              "SC         10650   9.0\n",
              "FB           798   0.7\n",
              "Undefined      0   0.0"
            ]
          },
          "execution_count": 171,
          "metadata": {},
          "output_type": "execute_result"
        }
      ],
      "source": [
        "# Drop rows with values of 'Undefined'\n",
        "condition = (df['meal'] == 'Undefined')\n",
        "df = df[~condition]\n",
        "\n",
        "# Check values have been dropped\n",
        "summary = value_counts_and_percentages(df, ['meal'])\n",
        "summary"
      ]
    },
    {
      "cell_type": "markdown",
      "metadata": {},
      "source": [
        "### Market Segment"
      ]
    },
    {
      "cell_type": "markdown",
      "metadata": {},
      "source": [
        "View categories"
      ]
    },
    {
      "cell_type": "code",
      "execution_count": 162,
      "metadata": {},
      "outputs": [
        {
          "data": {
            "text/html": [
              "<div>\n",
              "<style scoped>\n",
              "    .dataframe tbody tr th:only-of-type {\n",
              "        vertical-align: middle;\n",
              "    }\n",
              "\n",
              "    .dataframe tbody tr th {\n",
              "        vertical-align: top;\n",
              "    }\n",
              "\n",
              "    .dataframe thead th {\n",
              "        text-align: right;\n",
              "    }\n",
              "</style>\n",
              "<table border=\"1\" class=\"dataframe\">\n",
              "  <thead>\n",
              "    <tr style=\"text-align: right;\">\n",
              "      <th></th>\n",
              "      <th>Count</th>\n",
              "      <th>%</th>\n",
              "    </tr>\n",
              "    <tr>\n",
              "      <th>market_segment</th>\n",
              "      <th></th>\n",
              "      <th></th>\n",
              "    </tr>\n",
              "  </thead>\n",
              "  <tbody>\n",
              "    <tr>\n",
              "      <th>Online TA</th>\n",
              "      <td>56461</td>\n",
              "      <td>47.8</td>\n",
              "    </tr>\n",
              "    <tr>\n",
              "      <th>Offline TA/TO</th>\n",
              "      <td>23961</td>\n",
              "      <td>20.3</td>\n",
              "    </tr>\n",
              "    <tr>\n",
              "      <th>Groups</th>\n",
              "      <td>19010</td>\n",
              "      <td>16.1</td>\n",
              "    </tr>\n",
              "    <tr>\n",
              "      <th>Direct</th>\n",
              "      <td>12533</td>\n",
              "      <td>10.6</td>\n",
              "    </tr>\n",
              "    <tr>\n",
              "      <th>Corporate</th>\n",
              "      <td>5280</td>\n",
              "      <td>4.5</td>\n",
              "    </tr>\n",
              "    <tr>\n",
              "      <th>Complementary</th>\n",
              "      <td>737</td>\n",
              "      <td>0.6</td>\n",
              "    </tr>\n",
              "    <tr>\n",
              "      <th>Aviation</th>\n",
              "      <td>237</td>\n",
              "      <td>0.2</td>\n",
              "    </tr>\n",
              "    <tr>\n",
              "      <th>Undefined</th>\n",
              "      <td>2</td>\n",
              "      <td>0.0</td>\n",
              "    </tr>\n",
              "  </tbody>\n",
              "</table>\n",
              "</div>"
            ],
            "text/plain": [
              "                Count     %\n",
              "market_segment             \n",
              "Online TA       56461  47.8\n",
              "Offline TA/TO   23961  20.3\n",
              "Groups          19010  16.1\n",
              "Direct          12533  10.6\n",
              "Corporate        5280   4.5\n",
              "Complementary     737   0.6\n",
              "Aviation          237   0.2\n",
              "Undefined           2   0.0"
            ]
          },
          "execution_count": 162,
          "metadata": {},
          "output_type": "execute_result"
        }
      ],
      "source": [
        "summary = value_counts_and_percentages(df, ['market_segment'])\n",
        "summary"
      ]
    },
    {
      "cell_type": "markdown",
      "metadata": {},
      "source": [
        "Drop 'Undefined'"
      ]
    },
    {
      "cell_type": "code",
      "execution_count": 163,
      "metadata": {},
      "outputs": [
        {
          "data": {
            "text/html": [
              "<div>\n",
              "<style scoped>\n",
              "    .dataframe tbody tr th:only-of-type {\n",
              "        vertical-align: middle;\n",
              "    }\n",
              "\n",
              "    .dataframe tbody tr th {\n",
              "        vertical-align: top;\n",
              "    }\n",
              "\n",
              "    .dataframe thead th {\n",
              "        text-align: right;\n",
              "    }\n",
              "</style>\n",
              "<table border=\"1\" class=\"dataframe\">\n",
              "  <thead>\n",
              "    <tr style=\"text-align: right;\">\n",
              "      <th></th>\n",
              "      <th>Count</th>\n",
              "      <th>%</th>\n",
              "    </tr>\n",
              "    <tr>\n",
              "      <th>market_segment</th>\n",
              "      <th></th>\n",
              "      <th></th>\n",
              "    </tr>\n",
              "  </thead>\n",
              "  <tbody>\n",
              "    <tr>\n",
              "      <th>Online TA</th>\n",
              "      <td>56461</td>\n",
              "      <td>47.8</td>\n",
              "    </tr>\n",
              "    <tr>\n",
              "      <th>Offline TA/TO</th>\n",
              "      <td>23961</td>\n",
              "      <td>20.3</td>\n",
              "    </tr>\n",
              "    <tr>\n",
              "      <th>Groups</th>\n",
              "      <td>19010</td>\n",
              "      <td>16.1</td>\n",
              "    </tr>\n",
              "    <tr>\n",
              "      <th>Direct</th>\n",
              "      <td>12533</td>\n",
              "      <td>10.6</td>\n",
              "    </tr>\n",
              "    <tr>\n",
              "      <th>Corporate</th>\n",
              "      <td>5280</td>\n",
              "      <td>4.5</td>\n",
              "    </tr>\n",
              "    <tr>\n",
              "      <th>Complementary</th>\n",
              "      <td>737</td>\n",
              "      <td>0.6</td>\n",
              "    </tr>\n",
              "    <tr>\n",
              "      <th>Aviation</th>\n",
              "      <td>237</td>\n",
              "      <td>0.2</td>\n",
              "    </tr>\n",
              "    <tr>\n",
              "      <th>Undefined</th>\n",
              "      <td>0</td>\n",
              "      <td>0.0</td>\n",
              "    </tr>\n",
              "  </tbody>\n",
              "</table>\n",
              "</div>"
            ],
            "text/plain": [
              "                Count     %\n",
              "market_segment             \n",
              "Online TA       56461  47.8\n",
              "Offline TA/TO   23961  20.3\n",
              "Groups          19010  16.1\n",
              "Direct          12533  10.6\n",
              "Corporate        5280   4.5\n",
              "Complementary     737   0.6\n",
              "Aviation          237   0.2\n",
              "Undefined           0   0.0"
            ]
          },
          "execution_count": 163,
          "metadata": {},
          "output_type": "execute_result"
        }
      ],
      "source": [
        "# Drop rows with values of 'Undefined'\n",
        "condition = (df['market_segment'] == 'Undefined')\n",
        "df = df[~condition]\n",
        "\n",
        "# Check values have been dropped\n",
        "summary = value_counts_and_percentages(df, ['market_segment'])\n",
        "summary"
      ]
    },
    {
      "cell_type": "markdown",
      "metadata": {},
      "source": [
        "### Distribution Channel"
      ]
    },
    {
      "cell_type": "markdown",
      "metadata": {},
      "source": [
        "View categories"
      ]
    },
    {
      "cell_type": "code",
      "execution_count": 164,
      "metadata": {},
      "outputs": [
        {
          "data": {
            "text/html": [
              "<div>\n",
              "<style scoped>\n",
              "    .dataframe tbody tr th:only-of-type {\n",
              "        vertical-align: middle;\n",
              "    }\n",
              "\n",
              "    .dataframe tbody tr th {\n",
              "        vertical-align: top;\n",
              "    }\n",
              "\n",
              "    .dataframe thead th {\n",
              "        text-align: right;\n",
              "    }\n",
              "</style>\n",
              "<table border=\"1\" class=\"dataframe\">\n",
              "  <thead>\n",
              "    <tr style=\"text-align: right;\">\n",
              "      <th></th>\n",
              "      <th>Count</th>\n",
              "      <th>%</th>\n",
              "    </tr>\n",
              "    <tr>\n",
              "      <th>distribution_channel</th>\n",
              "      <th></th>\n",
              "      <th></th>\n",
              "    </tr>\n",
              "  </thead>\n",
              "  <tbody>\n",
              "    <tr>\n",
              "      <th>TA/TO</th>\n",
              "      <td>97021</td>\n",
              "      <td>82.1</td>\n",
              "    </tr>\n",
              "    <tr>\n",
              "      <th>Direct</th>\n",
              "      <td>14372</td>\n",
              "      <td>12.2</td>\n",
              "    </tr>\n",
              "    <tr>\n",
              "      <th>Corporate</th>\n",
              "      <td>6630</td>\n",
              "      <td>5.6</td>\n",
              "    </tr>\n",
              "    <tr>\n",
              "      <th>GDS</th>\n",
              "      <td>193</td>\n",
              "      <td>0.2</td>\n",
              "    </tr>\n",
              "    <tr>\n",
              "      <th>Undefined</th>\n",
              "      <td>3</td>\n",
              "      <td>0.0</td>\n",
              "    </tr>\n",
              "  </tbody>\n",
              "</table>\n",
              "</div>"
            ],
            "text/plain": [
              "                      Count     %\n",
              "distribution_channel             \n",
              "TA/TO                 97021  82.1\n",
              "Direct                14372  12.2\n",
              "Corporate              6630   5.6\n",
              "GDS                     193   0.2\n",
              "Undefined                 3   0.0"
            ]
          },
          "execution_count": 164,
          "metadata": {},
          "output_type": "execute_result"
        }
      ],
      "source": [
        "summary = value_counts_and_percentages(df, ['distribution_channel'])\n",
        "summary"
      ]
    },
    {
      "cell_type": "markdown",
      "metadata": {},
      "source": [
        "Drop 'Undefined'"
      ]
    },
    {
      "cell_type": "code",
      "execution_count": 165,
      "metadata": {},
      "outputs": [
        {
          "data": {
            "text/html": [
              "<div>\n",
              "<style scoped>\n",
              "    .dataframe tbody tr th:only-of-type {\n",
              "        vertical-align: middle;\n",
              "    }\n",
              "\n",
              "    .dataframe tbody tr th {\n",
              "        vertical-align: top;\n",
              "    }\n",
              "\n",
              "    .dataframe thead th {\n",
              "        text-align: right;\n",
              "    }\n",
              "</style>\n",
              "<table border=\"1\" class=\"dataframe\">\n",
              "  <thead>\n",
              "    <tr style=\"text-align: right;\">\n",
              "      <th></th>\n",
              "      <th>Count</th>\n",
              "      <th>%</th>\n",
              "    </tr>\n",
              "    <tr>\n",
              "      <th>distribution_channel</th>\n",
              "      <th></th>\n",
              "      <th></th>\n",
              "    </tr>\n",
              "  </thead>\n",
              "  <tbody>\n",
              "    <tr>\n",
              "      <th>TA/TO</th>\n",
              "      <td>97021</td>\n",
              "      <td>82.1</td>\n",
              "    </tr>\n",
              "    <tr>\n",
              "      <th>Direct</th>\n",
              "      <td>14372</td>\n",
              "      <td>12.2</td>\n",
              "    </tr>\n",
              "    <tr>\n",
              "      <th>Corporate</th>\n",
              "      <td>6630</td>\n",
              "      <td>5.6</td>\n",
              "    </tr>\n",
              "    <tr>\n",
              "      <th>GDS</th>\n",
              "      <td>193</td>\n",
              "      <td>0.2</td>\n",
              "    </tr>\n",
              "    <tr>\n",
              "      <th>Undefined</th>\n",
              "      <td>0</td>\n",
              "      <td>0.0</td>\n",
              "    </tr>\n",
              "  </tbody>\n",
              "</table>\n",
              "</div>"
            ],
            "text/plain": [
              "                      Count     %\n",
              "distribution_channel             \n",
              "TA/TO                 97021  82.1\n",
              "Direct                14372  12.2\n",
              "Corporate              6630   5.6\n",
              "GDS                     193   0.2\n",
              "Undefined                 0   0.0"
            ]
          },
          "execution_count": 165,
          "metadata": {},
          "output_type": "execute_result"
        }
      ],
      "source": [
        "# Drop rows with values of 'Undefined'\n",
        "condition = (df['distribution_channel'] == 'Undefined')\n",
        "df = df[~condition]\n",
        "\n",
        "# Check values have been dropped\n",
        "summary = value_counts_and_percentages(df, ['distribution_channel'])\n",
        "summary"
      ]
    },
    {
      "cell_type": "markdown",
      "metadata": {},
      "source": [
        "## Lead Time"
      ]
    },
    {
      "cell_type": "markdown",
      "metadata": {},
      "source": [
        "Show distribution"
      ]
    },
    {
      "cell_type": "code",
      "execution_count": null,
      "metadata": {},
      "outputs": [],
      "source": [
        "sns.histplot(df, x='lead_time')"
      ]
    },
    {
      "cell_type": "markdown",
      "metadata": {},
      "source": [
        "Analyse values over 600"
      ]
    },
    {
      "cell_type": "code",
      "execution_count": null,
      "metadata": {},
      "outputs": [],
      "source": [
        "cols = ['hotel', 'lead_time', 'arrival_date_year', 'arrival_date_month', 'arrival_date_week_number', 'stays_in_weekend_nights',\n",
        "        'stays_in_week_nights', 'meal', 'market_segment', 'distribution_channel', 'agent', 'company','is_repeated_guest',\n",
        "        'reserved_room_type','assigned_room_type', 'deposit_type', 'days_in_waiting_list',\n",
        "        'customer_type', 'adr', 'required_car_parking_spaces', 'total_of_special_requests', 'reservation_status', 'reservation_status_date']\n",
        "cols = df.columns\n",
        "data = df[df['lead_time'] > 600][cols].value_counts(dropna=False)\n",
        "pd.DataFrame(data)"
      ]
    },
    {
      "cell_type": "markdown",
      "metadata": {},
      "source": [
        "The bookings with lead times between 600 and 700 share a number of similarities:\n",
        "- same hotel (City Hotel)\n",
        "- same travel agent\n",
        "- for off-peak seasons\n",
        "- all group bookings\n",
        "- same room type and meal plan\n",
        "- adr within 58-63 range\n",
        "- resulted in cancelled bookings\n",
        "\n",
        "The bookings with lead times above 700 also share a number of similarities:\n",
        "- same hotel (resort hotel)\n",
        "- direct bookings\n",
        "- were not cancelled\n",
        "\n",
        "They are also both unusual in different ways:\n",
        "- one has no overnight stays (either weekdays or weekends) and an adr of 0\n",
        "  - NOTE: a deeper analysis of adr=0 follows later\n",
        "- one has 28 overnight stays (i.e. 4 weeks)\n",
        "\n",
        "These bookings do not appear to be random anomalies but rather coherent subsets of bookings. They are also not too much higher than other lead time values.\n",
        "\n",
        "**ACTION:** keep all records"
      ]
    },
    {
      "cell_type": "markdown",
      "metadata": {},
      "source": [
        "## Overnight Stays"
      ]
    },
    {
      "cell_type": "markdown",
      "metadata": {},
      "source": [
        "Add a calculated `total_nights` variable to assist in analysis"
      ]
    },
    {
      "cell_type": "code",
      "execution_count": 172,
      "metadata": {},
      "outputs": [],
      "source": [
        "df_nights = df.copy().drop_duplicates()\n",
        "df_nights['total_nights'] = df_nights['stays_in_weekend_nights'] + df['stays_in_week_nights']"
      ]
    },
    {
      "cell_type": "markdown",
      "metadata": {},
      "source": [
        "### Check consistency between `stays_in_weekend_nights` and `stays_in_week_nights`"
      ]
    },
    {
      "cell_type": "markdown",
      "metadata": {},
      "source": [
        "By calculating the weeks that a guest stayed using `stays_in_weekend_nights` and `stays_in_week_nights`, we can check that the difference is never greater than 1."
      ]
    },
    {
      "cell_type": "code",
      "execution_count": null,
      "metadata": {},
      "outputs": [],
      "source": [
        "# Create columns for weeks calculated by weekday nights and weekend nights\n",
        "df_nights['weekend_weeks'] = df_nights['stays_in_weekend_nights'] / 2\n",
        "df_nights['weekday_weeks'] = df_nights['stays_in_week_nights'] / 5\n",
        "\n",
        "# If consistent, the difference between weekend_weeks and weekday_weeks should be <= 1\n",
        "df_nights['weeks_are_consistent'] = (abs(df_nights['weekend_weeks'] - df_nights['weekday_weeks'])<=1)\n",
        "df_nights['weeks_are_consistent'].value_counts()"
      ]
    },
    {
      "cell_type": "markdown",
      "metadata": {},
      "source": [
        "All records have consistent values."
      ]
    },
    {
      "cell_type": "markdown",
      "metadata": {},
      "source": [
        "### Analyse highest values"
      ]
    },
    {
      "cell_type": "markdown",
      "metadata": {},
      "source": [
        "Inspect records with long stays"
      ]
    },
    {
      "cell_type": "code",
      "execution_count": null,
      "metadata": {},
      "outputs": [],
      "source": [
        "high_overnight_stays = df_nights[(df_nights['stays_in_weekend_nights']>10) | (df_nights['stays_in_week_nights']>30)]\n",
        "high_overnight_stays"
      ]
    },
    {
      "cell_type": "markdown",
      "metadata": {},
      "source": [
        "These observations all seem plausible. For example, there are no babies or children staying for this long. Some of the average daily rates are very low with 4 of the stays being without charge. This is presumably a concession for special guests."
      ]
    },
    {
      "cell_type": "markdown",
      "metadata": {},
      "source": [
        "### Zero Overnight Stays"
      ]
    },
    {
      "cell_type": "markdown",
      "metadata": {},
      "source": [
        "Inspect records with no overnight stays"
      ]
    },
    {
      "cell_type": "code",
      "execution_count": 173,
      "metadata": {},
      "outputs": [
        {
          "data": {
            "text/html": [
              "<div>\n",
              "<style scoped>\n",
              "    .dataframe tbody tr th:only-of-type {\n",
              "        vertical-align: middle;\n",
              "    }\n",
              "\n",
              "    .dataframe tbody tr th {\n",
              "        vertical-align: top;\n",
              "    }\n",
              "\n",
              "    .dataframe thead th {\n",
              "        text-align: right;\n",
              "    }\n",
              "</style>\n",
              "<table border=\"1\" class=\"dataframe\">\n",
              "  <thead>\n",
              "    <tr style=\"text-align: right;\">\n",
              "      <th></th>\n",
              "      <th>hotel</th>\n",
              "      <th>is_canceled</th>\n",
              "      <th>lead_time</th>\n",
              "      <th>arrival_date_year</th>\n",
              "      <th>arrival_date_month</th>\n",
              "      <th>arrival_date_week_number</th>\n",
              "      <th>arrival_date_day_of_month</th>\n",
              "      <th>stays_in_weekend_nights</th>\n",
              "      <th>stays_in_week_nights</th>\n",
              "      <th>adults</th>\n",
              "      <th>...</th>\n",
              "      <th>agent</th>\n",
              "      <th>company</th>\n",
              "      <th>days_in_waiting_list</th>\n",
              "      <th>customer_type</th>\n",
              "      <th>adr</th>\n",
              "      <th>required_car_parking_spaces</th>\n",
              "      <th>total_of_special_requests</th>\n",
              "      <th>reservation_status</th>\n",
              "      <th>reservation_status_date</th>\n",
              "      <th>total_nights</th>\n",
              "    </tr>\n",
              "  </thead>\n",
              "  <tbody>\n",
              "    <tr>\n",
              "      <th>0</th>\n",
              "      <td>Resort Hotel</td>\n",
              "      <td>False</td>\n",
              "      <td>342</td>\n",
              "      <td>2015</td>\n",
              "      <td>July</td>\n",
              "      <td>27</td>\n",
              "      <td>1</td>\n",
              "      <td>0</td>\n",
              "      <td>0</td>\n",
              "      <td>2</td>\n",
              "      <td>...</td>\n",
              "      <td>NaN</td>\n",
              "      <td>NaN</td>\n",
              "      <td>0</td>\n",
              "      <td>Transient</td>\n",
              "      <td>0.0</td>\n",
              "      <td>0</td>\n",
              "      <td>0</td>\n",
              "      <td>Check-Out</td>\n",
              "      <td>2015-07-01</td>\n",
              "      <td>0.0</td>\n",
              "    </tr>\n",
              "    <tr>\n",
              "      <th>1</th>\n",
              "      <td>Resort Hotel</td>\n",
              "      <td>False</td>\n",
              "      <td>737</td>\n",
              "      <td>2015</td>\n",
              "      <td>July</td>\n",
              "      <td>27</td>\n",
              "      <td>1</td>\n",
              "      <td>0</td>\n",
              "      <td>0</td>\n",
              "      <td>2</td>\n",
              "      <td>...</td>\n",
              "      <td>NaN</td>\n",
              "      <td>NaN</td>\n",
              "      <td>0</td>\n",
              "      <td>Transient</td>\n",
              "      <td>0.0</td>\n",
              "      <td>0</td>\n",
              "      <td>0</td>\n",
              "      <td>Check-Out</td>\n",
              "      <td>2015-07-01</td>\n",
              "      <td>0.0</td>\n",
              "    </tr>\n",
              "    <tr>\n",
              "      <th>167</th>\n",
              "      <td>Resort Hotel</td>\n",
              "      <td>False</td>\n",
              "      <td>111</td>\n",
              "      <td>2015</td>\n",
              "      <td>July</td>\n",
              "      <td>28</td>\n",
              "      <td>6</td>\n",
              "      <td>0</td>\n",
              "      <td>0</td>\n",
              "      <td>2</td>\n",
              "      <td>...</td>\n",
              "      <td>240</td>\n",
              "      <td>NaN</td>\n",
              "      <td>0</td>\n",
              "      <td>Transient</td>\n",
              "      <td>0.0</td>\n",
              "      <td>0</td>\n",
              "      <td>2</td>\n",
              "      <td>Check-Out</td>\n",
              "      <td>2015-07-06</td>\n",
              "      <td>0.0</td>\n",
              "    </tr>\n",
              "    <tr>\n",
              "      <th>168</th>\n",
              "      <td>Resort Hotel</td>\n",
              "      <td>False</td>\n",
              "      <td>0</td>\n",
              "      <td>2015</td>\n",
              "      <td>July</td>\n",
              "      <td>28</td>\n",
              "      <td>6</td>\n",
              "      <td>0</td>\n",
              "      <td>0</td>\n",
              "      <td>1</td>\n",
              "      <td>...</td>\n",
              "      <td>250</td>\n",
              "      <td>NaN</td>\n",
              "      <td>0</td>\n",
              "      <td>Transient</td>\n",
              "      <td>0.0</td>\n",
              "      <td>0</td>\n",
              "      <td>0</td>\n",
              "      <td>Check-Out</td>\n",
              "      <td>2015-07-06</td>\n",
              "      <td>0.0</td>\n",
              "    </tr>\n",
              "    <tr>\n",
              "      <th>196</th>\n",
              "      <td>Resort Hotel</td>\n",
              "      <td>False</td>\n",
              "      <td>8</td>\n",
              "      <td>2015</td>\n",
              "      <td>July</td>\n",
              "      <td>28</td>\n",
              "      <td>7</td>\n",
              "      <td>0</td>\n",
              "      <td>0</td>\n",
              "      <td>2</td>\n",
              "      <td>...</td>\n",
              "      <td>NaN</td>\n",
              "      <td>NaN</td>\n",
              "      <td>0</td>\n",
              "      <td>Transient</td>\n",
              "      <td>0.0</td>\n",
              "      <td>0</td>\n",
              "      <td>1</td>\n",
              "      <td>Check-Out</td>\n",
              "      <td>2015-07-07</td>\n",
              "      <td>0.0</td>\n",
              "    </tr>\n",
              "    <tr>\n",
              "      <th>...</th>\n",
              "      <td>...</td>\n",
              "      <td>...</td>\n",
              "      <td>...</td>\n",
              "      <td>...</td>\n",
              "      <td>...</td>\n",
              "      <td>...</td>\n",
              "      <td>...</td>\n",
              "      <td>...</td>\n",
              "      <td>...</td>\n",
              "      <td>...</td>\n",
              "      <td>...</td>\n",
              "      <td>...</td>\n",
              "      <td>...</td>\n",
              "      <td>...</td>\n",
              "      <td>...</td>\n",
              "      <td>...</td>\n",
              "      <td>...</td>\n",
              "      <td>...</td>\n",
              "      <td>...</td>\n",
              "      <td>...</td>\n",
              "      <td>...</td>\n",
              "    </tr>\n",
              "    <tr>\n",
              "      <th>115483</th>\n",
              "      <td>City Hotel</td>\n",
              "      <td>False</td>\n",
              "      <td>15</td>\n",
              "      <td>2017</td>\n",
              "      <td>July</td>\n",
              "      <td>27</td>\n",
              "      <td>6</td>\n",
              "      <td>0</td>\n",
              "      <td>0</td>\n",
              "      <td>1</td>\n",
              "      <td>...</td>\n",
              "      <td>14</td>\n",
              "      <td>NaN</td>\n",
              "      <td>0</td>\n",
              "      <td>Transient-Party</td>\n",
              "      <td>0.0</td>\n",
              "      <td>0</td>\n",
              "      <td>0</td>\n",
              "      <td>Check-Out</td>\n",
              "      <td>2017-07-06</td>\n",
              "      <td>0.0</td>\n",
              "    </tr>\n",
              "    <tr>\n",
              "      <th>117701</th>\n",
              "      <td>City Hotel</td>\n",
              "      <td>False</td>\n",
              "      <td>0</td>\n",
              "      <td>2017</td>\n",
              "      <td>August</td>\n",
              "      <td>32</td>\n",
              "      <td>8</td>\n",
              "      <td>0</td>\n",
              "      <td>0</td>\n",
              "      <td>2</td>\n",
              "      <td>...</td>\n",
              "      <td>262</td>\n",
              "      <td>NaN</td>\n",
              "      <td>0</td>\n",
              "      <td>Transient</td>\n",
              "      <td>0.0</td>\n",
              "      <td>0</td>\n",
              "      <td>0</td>\n",
              "      <td>Check-Out</td>\n",
              "      <td>2017-08-08</td>\n",
              "      <td>0.0</td>\n",
              "    </tr>\n",
              "    <tr>\n",
              "      <th>118029</th>\n",
              "      <td>City Hotel</td>\n",
              "      <td>False</td>\n",
              "      <td>0</td>\n",
              "      <td>2017</td>\n",
              "      <td>August</td>\n",
              "      <td>33</td>\n",
              "      <td>14</td>\n",
              "      <td>0</td>\n",
              "      <td>0</td>\n",
              "      <td>2</td>\n",
              "      <td>...</td>\n",
              "      <td>NaN</td>\n",
              "      <td>NaN</td>\n",
              "      <td>0</td>\n",
              "      <td>Transient</td>\n",
              "      <td>0.0</td>\n",
              "      <td>0</td>\n",
              "      <td>0</td>\n",
              "      <td>Check-Out</td>\n",
              "      <td>2017-08-14</td>\n",
              "      <td>0.0</td>\n",
              "    </tr>\n",
              "    <tr>\n",
              "      <th>118631</th>\n",
              "      <td>City Hotel</td>\n",
              "      <td>False</td>\n",
              "      <td>78</td>\n",
              "      <td>2017</td>\n",
              "      <td>August</td>\n",
              "      <td>34</td>\n",
              "      <td>23</td>\n",
              "      <td>0</td>\n",
              "      <td>0</td>\n",
              "      <td>1</td>\n",
              "      <td>...</td>\n",
              "      <td>98</td>\n",
              "      <td>NaN</td>\n",
              "      <td>0</td>\n",
              "      <td>Transient-Party</td>\n",
              "      <td>0.0</td>\n",
              "      <td>0</td>\n",
              "      <td>0</td>\n",
              "      <td>Check-Out</td>\n",
              "      <td>2017-08-23</td>\n",
              "      <td>0.0</td>\n",
              "    </tr>\n",
              "    <tr>\n",
              "      <th>118963</th>\n",
              "      <td>City Hotel</td>\n",
              "      <td>False</td>\n",
              "      <td>1</td>\n",
              "      <td>2017</td>\n",
              "      <td>August</td>\n",
              "      <td>35</td>\n",
              "      <td>27</td>\n",
              "      <td>0</td>\n",
              "      <td>0</td>\n",
              "      <td>2</td>\n",
              "      <td>...</td>\n",
              "      <td>NaN</td>\n",
              "      <td>NaN</td>\n",
              "      <td>0</td>\n",
              "      <td>Transient</td>\n",
              "      <td>0.0</td>\n",
              "      <td>0</td>\n",
              "      <td>0</td>\n",
              "      <td>Check-Out</td>\n",
              "      <td>2017-08-27</td>\n",
              "      <td>0.0</td>\n",
              "    </tr>\n",
              "  </tbody>\n",
              "</table>\n",
              "<p>644 rows × 33 columns</p>\n",
              "</div>"
            ],
            "text/plain": [
              "               hotel  is_canceled  lead_time arrival_date_year  \\\n",
              "0       Resort Hotel        False        342              2015   \n",
              "1       Resort Hotel        False        737              2015   \n",
              "167     Resort Hotel        False        111              2015   \n",
              "168     Resort Hotel        False          0              2015   \n",
              "196     Resort Hotel        False          8              2015   \n",
              "...              ...          ...        ...               ...   \n",
              "115483    City Hotel        False         15              2017   \n",
              "117701    City Hotel        False          0              2017   \n",
              "118029    City Hotel        False          0              2017   \n",
              "118631    City Hotel        False         78              2017   \n",
              "118963    City Hotel        False          1              2017   \n",
              "\n",
              "       arrival_date_month  arrival_date_week_number  \\\n",
              "0                    July                        27   \n",
              "1                    July                        27   \n",
              "167                  July                        28   \n",
              "168                  July                        28   \n",
              "196                  July                        28   \n",
              "...                   ...                       ...   \n",
              "115483               July                        27   \n",
              "117701             August                        32   \n",
              "118029             August                        33   \n",
              "118631             August                        34   \n",
              "118963             August                        35   \n",
              "\n",
              "        arrival_date_day_of_month  stays_in_weekend_nights  \\\n",
              "0                               1                        0   \n",
              "1                               1                        0   \n",
              "167                             6                        0   \n",
              "168                             6                        0   \n",
              "196                             7                        0   \n",
              "...                           ...                      ...   \n",
              "115483                          6                        0   \n",
              "117701                          8                        0   \n",
              "118029                         14                        0   \n",
              "118631                         23                        0   \n",
              "118963                         27                        0   \n",
              "\n",
              "        stays_in_week_nights  adults  ...  agent  company  \\\n",
              "0                          0       2  ...    NaN      NaN   \n",
              "1                          0       2  ...    NaN      NaN   \n",
              "167                        0       2  ...    240      NaN   \n",
              "168                        0       1  ...    250      NaN   \n",
              "196                        0       2  ...    NaN      NaN   \n",
              "...                      ...     ...  ...    ...      ...   \n",
              "115483                     0       1  ...     14      NaN   \n",
              "117701                     0       2  ...    262      NaN   \n",
              "118029                     0       2  ...    NaN      NaN   \n",
              "118631                     0       1  ...     98      NaN   \n",
              "118963                     0       2  ...    NaN      NaN   \n",
              "\n",
              "       days_in_waiting_list    customer_type  adr required_car_parking_spaces  \\\n",
              "0                         0        Transient  0.0                           0   \n",
              "1                         0        Transient  0.0                           0   \n",
              "167                       0        Transient  0.0                           0   \n",
              "168                       0        Transient  0.0                           0   \n",
              "196                       0        Transient  0.0                           0   \n",
              "...                     ...              ...  ...                         ...   \n",
              "115483                    0  Transient-Party  0.0                           0   \n",
              "117701                    0        Transient  0.0                           0   \n",
              "118029                    0        Transient  0.0                           0   \n",
              "118631                    0  Transient-Party  0.0                           0   \n",
              "118963                    0        Transient  0.0                           0   \n",
              "\n",
              "        total_of_special_requests  reservation_status  \\\n",
              "0                               0           Check-Out   \n",
              "1                               0           Check-Out   \n",
              "167                             2           Check-Out   \n",
              "168                             0           Check-Out   \n",
              "196                             1           Check-Out   \n",
              "...                           ...                 ...   \n",
              "115483                          0           Check-Out   \n",
              "117701                          0           Check-Out   \n",
              "118029                          0           Check-Out   \n",
              "118631                          0           Check-Out   \n",
              "118963                          0           Check-Out   \n",
              "\n",
              "        reservation_status_date total_nights  \n",
              "0                    2015-07-01          0.0  \n",
              "1                    2015-07-01          0.0  \n",
              "167                  2015-07-06          0.0  \n",
              "168                  2015-07-06          0.0  \n",
              "196                  2015-07-07          0.0  \n",
              "...                         ...          ...  \n",
              "115483               2017-07-06          0.0  \n",
              "117701               2017-08-08          0.0  \n",
              "118029               2017-08-14          0.0  \n",
              "118631               2017-08-23          0.0  \n",
              "118963               2017-08-27          0.0  \n",
              "\n",
              "[644 rows x 33 columns]"
            ]
          },
          "execution_count": 173,
          "metadata": {},
          "output_type": "execute_result"
        }
      ],
      "source": [
        "no_overnight_stays = df_nights[(df_nights['total_nights']==0)]\n",
        "no_overnight_stays"
      ]
    },
    {
      "cell_type": "markdown",
      "metadata": {},
      "source": [
        "It is unclear what these bookings are but they are clearly a special case.\n",
        "\n",
        "These bookings constitute less than 1% of the overall data (duplicates removed)."
      ]
    },
    {
      "cell_type": "code",
      "execution_count": 209,
      "metadata": {},
      "outputs": [
        {
          "data": {
            "text/html": [
              "<div>\n",
              "<style scoped>\n",
              "    .dataframe tbody tr th:only-of-type {\n",
              "        vertical-align: middle;\n",
              "    }\n",
              "\n",
              "    .dataframe tbody tr th {\n",
              "        vertical-align: top;\n",
              "    }\n",
              "\n",
              "    .dataframe thead th {\n",
              "        text-align: right;\n",
              "    }\n",
              "</style>\n",
              "<table border=\"1\" class=\"dataframe\">\n",
              "  <thead>\n",
              "    <tr style=\"text-align: right;\">\n",
              "      <th></th>\n",
              "      <th>Count</th>\n",
              "      <th>%</th>\n",
              "    </tr>\n",
              "    <tr>\n",
              "      <th>total_nights</th>\n",
              "      <th></th>\n",
              "      <th></th>\n",
              "    </tr>\n",
              "  </thead>\n",
              "  <tbody>\n",
              "    <tr>\n",
              "      <th>0.0</th>\n",
              "      <td>644</td>\n",
              "      <td>0.7</td>\n",
              "    </tr>\n",
              "  </tbody>\n",
              "</table>\n",
              "</div>"
            ],
            "text/plain": [
              "              Count    %\n",
              "total_nights            \n",
              "0.0             644  0.7"
            ]
          },
          "execution_count": 209,
          "metadata": {},
          "output_type": "execute_result"
        }
      ],
      "source": [
        "summary = value_counts_and_percentages(df_nights, ['total_nights'])\n",
        "summary.loc[[0.0]]"
      ]
    },
    {
      "cell_type": "markdown",
      "metadata": {},
      "source": [
        "All of these records have **adr = 0**. According to the [original data source](https://www.sciencedirect.com/science/article/pii/S2352340918315191), Average Daily Rates are calculated by\n",
        "> dividing the sum of all lodging transactions by the total number of staying nights.\n",
        "\n",
        "If there are no staying nights, the value will be undefined and the system presumably defaults to zero."
      ]
    },
    {
      "cell_type": "code",
      "execution_count": 210,
      "metadata": {},
      "outputs": [
        {
          "data": {
            "text/html": [
              "<div>\n",
              "<style scoped>\n",
              "    .dataframe tbody tr th:only-of-type {\n",
              "        vertical-align: middle;\n",
              "    }\n",
              "\n",
              "    .dataframe tbody tr th {\n",
              "        vertical-align: top;\n",
              "    }\n",
              "\n",
              "    .dataframe thead th {\n",
              "        text-align: right;\n",
              "    }\n",
              "</style>\n",
              "<table border=\"1\" class=\"dataframe\">\n",
              "  <thead>\n",
              "    <tr style=\"text-align: right;\">\n",
              "      <th></th>\n",
              "      <th>Count</th>\n",
              "      <th>%</th>\n",
              "    </tr>\n",
              "    <tr>\n",
              "      <th>adr</th>\n",
              "      <th></th>\n",
              "      <th></th>\n",
              "    </tr>\n",
              "  </thead>\n",
              "  <tbody>\n",
              "    <tr>\n",
              "      <th>0.0</th>\n",
              "      <td>644</td>\n",
              "      <td>100.0</td>\n",
              "    </tr>\n",
              "  </tbody>\n",
              "</table>\n",
              "</div>"
            ],
            "text/plain": [
              "     Count      %\n",
              "adr              \n",
              "0.0    644  100.0"
            ]
          },
          "execution_count": 210,
          "metadata": {},
          "output_type": "execute_result"
        }
      ],
      "source": [
        "summary = value_counts_and_percentages(no_overnight_stays, ['adr'])\n",
        "summary"
      ]
    },
    {
      "cell_type": "markdown",
      "metadata": {},
      "source": [
        "Cancellation rates are much lower for this type of booking than overnight stays"
      ]
    },
    {
      "cell_type": "code",
      "execution_count": 218,
      "metadata": {},
      "outputs": [
        {
          "data": {
            "text/html": [
              "<div>\n",
              "<style scoped>\n",
              "    .dataframe tbody tr th:only-of-type {\n",
              "        vertical-align: middle;\n",
              "    }\n",
              "\n",
              "    .dataframe tbody tr th {\n",
              "        vertical-align: top;\n",
              "    }\n",
              "\n",
              "    .dataframe thead th {\n",
              "        text-align: right;\n",
              "    }\n",
              "</style>\n",
              "<table border=\"1\" class=\"dataframe\">\n",
              "  <thead>\n",
              "    <tr style=\"text-align: right;\">\n",
              "      <th></th>\n",
              "      <th>No Overnight Stays (%)</th>\n",
              "      <th>Yes Overnight Stays (%)</th>\n",
              "    </tr>\n",
              "    <tr>\n",
              "      <th>is_canceled</th>\n",
              "      <th></th>\n",
              "      <th></th>\n",
              "    </tr>\n",
              "  </thead>\n",
              "  <tbody>\n",
              "    <tr>\n",
              "      <th>False</th>\n",
              "      <td>95.5</td>\n",
              "      <td>72.3</td>\n",
              "    </tr>\n",
              "    <tr>\n",
              "      <th>True</th>\n",
              "      <td>4.5</td>\n",
              "      <td>27.7</td>\n",
              "    </tr>\n",
              "  </tbody>\n",
              "</table>\n",
              "</div>"
            ],
            "text/plain": [
              "             No Overnight Stays (%)  Yes Overnight Stays (%)\n",
              "is_canceled                                                 \n",
              "False                          95.5                     72.3\n",
              "True                            4.5                     27.7"
            ]
          },
          "execution_count": 218,
          "metadata": {},
          "output_type": "execute_result"
        }
      ],
      "source": [
        "condition = df_nights['total_nights'] == 0.0\n",
        "\n",
        "# Get percentage counts for day-only bookings and overnight bookings\n",
        "day_only_counts = value_counts_and_percentages(df_nights[condition], ['is_canceled'])\n",
        "overnight_counts = value_counts_and_percentages(df_nights[~condition], ['is_canceled'])\n",
        "\n",
        "# Concatenate data into one summary table\n",
        "summary = pd.concat([day_only_counts, overnight_counts], axis=1)\n",
        "\n",
        "# Drop Counts and rename columns\n",
        "summary.drop('Count', axis=1, inplace=True)\n",
        "summary.columns = ['No Overnight Stays (%)', 'Yes Overnight Stays (%)']\n",
        "\n",
        "summary"
      ]
    },
    {
      "cell_type": "markdown",
      "metadata": {},
      "source": [
        "Of all bookings that have adr = 0.0, the majority of these do consist of at least one overnight stay (~63%) but bookings with no overnight stays still constitute a significant minority and therefore will not be removed for the moment."
      ]
    },
    {
      "cell_type": "code",
      "execution_count": 224,
      "metadata": {},
      "outputs": [
        {
          "data": {
            "text/html": [
              "<div>\n",
              "<style scoped>\n",
              "    .dataframe tbody tr th:only-of-type {\n",
              "        vertical-align: middle;\n",
              "    }\n",
              "\n",
              "    .dataframe tbody tr th {\n",
              "        vertical-align: top;\n",
              "    }\n",
              "\n",
              "    .dataframe thead th {\n",
              "        text-align: right;\n",
              "    }\n",
              "</style>\n",
              "<table border=\"1\" class=\"dataframe\">\n",
              "  <thead>\n",
              "    <tr style=\"text-align: right;\">\n",
              "      <th></th>\n",
              "      <th>Count</th>\n",
              "      <th>%</th>\n",
              "    </tr>\n",
              "    <tr>\n",
              "      <th>total_nights</th>\n",
              "      <th></th>\n",
              "      <th></th>\n",
              "    </tr>\n",
              "  </thead>\n",
              "  <tbody>\n",
              "    <tr>\n",
              "      <th>0.0</th>\n",
              "      <td>644</td>\n",
              "      <td>36.8</td>\n",
              "    </tr>\n",
              "    <tr>\n",
              "      <th>1.0</th>\n",
              "      <td>497</td>\n",
              "      <td>28.4</td>\n",
              "    </tr>\n",
              "    <tr>\n",
              "      <th>2.0</th>\n",
              "      <td>318</td>\n",
              "      <td>18.2</td>\n",
              "    </tr>\n",
              "    <tr>\n",
              "      <th>3.0</th>\n",
              "      <td>108</td>\n",
              "      <td>6.2</td>\n",
              "    </tr>\n",
              "    <tr>\n",
              "      <th>4.0</th>\n",
              "      <td>58</td>\n",
              "      <td>3.3</td>\n",
              "    </tr>\n",
              "    <tr>\n",
              "      <th>7.0</th>\n",
              "      <td>30</td>\n",
              "      <td>1.7</td>\n",
              "    </tr>\n",
              "    <tr>\n",
              "      <th>5.0</th>\n",
              "      <td>28</td>\n",
              "      <td>1.6</td>\n",
              "    </tr>\n",
              "    <tr>\n",
              "      <th>6.0</th>\n",
              "      <td>15</td>\n",
              "      <td>0.9</td>\n",
              "    </tr>\n",
              "    <tr>\n",
              "      <th>8.0</th>\n",
              "      <td>10</td>\n",
              "      <td>0.6</td>\n",
              "    </tr>\n",
              "    <tr>\n",
              "      <th>9.0</th>\n",
              "      <td>9</td>\n",
              "      <td>0.5</td>\n",
              "    </tr>\n",
              "    <tr>\n",
              "      <th>10.0</th>\n",
              "      <td>5</td>\n",
              "      <td>0.3</td>\n",
              "    </tr>\n",
              "    <tr>\n",
              "      <th>12.0</th>\n",
              "      <td>5</td>\n",
              "      <td>0.3</td>\n",
              "    </tr>\n",
              "    <tr>\n",
              "      <th>14.0</th>\n",
              "      <td>5</td>\n",
              "      <td>0.3</td>\n",
              "    </tr>\n",
              "    <tr>\n",
              "      <th>15.0</th>\n",
              "      <td>3</td>\n",
              "      <td>0.2</td>\n",
              "    </tr>\n",
              "    <tr>\n",
              "      <th>11.0</th>\n",
              "      <td>2</td>\n",
              "      <td>0.1</td>\n",
              "    </tr>\n",
              "    <tr>\n",
              "      <th>29.0</th>\n",
              "      <td>2</td>\n",
              "      <td>0.1</td>\n",
              "    </tr>\n",
              "    <tr>\n",
              "      <th>13.0</th>\n",
              "      <td>1</td>\n",
              "      <td>0.1</td>\n",
              "    </tr>\n",
              "    <tr>\n",
              "      <th>22.0</th>\n",
              "      <td>1</td>\n",
              "      <td>0.1</td>\n",
              "    </tr>\n",
              "    <tr>\n",
              "      <th>27.0</th>\n",
              "      <td>1</td>\n",
              "      <td>0.1</td>\n",
              "    </tr>\n",
              "    <tr>\n",
              "      <th>28.0</th>\n",
              "      <td>1</td>\n",
              "      <td>0.1</td>\n",
              "    </tr>\n",
              "    <tr>\n",
              "      <th>30.0</th>\n",
              "      <td>1</td>\n",
              "      <td>0.1</td>\n",
              "    </tr>\n",
              "    <tr>\n",
              "      <th>43.0</th>\n",
              "      <td>1</td>\n",
              "      <td>0.1</td>\n",
              "    </tr>\n",
              "    <tr>\n",
              "      <th>46.0</th>\n",
              "      <td>1</td>\n",
              "      <td>0.1</td>\n",
              "    </tr>\n",
              "    <tr>\n",
              "      <th>48.0</th>\n",
              "      <td>1</td>\n",
              "      <td>0.1</td>\n",
              "    </tr>\n",
              "    <tr>\n",
              "      <th>49.0</th>\n",
              "      <td>1</td>\n",
              "      <td>0.1</td>\n",
              "    </tr>\n",
              "  </tbody>\n",
              "</table>\n",
              "</div>"
            ],
            "text/plain": [
              "              Count     %\n",
              "total_nights             \n",
              "0.0             644  36.8\n",
              "1.0             497  28.4\n",
              "2.0             318  18.2\n",
              "3.0             108   6.2\n",
              "4.0              58   3.3\n",
              "7.0              30   1.7\n",
              "5.0              28   1.6\n",
              "6.0              15   0.9\n",
              "8.0              10   0.6\n",
              "9.0               9   0.5\n",
              "10.0              5   0.3\n",
              "12.0              5   0.3\n",
              "14.0              5   0.3\n",
              "15.0              3   0.2\n",
              "11.0              2   0.1\n",
              "29.0              2   0.1\n",
              "13.0              1   0.1\n",
              "22.0              1   0.1\n",
              "27.0              1   0.1\n",
              "28.0              1   0.1\n",
              "30.0              1   0.1\n",
              "43.0              1   0.1\n",
              "46.0              1   0.1\n",
              "48.0              1   0.1\n",
              "49.0              1   0.1"
            ]
          },
          "execution_count": 224,
          "metadata": {},
          "output_type": "execute_result"
        }
      ],
      "source": [
        "zero_adr = df_nights[df_nights['adr'] == 0.0]\n",
        "summary = value_counts_and_percentages(zero_adr, ['total_nights'])\n",
        "summary"
      ]
    },
    {
      "cell_type": "markdown",
      "metadata": {},
      "source": [
        "## Investigating Distribution Channel"
      ]
    },
    {
      "cell_type": "markdown",
      "metadata": {},
      "source": [
        "### Initial Investigations"
      ]
    },
    {
      "cell_type": "markdown",
      "metadata": {},
      "source": [
        "View values for `distribution_channel`"
      ]
    },
    {
      "cell_type": "code",
      "execution_count": 225,
      "metadata": {},
      "outputs": [
        {
          "data": {
            "text/html": [
              "<div>\n",
              "<style scoped>\n",
              "    .dataframe tbody tr th:only-of-type {\n",
              "        vertical-align: middle;\n",
              "    }\n",
              "\n",
              "    .dataframe tbody tr th {\n",
              "        vertical-align: top;\n",
              "    }\n",
              "\n",
              "    .dataframe thead th {\n",
              "        text-align: right;\n",
              "    }\n",
              "</style>\n",
              "<table border=\"1\" class=\"dataframe\">\n",
              "  <thead>\n",
              "    <tr style=\"text-align: right;\">\n",
              "      <th></th>\n",
              "      <th>Count</th>\n",
              "      <th>%</th>\n",
              "    </tr>\n",
              "    <tr>\n",
              "      <th>distribution_channel</th>\n",
              "      <th></th>\n",
              "      <th></th>\n",
              "    </tr>\n",
              "  </thead>\n",
              "  <tbody>\n",
              "    <tr>\n",
              "      <th>TA/TO</th>\n",
              "      <td>97021</td>\n",
              "      <td>82.1</td>\n",
              "    </tr>\n",
              "    <tr>\n",
              "      <th>Direct</th>\n",
              "      <td>14372</td>\n",
              "      <td>12.2</td>\n",
              "    </tr>\n",
              "    <tr>\n",
              "      <th>Corporate</th>\n",
              "      <td>6630</td>\n",
              "      <td>5.6</td>\n",
              "    </tr>\n",
              "    <tr>\n",
              "      <th>GDS</th>\n",
              "      <td>193</td>\n",
              "      <td>0.2</td>\n",
              "    </tr>\n",
              "    <tr>\n",
              "      <th>Undefined</th>\n",
              "      <td>0</td>\n",
              "      <td>0.0</td>\n",
              "    </tr>\n",
              "  </tbody>\n",
              "</table>\n",
              "</div>"
            ],
            "text/plain": [
              "                      Count     %\n",
              "distribution_channel             \n",
              "TA/TO                 97021  82.1\n",
              "Direct                14372  12.2\n",
              "Corporate              6630   5.6\n",
              "GDS                     193   0.2\n",
              "Undefined                 0   0.0"
            ]
          },
          "metadata": {},
          "output_type": "display_data"
        }
      ],
      "source": [
        "summary = value_counts_and_percentages(df, ['distribution_channel'])\n",
        "display(summary)"
      ]
    },
    {
      "cell_type": "markdown",
      "metadata": {},
      "source": [
        "**Undefined** values were almost certainly a data entry / system error and have therefore already been dropped."
      ]
    },
    {
      "cell_type": "markdown",
      "metadata": {},
      "source": [
        "### `distribution_channel` + `agent`"
      ]
    },
    {
      "cell_type": "markdown",
      "metadata": {},
      "source": [
        "We expect that when an **agent** is specified, **distribution_channel = TA/TO**"
      ]
    },
    {
      "cell_type": "code",
      "execution_count": 226,
      "metadata": {},
      "outputs": [
        {
          "data": {
            "text/html": [
              "<div>\n",
              "<style scoped>\n",
              "    .dataframe tbody tr th:only-of-type {\n",
              "        vertical-align: middle;\n",
              "    }\n",
              "\n",
              "    .dataframe tbody tr th {\n",
              "        vertical-align: top;\n",
              "    }\n",
              "\n",
              "    .dataframe thead th {\n",
              "        text-align: right;\n",
              "    }\n",
              "</style>\n",
              "<table border=\"1\" class=\"dataframe\">\n",
              "  <thead>\n",
              "    <tr style=\"text-align: right;\">\n",
              "      <th></th>\n",
              "      <th>Count</th>\n",
              "      <th>%</th>\n",
              "    </tr>\n",
              "    <tr>\n",
              "      <th>distribution_channel</th>\n",
              "      <th></th>\n",
              "      <th></th>\n",
              "    </tr>\n",
              "  </thead>\n",
              "  <tbody>\n",
              "    <tr>\n",
              "      <th>TA/TO</th>\n",
              "      <td>93957</td>\n",
              "      <td>91.9</td>\n",
              "    </tr>\n",
              "    <tr>\n",
              "      <th>Direct</th>\n",
              "      <td>6935</td>\n",
              "      <td>6.8</td>\n",
              "    </tr>\n",
              "    <tr>\n",
              "      <th>Corporate</th>\n",
              "      <td>1134</td>\n",
              "      <td>1.1</td>\n",
              "    </tr>\n",
              "    <tr>\n",
              "      <th>GDS</th>\n",
              "      <td>191</td>\n",
              "      <td>0.2</td>\n",
              "    </tr>\n",
              "    <tr>\n",
              "      <th>Undefined</th>\n",
              "      <td>0</td>\n",
              "      <td>0.0</td>\n",
              "    </tr>\n",
              "  </tbody>\n",
              "</table>\n",
              "</div>"
            ],
            "text/plain": [
              "                      Count     %\n",
              "distribution_channel             \n",
              "TA/TO                 93957  91.9\n",
              "Direct                 6935   6.8\n",
              "Corporate              1134   1.1\n",
              "GDS                     191   0.2\n",
              "Undefined                 0   0.0"
            ]
          },
          "metadata": {},
          "output_type": "display_data"
        }
      ],
      "source": [
        "data = df[~df['agent'].isna()]\n",
        "summary = value_counts_and_percentages(data, ['distribution_channel'])\n",
        "display(summary)"
      ]
    },
    {
      "cell_type": "markdown",
      "metadata": {},
      "source": [
        "Findings\n",
        "- **TA/TO** is expected:\n",
        "  - This is the majority class with over 90% of all observations\n",
        "  - ACTION: keep\n",
        "- **Direct** is inconsistent:\n",
        "  - Probably `distribution_channel` or `agent` is mis-labelled but impossible to know which.\n",
        "  - ACTION: drop\n",
        "- **Corporate** is possible:\n",
        "  - Some corporate bookings are handled by travel agents (e.g. travel management companies).\n",
        "  - ACTION: investigate further\n",
        "- **GDS** is valid:\n",
        "  - Many travel agents book via GDS.\n",
        "  - ACTION: keep"
      ]
    },
    {
      "cell_type": "markdown",
      "metadata": {},
      "source": [
        "Check that similar patterns are seen with both hotels"
      ]
    },
    {
      "cell_type": "code",
      "execution_count": 227,
      "metadata": {},
      "outputs": [
        {
          "data": {
            "text/html": [
              "<div>\n",
              "<style scoped>\n",
              "    .dataframe tbody tr th:only-of-type {\n",
              "        vertical-align: middle;\n",
              "    }\n",
              "\n",
              "    .dataframe tbody tr th {\n",
              "        vertical-align: top;\n",
              "    }\n",
              "\n",
              "    .dataframe thead th {\n",
              "        text-align: right;\n",
              "    }\n",
              "</style>\n",
              "<table border=\"1\" class=\"dataframe\">\n",
              "  <thead>\n",
              "    <tr style=\"text-align: right;\">\n",
              "      <th></th>\n",
              "      <th>% of City Hotel Bookings</th>\n",
              "      <th>% of Resort Hotel Bookings</th>\n",
              "    </tr>\n",
              "    <tr>\n",
              "      <th>distribution_channel</th>\n",
              "      <th></th>\n",
              "      <th></th>\n",
              "    </tr>\n",
              "  </thead>\n",
              "  <tbody>\n",
              "    <tr>\n",
              "      <th>TA/TO</th>\n",
              "      <td>93.7</td>\n",
              "      <td>87.7</td>\n",
              "    </tr>\n",
              "    <tr>\n",
              "      <th>Direct</th>\n",
              "      <td>5.2</td>\n",
              "      <td>10.4</td>\n",
              "    </tr>\n",
              "    <tr>\n",
              "      <th>Corporate</th>\n",
              "      <td>0.8</td>\n",
              "      <td>1.8</td>\n",
              "    </tr>\n",
              "    <tr>\n",
              "      <th>GDS</th>\n",
              "      <td>0.3</td>\n",
              "      <td>0.0</td>\n",
              "    </tr>\n",
              "    <tr>\n",
              "      <th>Undefined</th>\n",
              "      <td>0.0</td>\n",
              "      <td>0.0</td>\n",
              "    </tr>\n",
              "  </tbody>\n",
              "</table>\n",
              "</div>"
            ],
            "text/plain": [
              "                      % of City Hotel Bookings  % of Resort Hotel Bookings\n",
              "distribution_channel                                                      \n",
              "TA/TO                                     93.7                        87.7\n",
              "Direct                                     5.2                        10.4\n",
              "Corporate                                  0.8                         1.8\n",
              "GDS                                        0.3                         0.0\n",
              "Undefined                                  0.0                         0.0"
            ]
          },
          "execution_count": 227,
          "metadata": {},
          "output_type": "execute_result"
        }
      ],
      "source": [
        "# City\n",
        "city_data = df[(~df['agent'].isna() & (df['hotel'] == 'City Hotel'))]\n",
        "city_summary = value_counts_and_percentages(city_data, ['distribution_channel'])\n",
        "\n",
        "# Resort\n",
        "resort_data = df[(~df['agent'].isna() & (df['hotel'] == 'Resort Hotel'))]\n",
        "resort_summary = value_counts_and_percentages(resort_data, ['distribution_channel'])\n",
        "\n",
        "# Concatenate into one table and remove counts\n",
        "summary = pd.concat([city_summary, resort_summary], axis=1)\n",
        "summary.drop('Count', axis=1, inplace=True)\n",
        "\n",
        "# Rename column headings and display\n",
        "summary.columns = ['% of City Hotel Bookings', '% of Resort Hotel Bookings']\n",
        "summary\n"
      ]
    },
    {
      "cell_type": "markdown",
      "metadata": {},
      "source": [
        "Similar patterns are seen with both hotels so there don't seem to be issues with administrative errors in only one of the hotels.\n",
        "\n",
        "Investigate `Corporate` further\n",
        "- How many of the 1134 corporate bookings have a company ID specified alongside the travel agent?"
      ]
    },
    {
      "cell_type": "code",
      "execution_count": 228,
      "metadata": {},
      "outputs": [
        {
          "data": {
            "text/html": [
              "<div>\n",
              "<style scoped>\n",
              "    .dataframe tbody tr th:only-of-type {\n",
              "        vertical-align: middle;\n",
              "    }\n",
              "\n",
              "    .dataframe tbody tr th {\n",
              "        vertical-align: top;\n",
              "    }\n",
              "\n",
              "    .dataframe thead th {\n",
              "        text-align: right;\n",
              "    }\n",
              "</style>\n",
              "<table border=\"1\" class=\"dataframe\">\n",
              "  <thead>\n",
              "    <tr style=\"text-align: right;\">\n",
              "      <th></th>\n",
              "      <th>Count</th>\n",
              "      <th>%</th>\n",
              "    </tr>\n",
              "    <tr>\n",
              "      <th>distribution_channel</th>\n",
              "      <th></th>\n",
              "      <th></th>\n",
              "    </tr>\n",
              "  </thead>\n",
              "  <tbody>\n",
              "    <tr>\n",
              "      <th>Corporate</th>\n",
              "      <td>132</td>\n",
              "      <td>60.8</td>\n",
              "    </tr>\n",
              "    <tr>\n",
              "      <th>TA/TO</th>\n",
              "      <td>64</td>\n",
              "      <td>29.5</td>\n",
              "    </tr>\n",
              "    <tr>\n",
              "      <th>Direct</th>\n",
              "      <td>20</td>\n",
              "      <td>9.2</td>\n",
              "    </tr>\n",
              "    <tr>\n",
              "      <th>GDS</th>\n",
              "      <td>1</td>\n",
              "      <td>0.5</td>\n",
              "    </tr>\n",
              "    <tr>\n",
              "      <th>Undefined</th>\n",
              "      <td>0</td>\n",
              "      <td>0.0</td>\n",
              "    </tr>\n",
              "  </tbody>\n",
              "</table>\n",
              "</div>"
            ],
            "text/plain": [
              "                      Count     %\n",
              "distribution_channel             \n",
              "Corporate               132  60.8\n",
              "TA/TO                    64  29.5\n",
              "Direct                   20   9.2\n",
              "GDS                       1   0.5\n",
              "Undefined                 0   0.0"
            ]
          },
          "metadata": {},
          "output_type": "display_data"
        }
      ],
      "source": [
        "data = df[(~df['agent'].isna()) & (~df['company'].isna())]\n",
        "summary = value_counts_and_percentages(data, ['distribution_channel'])\n",
        "display(summary)"
      ]
    },
    {
      "cell_type": "markdown",
      "metadata": {},
      "source": [
        "Findings\n",
        "- Only 132 of the 1134 agent bookings assigned distribution_channel = corporate have a company ID associated with them (~12%)\n",
        "- These may still be valid records where the company was not recorded\n",
        "- ACTION: keep 'Corporate' but drop 'Direct'\n"
      ]
    },
    {
      "cell_type": "code",
      "execution_count": null,
      "metadata": {},
      "outputs": [],
      "source": [
        "# Drop rows with specified agent but distribution_channel = 'Direct'\n",
        "condition = (~df['agent'].isna()) & (df['distribution_channel'] == 'Direct')\n",
        "df = df[~condition]\n",
        "\n",
        "data = df[~df['agent'].isna()]\n",
        "summary = value_counts_and_percentages(data, ['distribution_channel'])\n",
        "display(summary)"
      ]
    },
    {
      "cell_type": "markdown",
      "metadata": {},
      "source": [
        "### `distribution_channel` + `company`"
      ]
    },
    {
      "cell_type": "markdown",
      "metadata": {},
      "source": [
        "We expect that when a **company** is specified, **distribution_channel = Corporate**"
      ]
    },
    {
      "cell_type": "code",
      "execution_count": null,
      "metadata": {},
      "outputs": [],
      "source": [
        "data = df[~df['company'].isna()]\n",
        "summary = value_counts_and_percentages(data, ['distribution_channel'])\n",
        "display(summary)"
      ]
    },
    {
      "cell_type": "markdown",
      "metadata": {},
      "source": [
        "Findings\n",
        "- **Corporate** is expected:\n",
        "  - This is the majority class with ~ 75% of all observations\n",
        "  - ACTION: keep\n",
        "- **TA/TO** is possible:\n",
        "  - Some corporate bookings are handled by travel agents (e.g. travel management companies).\n",
        "  - ACTION: keep\n",
        "- **Direct** is inconsistent:\n",
        "  - Probably `distribution_channel` or `company` is mis-labelled but impossible to know which.\n",
        "  - ACTION: drop\n",
        "- **GDS** is possible:\n",
        "  - The company could have booked via GDS.\n",
        "  - ACTION: keep"
      ]
    },
    {
      "cell_type": "code",
      "execution_count": null,
      "metadata": {},
      "outputs": [],
      "source": [
        "# Drop rows with specified company but distribution_channel = 'Direct'\n",
        "condition = (~df['company'].isna()) & (df['distribution_channel'] == 'Direct')\n",
        "df = df[~condition]\n",
        "\n",
        "data = df[~df['company'].isna()]\n",
        "summary = value_counts_and_percentages(data, ['distribution_channel'])\n",
        "display(summary)"
      ]
    },
    {
      "cell_type": "markdown",
      "metadata": {},
      "source": [
        "## Check `is_canceled` matches `reservation_status`"
      ]
    },
    {
      "cell_type": "markdown",
      "metadata": {},
      "source": [
        "We expect that records with **is_canceled = 0** should have **reservation_status = 'Check-Out'**"
      ]
    },
    {
      "cell_type": "code",
      "execution_count": 229,
      "metadata": {},
      "outputs": [
        {
          "data": {
            "text/html": [
              "<div>\n",
              "<style scoped>\n",
              "    .dataframe tbody tr th:only-of-type {\n",
              "        vertical-align: middle;\n",
              "    }\n",
              "\n",
              "    .dataframe tbody tr th {\n",
              "        vertical-align: top;\n",
              "    }\n",
              "\n",
              "    .dataframe thead th {\n",
              "        text-align: right;\n",
              "    }\n",
              "</style>\n",
              "<table border=\"1\" class=\"dataframe\">\n",
              "  <thead>\n",
              "    <tr style=\"text-align: right;\">\n",
              "      <th></th>\n",
              "      <th>Count</th>\n",
              "      <th>%</th>\n",
              "    </tr>\n",
              "    <tr>\n",
              "      <th>reservation_status</th>\n",
              "      <th></th>\n",
              "      <th></th>\n",
              "    </tr>\n",
              "  </thead>\n",
              "  <tbody>\n",
              "    <tr>\n",
              "      <th>Check-Out</th>\n",
              "      <td>74282</td>\n",
              "      <td>100.0</td>\n",
              "    </tr>\n",
              "    <tr>\n",
              "      <th>Canceled</th>\n",
              "      <td>0</td>\n",
              "      <td>0.0</td>\n",
              "    </tr>\n",
              "    <tr>\n",
              "      <th>No-Show</th>\n",
              "      <td>0</td>\n",
              "      <td>0.0</td>\n",
              "    </tr>\n",
              "  </tbody>\n",
              "</table>\n",
              "</div>"
            ],
            "text/plain": [
              "                    Count      %\n",
              "reservation_status              \n",
              "Check-Out           74282  100.0\n",
              "Canceled                0    0.0\n",
              "No-Show                 0    0.0"
            ]
          },
          "metadata": {},
          "output_type": "display_data"
        }
      ],
      "source": [
        "data = df[df['is_canceled']==0]\n",
        "summary = value_counts_and_percentages(data, ['reservation_status'])\n",
        "display(summary)"
      ]
    },
    {
      "cell_type": "markdown",
      "metadata": {},
      "source": [
        "This is the case. We also expect that records with **is_canceled = 1** should have **reservation_status = 'Canceled' or 'No-Show'**"
      ]
    },
    {
      "cell_type": "code",
      "execution_count": 230,
      "metadata": {},
      "outputs": [
        {
          "data": {
            "text/html": [
              "<div>\n",
              "<style scoped>\n",
              "    .dataframe tbody tr th:only-of-type {\n",
              "        vertical-align: middle;\n",
              "    }\n",
              "\n",
              "    .dataframe tbody tr th {\n",
              "        vertical-align: top;\n",
              "    }\n",
              "\n",
              "    .dataframe thead th {\n",
              "        text-align: right;\n",
              "    }\n",
              "</style>\n",
              "<table border=\"1\" class=\"dataframe\">\n",
              "  <thead>\n",
              "    <tr style=\"text-align: right;\">\n",
              "      <th></th>\n",
              "      <th>Count</th>\n",
              "      <th>%</th>\n",
              "    </tr>\n",
              "    <tr>\n",
              "      <th>reservation_status</th>\n",
              "      <th></th>\n",
              "      <th></th>\n",
              "    </tr>\n",
              "  </thead>\n",
              "  <tbody>\n",
              "    <tr>\n",
              "      <th>Canceled</th>\n",
              "      <td>42729</td>\n",
              "      <td>97.3</td>\n",
              "    </tr>\n",
              "    <tr>\n",
              "      <th>No-Show</th>\n",
              "      <td>1205</td>\n",
              "      <td>2.7</td>\n",
              "    </tr>\n",
              "    <tr>\n",
              "      <th>Check-Out</th>\n",
              "      <td>0</td>\n",
              "      <td>0.0</td>\n",
              "    </tr>\n",
              "  </tbody>\n",
              "</table>\n",
              "</div>"
            ],
            "text/plain": [
              "                    Count     %\n",
              "reservation_status             \n",
              "Canceled            42729  97.3\n",
              "No-Show              1205   2.7\n",
              "Check-Out               0   0.0"
            ]
          },
          "metadata": {},
          "output_type": "display_data"
        }
      ],
      "source": [
        "data = df[df['is_canceled']==1]\n",
        "summary = value_counts_and_percentages(data, ['reservation_status'])\n",
        "display(summary)"
      ]
    },
    {
      "cell_type": "markdown",
      "metadata": {},
      "source": [
        "This is also the case so no cleaning required here."
      ]
    },
    {
      "cell_type": "markdown",
      "metadata": {},
      "source": [
        "## Check `is_repeated_guest` matches Previous bookings"
      ]
    },
    {
      "cell_type": "markdown",
      "metadata": {},
      "source": [
        "### Investigate `previous_bookings_not_canceled`"
      ]
    },
    {
      "cell_type": "markdown",
      "metadata": {},
      "source": [
        "According to the [original data source](https://www.sciencedirect.com/science/article/pii/S2352340918315191), this variable was assigned as follows:\n",
        "> In case there was no customer profile associated with the booking, the value is set to 0. Otherwise, the value is the number of bookings with the same customer profile created before the current booking and not canceled.\n",
        "\n",
        "Presumably this also applies to bookings made before the date range of the current dataset."
      ]
    },
    {
      "cell_type": "markdown",
      "metadata": {},
      "source": [
        "View counts"
      ]
    },
    {
      "cell_type": "code",
      "execution_count": null,
      "metadata": {},
      "outputs": [],
      "source": [
        "data = df.drop_duplicates(keep='first')  # Drop duplicates to prevent skewing the data\n",
        "summary = value_counts_and_percentages(data, ['previous_bookings_not_canceled'])\n",
        "display(summary)"
      ]
    },
    {
      "cell_type": "markdown",
      "metadata": {},
      "source": [
        "### Investigate `previous_cancellations`"
      ]
    },
    {
      "cell_type": "markdown",
      "metadata": {},
      "source": [
        "According to the [original data source](https://www.sciencedirect.com/science/article/pii/S2352340918315191), this variable was assigned as follows:\n",
        "> In case there was no customer profile associated with the booking, the value is set to 0. Otherwise, the value is the number of bookings with the same customer profile created before the current booking and canceled.\n",
        "\n",
        "Presumably this also applies to bookings made before the date range of the current dataset."
      ]
    },
    {
      "cell_type": "code",
      "execution_count": null,
      "metadata": {},
      "outputs": [],
      "source": [
        "data = df.drop_duplicates(keep='first')  # Drop duplicates to prevent skewing the data\n",
        "summary = value_counts_and_percentages(data, ['previous_cancellations'])\n",
        "display(summary)"
      ]
    },
    {
      "cell_type": "markdown",
      "metadata": {},
      "source": [
        "### Investigate `is_repeated_guest`"
      ]
    },
    {
      "cell_type": "markdown",
      "metadata": {},
      "source": [
        "According to the [original data source](https://www.sciencedirect.com/science/article/pii/S2352340918315191), this variable was\n",
        "\n",
        "> *\"created by verifying if a profile was associated with the booking customer. If so, and if the customer profile creation date was prior to the creation date for the booking on the PMS database it was assumed the booking was from a repeated guest.\"*"
      ]
    },
    {
      "cell_type": "markdown",
      "metadata": {},
      "source": [
        "Create a `total_previous_bookings` column"
      ]
    },
    {
      "cell_type": "code",
      "execution_count": null,
      "metadata": {},
      "outputs": [],
      "source": [
        "df_prev_bookings = df.drop_duplicates(keep='first')\n",
        "df_prev_bookings['total_previous_bookings'] = df_prev_bookings['previous_bookings_not_canceled'] + df_prev_bookings['previous_cancellations']\n",
        "df_prev_bookings.head(3)\n"
      ]
    },
    {
      "cell_type": "markdown",
      "metadata": {},
      "source": [
        "We expect that all records with **is_repeated_guest = 0** will have no previous non-cancelled bookings but this is not found to be the case."
      ]
    },
    {
      "cell_type": "code",
      "execution_count": null,
      "metadata": {},
      "outputs": [],
      "source": [
        "data = df_prev_bookings[df_prev_bookings['is_repeated_guest']==0]\n",
        "summary = value_counts_and_percentages(data, ['total_previous_bookings', 'previous_bookings_not_canceled', 'previous_cancellations', 'is_repeated_guest'])\n",
        "display(summary)"
      ]
    },
    {
      "cell_type": "markdown",
      "metadata": {},
      "source": [
        "We expect that all records with **is_repeated_guest = 1** will have at least one previous non-cancelled booking but this is not found to be the case either. "
      ]
    },
    {
      "cell_type": "code",
      "execution_count": null,
      "metadata": {},
      "outputs": [],
      "source": [
        "data = df_prev_bookings[df_prev_bookings['is_repeated_guest']==1]\n",
        "summary = value_counts_and_percentages(data, ['total_previous_bookings', 'previous_bookings_not_canceled', 'previous_cancellations', 'is_repeated_guest'])\n",
        "display(summary)"
      ]
    },
    {
      "cell_type": "markdown",
      "metadata": {},
      "source": [
        "Since the is_repeated_guest feature is derived from whether the PMS had a guest profile created before the booking (rather than using the previous booking data), the discrepancy may have predictive power when training the model.\n",
        "- ACTION: add an additional feature (an inconsistency flag) during feature engineering and assess feature importance after training the model to see if the signal has any significance."
      ]
    }
  ],
  "metadata": {
    "accelerator": "GPU",
    "colab": {
      "name": "Data Practitioner Jupyter Notebook.ipynb",
      "provenance": [],
      "toc_visible": true
    },
    "kernelspec": {
      "display_name": ".venv",
      "language": "python",
      "name": "python3"
    },
    "language_info": {
      "codemirror_mode": {
        "name": "ipython",
        "version": 3
      },
      "file_extension": ".py",
      "mimetype": "text/x-python",
      "name": "python",
      "nbconvert_exporter": "python",
      "pygments_lexer": "ipython3",
      "version": "3.12.8"
    },
    "orig_nbformat": 2
  },
  "nbformat": 4,
  "nbformat_minor": 2
}
