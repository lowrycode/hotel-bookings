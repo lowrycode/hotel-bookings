{
  "cells": [
    {
      "cell_type": "markdown",
      "metadata": {
        "id": "0aStgWSO0E0E"
      },
      "source": [
        "# **EDA AND DATA CLEANING NOTEBOOK**"
      ]
    },
    {
      "cell_type": "markdown",
      "metadata": {
        "id": "1eLEkw5O0ECa"
      },
      "source": [
        "## Objectives\n",
        "\n",
        "* Carry Out EDA relating to quality of data\n",
        "* Clean data and save for use in further analysis\n",
        "\n",
        "## Inputs\n",
        "\n",
        "* **Raw Dataset:** inputs/datasets/raw/hotel_bookings.csv\n",
        "\n",
        "## Outputs\n",
        "\n",
        "* **Cleaned Dataset:** outputs/datasets/collection/cleaned/cleaned.csv"
      ]
    },
    {
      "cell_type": "markdown",
      "metadata": {
        "id": "9uWZXH9LwoQg"
      },
      "source": [
        "---"
      ]
    },
    {
      "cell_type": "markdown",
      "metadata": {
        "id": "cqP-UeN-z3i2"
      },
      "source": [
        "# Import Packages and Load Data"
      ]
    },
    {
      "cell_type": "markdown",
      "metadata": {},
      "source": [
        "Imports"
      ]
    },
    {
      "cell_type": "code",
      "execution_count": null,
      "metadata": {
        "id": "wZfF_j-Bz3i4",
        "outputId": "66943449-1436-4c3d-85c7-b85f9f78349b"
      },
      "outputs": [],
      "source": [
        "%matplotlib inline\n",
        "import numpy as np\n",
        "import pandas as pd\n",
        "import matplotlib.pyplot as plt\n",
        "import seaborn as sns\n",
        "import plotly.express as px"
      ]
    },
    {
      "cell_type": "markdown",
      "metadata": {
        "id": "M_xPk_Ijz3i-"
      },
      "source": [
        "Load data"
      ]
    },
    {
      "cell_type": "code",
      "execution_count": null,
      "metadata": {
        "id": "vz3S-_kjz3jA",
        "outputId": "00b79ae4-75d0-4a96-d193-ac9ef9847ea2"
      },
      "outputs": [],
      "source": [
        "from pathlib import Path\n",
        "\n",
        "project_root = Path.cwd().parent\n",
        "dataset_file = project_root / 'inputs' / 'datasets' / 'raw' / 'hotel_bookings.csv'\n",
        "df = pd.read_csv(dataset_file)\n",
        "df.head(3)"
      ]
    },
    {
      "cell_type": "markdown",
      "metadata": {},
      "source": [
        "---"
      ]
    },
    {
      "cell_type": "markdown",
      "metadata": {},
      "source": [
        "# Convert Data Types"
      ]
    },
    {
      "cell_type": "markdown",
      "metadata": {},
      "source": [
        "View current data types"
      ]
    },
    {
      "cell_type": "code",
      "execution_count": null,
      "metadata": {},
      "outputs": [],
      "source": [
        "df.info()"
      ]
    },
    {
      "cell_type": "markdown",
      "metadata": {},
      "source": [
        "Convert data types ready for profiling report.\n",
        "- `Int64` allows for the missing values and is used for `children`, `agent` and `company` to remove decimal digits before converting to `category` type"
      ]
    },
    {
      "cell_type": "code",
      "execution_count": null,
      "metadata": {},
      "outputs": [],
      "source": [
        "df['hotel'] = df['hotel'].astype('category')\n",
        "df['is_canceled'] = df['is_canceled'].astype('bool')\n",
        "df['arrival_date_year'] = df['arrival_date_year'].astype('category')\n",
        "df['arrival_date_month'] = df['arrival_date_month'].astype('category')\n",
        "df['children'] = df['children'].astype('Int64')\n",
        "df['meal'] = df['meal'].astype('category')\n",
        "df['country'] = df['country'].astype('category')\n",
        "df['market_segment'] = df['market_segment'].astype('category')\n",
        "df['distribution_channel'] = df['distribution_channel'].astype('category')\n",
        "df['is_repeated_guest'] = df['is_repeated_guest'].astype('bool')\n",
        "df['reserved_room_type'] = df['reserved_room_type'].astype('category')\n",
        "df['assigned_room_type'] = df['assigned_room_type'].astype('category')\n",
        "df['deposit_type'] = df['deposit_type'].astype('category')\n",
        "df['agent'] = df['agent'].astype('Int64').astype('category')\n",
        "df['company'] = df['company'].astype('Int64').astype('category')\n",
        "df['customer_type'] = df['customer_type'].astype('category')\n",
        "df['reservation_status'] = df['reservation_status'].astype('category')\n",
        "df['reservation_status_date'] = pd.to_datetime(df['reservation_status_date'])\n",
        "\n",
        "df.info()"
      ]
    },
    {
      "cell_type": "markdown",
      "metadata": {
        "id": "-mavJ8DibrcQ"
      },
      "source": [
        "# Profile Report"
      ]
    },
    {
      "cell_type": "code",
      "execution_count": null,
      "metadata": {},
      "outputs": [],
      "source": [
        "from ydata_profiling import ProfileReport\n",
        "profile = ProfileReport(df.drop_duplicates(), title=\"Hotel Bookings Profile Report\", minimal=True)\n",
        "profile.to_notebook_iframe()"
      ]
    },
    {
      "cell_type": "markdown",
      "metadata": {},
      "source": [
        "The Profile Report alerts us to some possible data issues which require further exploration:\n",
        "- **Data Ranges:**\n",
        "  - `lead_time` shows two values over 600\n",
        "  - `stays_in_weekend_nights` shows some values over 10\n",
        "  - `stays_in_week_nights` shows some values over 30\n",
        "  - `adults` shows some values over 20\n",
        "  - `children` shows a high value of 10\n",
        "  - `babies` shows high values of 9 and 10\n",
        "  - `previous_cancellations` shows values over 20\n",
        "  - `previous_bookings_not_canceled` shows values over 60\n",
        "  - `booking_changes` shows values over 20\n",
        "  - `days_in_waiting_list` shows values over 300\n",
        "  - `adr` shows at least one negative value, many zero values and an incredibly high value of 5400\n",
        "  - `required_car_parking_spaces` shows a high value of 8\n",
        "- **Undefined Values for Categorical Variables:**\n",
        "  - there are 'Undefined' values for `meal`, `market_segment`, `distribution_channel`\n",
        "- **Missing Values**\n",
        "  - there are missing values for `children`, `country`, `agent` and `company`"
      ]
    },
    {
      "cell_type": "markdown",
      "metadata": {
        "id": "ZY3l0-AxO93d"
      },
      "source": [
        "---"
      ]
    },
    {
      "cell_type": "markdown",
      "metadata": {},
      "source": [
        "# Explore Statistical Outliers"
      ]
    },
    {
      "cell_type": "markdown",
      "metadata": {},
      "source": [
        "## Functions to assist analysis"
      ]
    },
    {
      "cell_type": "markdown",
      "metadata": {},
      "source": [
        "Define function for summarising value counts and percentages in a table"
      ]
    },
    {
      "cell_type": "code",
      "execution_count": null,
      "metadata": {},
      "outputs": [],
      "source": [
        "def value_counts_and_percentages(df, filter_by_cols=None):\n",
        "    data = df[filter_by_cols] if filter_by_cols else df\n",
        "    df_count = data.value_counts(dropna=False)\n",
        "    df_percent = round(data.value_counts(normalize=True, dropna=False) * 100, 1)\n",
        "    summary = pd.concat([df_count, df_percent], axis=1)\n",
        "    summary.columns = ['Count', '%']\n",
        "    return summary\n",
        "\n",
        "def plot_categorical_facets(data, x, facet_by, xlim=None):\n",
        "    g = sns.catplot(data=data, x=x, kind=\"count\", col=facet_by, col_wrap=2, sharey=False, hue=x, legend=False)\n",
        "    for ax in g.axes.flatten():\n",
        "        plt.setp(ax.get_xticklabels(), rotation=90)\n",
        "    if xlim:\n",
        "        plt.xlim(xlim)\n",
        "    plt.show()"
      ]
    },
    {
      "cell_type": "markdown",
      "metadata": {},
      "source": [
        "## Remove 'Undefined' Values"
      ]
    },
    {
      "cell_type": "markdown",
      "metadata": {},
      "source": [
        "### Meal"
      ]
    },
    {
      "cell_type": "markdown",
      "metadata": {},
      "source": [
        "View categories"
      ]
    },
    {
      "cell_type": "code",
      "execution_count": null,
      "metadata": {},
      "outputs": [],
      "source": [
        "summary = value_counts_and_percentages(df, ['meal'])\n",
        "summary"
      ]
    },
    {
      "cell_type": "markdown",
      "metadata": {},
      "source": [
        "Drop 'Undefined'"
      ]
    },
    {
      "cell_type": "code",
      "execution_count": null,
      "metadata": {},
      "outputs": [],
      "source": [
        "# Drop rows with values of 'Undefined'\n",
        "condition = (df['meal'] == 'Undefined')\n",
        "df = df[~condition]\n",
        "\n",
        "# Check values have been dropped\n",
        "summary = value_counts_and_percentages(df, ['meal'])\n",
        "summary"
      ]
    },
    {
      "cell_type": "markdown",
      "metadata": {},
      "source": [
        "### Market Segment"
      ]
    },
    {
      "cell_type": "markdown",
      "metadata": {},
      "source": [
        "View categories"
      ]
    },
    {
      "cell_type": "code",
      "execution_count": null,
      "metadata": {},
      "outputs": [],
      "source": [
        "summary = value_counts_and_percentages(df, ['market_segment'])\n",
        "summary"
      ]
    },
    {
      "cell_type": "markdown",
      "metadata": {},
      "source": [
        "Drop 'Undefined'"
      ]
    },
    {
      "cell_type": "code",
      "execution_count": null,
      "metadata": {},
      "outputs": [],
      "source": [
        "# Drop rows with values of 'Undefined'\n",
        "condition = (df['market_segment'] == 'Undefined')\n",
        "df = df[~condition]\n",
        "\n",
        "# Check values have been dropped\n",
        "summary = value_counts_and_percentages(df, ['market_segment'])\n",
        "summary"
      ]
    },
    {
      "cell_type": "markdown",
      "metadata": {},
      "source": [
        "### Distribution Channel"
      ]
    },
    {
      "cell_type": "markdown",
      "metadata": {},
      "source": [
        "View categories"
      ]
    },
    {
      "cell_type": "code",
      "execution_count": null,
      "metadata": {},
      "outputs": [],
      "source": [
        "summary = value_counts_and_percentages(df, ['distribution_channel'])\n",
        "summary"
      ]
    },
    {
      "cell_type": "markdown",
      "metadata": {},
      "source": [
        "Drop 'Undefined'"
      ]
    },
    {
      "cell_type": "code",
      "execution_count": null,
      "metadata": {},
      "outputs": [],
      "source": [
        "# Drop rows with values of 'Undefined'\n",
        "condition = (df['distribution_channel'] == 'Undefined')\n",
        "df = df[~condition]\n",
        "\n",
        "# Check values have been dropped\n",
        "summary = value_counts_and_percentages(df, ['distribution_channel'])\n",
        "summary"
      ]
    },
    {
      "cell_type": "markdown",
      "metadata": {},
      "source": [
        "## Lead Time"
      ]
    },
    {
      "cell_type": "markdown",
      "metadata": {},
      "source": [
        "Show distribution"
      ]
    },
    {
      "cell_type": "code",
      "execution_count": null,
      "metadata": {},
      "outputs": [],
      "source": [
        "sns.histplot(df, x='lead_time')"
      ]
    },
    {
      "cell_type": "markdown",
      "metadata": {},
      "source": [
        "Analyse values over 600"
      ]
    },
    {
      "cell_type": "code",
      "execution_count": null,
      "metadata": {},
      "outputs": [],
      "source": [
        "cols = ['hotel', 'lead_time', 'arrival_date_year', 'arrival_date_month', 'arrival_date_week_number', 'stays_in_weekend_nights',\n",
        "        'stays_in_week_nights', 'meal', 'market_segment', 'distribution_channel', 'agent', 'company','is_repeated_guest',\n",
        "        'reserved_room_type','assigned_room_type', 'deposit_type', 'days_in_waiting_list',\n",
        "        'customer_type', 'adr', 'required_car_parking_spaces', 'total_of_special_requests', 'reservation_status', 'reservation_status_date']\n",
        "cols = df.columns\n",
        "data = df[df['lead_time'] > 600][cols].value_counts(dropna=False)\n",
        "pd.DataFrame(data)"
      ]
    },
    {
      "cell_type": "markdown",
      "metadata": {},
      "source": [
        "The bookings with lead times between 600 and 700 share a number of similarities:\n",
        "- same hotel (City Hotel)\n",
        "- same travel agent\n",
        "- for off-peak seasons\n",
        "- all group bookings\n",
        "- same room type and meal plan\n",
        "- adr within 58-63 range\n",
        "- resulted in cancelled bookings\n",
        "\n",
        "The bookings with lead times above 700 also share a number of similarities:\n",
        "- same hotel (resort hotel)\n",
        "- direct bookings\n",
        "- were not cancelled\n",
        "\n",
        "They are also both unusual in different ways:\n",
        "- one has no overnight stays (either weekdays or weekends) and an adr of 0\n",
        "  - NOTE: a deeper analysis of adr=0 follows later\n",
        "- one has 28 overnight stays (i.e. 4 weeks)\n",
        "\n",
        "These bookings do not appear to be random anomalies but rather coherent subsets of bookings. They are also not too much higher than other lead time values.\n",
        "\n",
        "**ACTION:** keep all records"
      ]
    },
    {
      "cell_type": "markdown",
      "metadata": {},
      "source": [
        "## Overnight Stays"
      ]
    },
    {
      "cell_type": "markdown",
      "metadata": {},
      "source": [
        "Add a calculated `total_nights` variable to assist in analysis"
      ]
    },
    {
      "cell_type": "code",
      "execution_count": null,
      "metadata": {},
      "outputs": [],
      "source": [
        "df_nights = df.copy().drop_duplicates()\n",
        "df_nights['total_nights'] = df_nights['stays_in_weekend_nights'] + df['stays_in_week_nights']"
      ]
    },
    {
      "cell_type": "markdown",
      "metadata": {},
      "source": [
        "### Check consistency between `stays_in_weekend_nights` and `stays_in_week_nights`"
      ]
    },
    {
      "cell_type": "markdown",
      "metadata": {},
      "source": [
        "By calculating the weeks that a guest stayed using `stays_in_weekend_nights` and `stays_in_week_nights`, we can check that the difference is never greater than 1."
      ]
    },
    {
      "cell_type": "code",
      "execution_count": null,
      "metadata": {},
      "outputs": [],
      "source": [
        "# Create columns for weeks calculated by weekday nights and weekend nights\n",
        "df_nights['weekend_weeks'] = df_nights['stays_in_weekend_nights'] / 2\n",
        "df_nights['weekday_weeks'] = df_nights['stays_in_week_nights'] / 5\n",
        "\n",
        "# If consistent, the difference between weekend_weeks and weekday_weeks should be <= 1\n",
        "df_nights['weeks_are_consistent'] = (abs(df_nights['weekend_weeks'] - df_nights['weekday_weeks'])<=1)\n",
        "df_nights['weeks_are_consistent'].value_counts()"
      ]
    },
    {
      "cell_type": "markdown",
      "metadata": {},
      "source": [
        "All records have consistent values."
      ]
    },
    {
      "cell_type": "markdown",
      "metadata": {},
      "source": [
        "### Analyse highest values"
      ]
    },
    {
      "cell_type": "markdown",
      "metadata": {},
      "source": [
        "Inspect records with long stays"
      ]
    },
    {
      "cell_type": "code",
      "execution_count": null,
      "metadata": {},
      "outputs": [],
      "source": [
        "high_overnight_stays = df_nights[(df_nights['stays_in_weekend_nights']>10) | (df_nights['stays_in_week_nights']>30)]\n",
        "high_overnight_stays"
      ]
    },
    {
      "cell_type": "markdown",
      "metadata": {},
      "source": [
        "These observations all seem plausible. For example, there are no babies or children staying for this long. Some of the average daily rates are very low with 4 of the stays being without charge. This is presumably a concession for special guests."
      ]
    },
    {
      "cell_type": "markdown",
      "metadata": {},
      "source": [
        "### Zero Overnight Stays"
      ]
    },
    {
      "cell_type": "markdown",
      "metadata": {},
      "source": [
        "Inspect records with no overnight stays"
      ]
    },
    {
      "cell_type": "code",
      "execution_count": null,
      "metadata": {},
      "outputs": [],
      "source": [
        "no_overnight_stays = df_nights[(df_nights['total_nights']==0)]\n",
        "no_overnight_stays"
      ]
    },
    {
      "cell_type": "markdown",
      "metadata": {},
      "source": [
        "It is unclear what these bookings are but they are clearly a special case.\n",
        "\n",
        "These bookings constitute less than 1% of the overall data (duplicates removed)."
      ]
    },
    {
      "cell_type": "code",
      "execution_count": null,
      "metadata": {},
      "outputs": [],
      "source": [
        "summary = value_counts_and_percentages(df_nights, ['total_nights'])\n",
        "summary.loc[[0.0]]"
      ]
    },
    {
      "cell_type": "markdown",
      "metadata": {},
      "source": [
        "All of these records have **adr = 0**. According to the [original data source](https://www.sciencedirect.com/science/article/pii/S2352340918315191), Average Daily Rates are calculated by\n",
        "> dividing the sum of all lodging transactions by the total number of staying nights.\n",
        "\n",
        "If there are no staying nights, the value will be undefined and the system presumably defaults to zero."
      ]
    },
    {
      "cell_type": "code",
      "execution_count": null,
      "metadata": {},
      "outputs": [],
      "source": [
        "summary = value_counts_and_percentages(no_overnight_stays, ['adr'])\n",
        "summary"
      ]
    },
    {
      "cell_type": "markdown",
      "metadata": {},
      "source": [
        "Cancellation rates are much lower for this type of booking than overnight stays"
      ]
    },
    {
      "cell_type": "code",
      "execution_count": null,
      "metadata": {},
      "outputs": [],
      "source": [
        "condition = df_nights['total_nights'] == 0.0\n",
        "\n",
        "# Get percentage counts for day-only bookings and overnight bookings\n",
        "day_only_counts = value_counts_and_percentages(df_nights[condition], ['is_canceled'])\n",
        "overnight_counts = value_counts_and_percentages(df_nights[~condition], ['is_canceled'])\n",
        "\n",
        "# Concatenate data into one summary table\n",
        "summary = pd.concat([day_only_counts, overnight_counts], axis=1)\n",
        "\n",
        "# Drop Counts and rename columns\n",
        "summary.drop('Count', axis=1, inplace=True)\n",
        "summary.columns = ['No Overnight Stays (%)', 'Yes Overnight Stays (%)']\n",
        "\n",
        "summary"
      ]
    },
    {
      "cell_type": "markdown",
      "metadata": {},
      "source": [
        "Of all bookings that have adr = 0.0, the majority of these do consist of at least one overnight stay (~63%) but bookings with no overnight stays still constitute a significant minority and therefore will not be removed for the moment."
      ]
    },
    {
      "cell_type": "code",
      "execution_count": null,
      "metadata": {},
      "outputs": [],
      "source": [
        "zero_adr = df_nights[df_nights['adr'] == 0.0]\n",
        "summary = value_counts_and_percentages(zero_adr, ['total_nights'])\n",
        "summary"
      ]
    },
    {
      "cell_type": "markdown",
      "metadata": {},
      "source": [
        "## Adults"
      ]
    },
    {
      "cell_type": "markdown",
      "metadata": {},
      "source": [
        "View values"
      ]
    },
    {
      "cell_type": "code",
      "execution_count": null,
      "metadata": {},
      "outputs": [],
      "source": [
        "summary = value_counts_and_percentages(df.drop_duplicates(), ['adults'])\n",
        "summary"
      ]
    },
    {
      "cell_type": "markdown",
      "metadata": {},
      "source": [
        "Analyse records with more than 5 adults"
      ]
    },
    {
      "cell_type": "code",
      "execution_count": null,
      "metadata": {},
      "outputs": [],
      "source": [
        "high_adults = df[df['adults'] > 5].drop_duplicates()\n",
        "high_adults"
      ]
    },
    {
      "cell_type": "markdown",
      "metadata": {},
      "source": [
        "These records share some similarities\n",
        "- same hotel (Resort)\n",
        "- booked for Sep and Oct in 2015\n",
        "- booked over 300 days in advance\n",
        "- group bookings\n",
        "- many were booked through the same travel agent\n",
        "- adr = 0\n",
        "- country = PRT\n",
        "- all were cancelled - most in Jan 2015 but one in Sep 2015\n",
        "\n",
        "Since they were group bookings with other similarities, these records are valid and will not be removed. "
      ]
    },
    {
      "cell_type": "markdown",
      "metadata": {},
      "source": [
        "## Children"
      ]
    },
    {
      "cell_type": "markdown",
      "metadata": {},
      "source": [
        "View values"
      ]
    },
    {
      "cell_type": "code",
      "execution_count": null,
      "metadata": {},
      "outputs": [],
      "source": [
        "summary = value_counts_and_percentages(df.drop_duplicates(), ['children'])\n",
        "summary"
      ]
    },
    {
      "cell_type": "markdown",
      "metadata": {},
      "source": [
        "It is highly unlikely but not impossible that a booking involved 10 children"
      ]
    },
    {
      "cell_type": "code",
      "execution_count": null,
      "metadata": {},
      "outputs": [],
      "source": [
        "df[df['children'] == 10]"
      ]
    },
    {
      "cell_type": "markdown",
      "metadata": {},
      "source": [
        "View the distribution of ADR for the same room type"
      ]
    },
    {
      "cell_type": "code",
      "execution_count": null,
      "metadata": {},
      "outputs": [],
      "source": [
        "room_D = df[df['assigned_room_type'] == 'D'].drop_duplicates()\n",
        "sns.histplot(room_D, x='adr')"
      ]
    },
    {
      "cell_type": "markdown",
      "metadata": {},
      "source": [
        "It is likely an anomaly because:\n",
        "- Most hotels don’t allow a single room with 2 adults + 10 children so it was likely meant to say 1 or 0.\n",
        "- ADR (133.16) looks like a normal rate for 1–2 rooms, not for such a large group.\n",
        "- Reservation status = 'No-Show', which might explain why it slipped through without being corrected on arrival.\n",
        "\n",
        "**ACTION:** drop"
      ]
    },
    {
      "cell_type": "code",
      "execution_count": null,
      "metadata": {},
      "outputs": [],
      "source": [
        "condition = df['children'] == 10\n",
        "df = df[~condition]"
      ]
    },
    {
      "cell_type": "markdown",
      "metadata": {},
      "source": [
        "## Babies"
      ]
    },
    {
      "cell_type": "markdown",
      "metadata": {},
      "source": [
        "View values"
      ]
    },
    {
      "cell_type": "code",
      "execution_count": null,
      "metadata": {},
      "outputs": [],
      "source": [
        "summary = value_counts_and_percentages(df.drop_duplicates(), ['babies'])\n",
        "summary"
      ]
    },
    {
      "cell_type": "markdown",
      "metadata": {},
      "source": [
        "Inspect babies > 5"
      ]
    },
    {
      "cell_type": "code",
      "execution_count": null,
      "metadata": {},
      "outputs": [],
      "source": [
        "df[df['babies'] > 5]"
      ]
    },
    {
      "cell_type": "markdown",
      "metadata": {},
      "source": [
        "The rest of the details look to be consistent with small bookings. These are considered to be anomalies.\n",
        "\n",
        "**ACTION:** drop"
      ]
    },
    {
      "cell_type": "code",
      "execution_count": null,
      "metadata": {},
      "outputs": [],
      "source": [
        "condition = df['babies'] > 5\n",
        "df = df[~condition]"
      ]
    },
    {
      "cell_type": "markdown",
      "metadata": {},
      "source": [
        "## Previous Cancellations"
      ]
    },
    {
      "cell_type": "markdown",
      "metadata": {},
      "source": [
        "View values"
      ]
    },
    {
      "cell_type": "code",
      "execution_count": null,
      "metadata": {},
      "outputs": [],
      "source": [
        "summary = value_counts_and_percentages(df.drop_duplicates(), ['previous_cancellations'])\n",
        "summary"
      ]
    },
    {
      "cell_type": "markdown",
      "metadata": {},
      "source": [
        "Inspect records with high previous_cancellations"
      ]
    },
    {
      "cell_type": "code",
      "execution_count": null,
      "metadata": {},
      "outputs": [],
      "source": [
        "high_cancellations = df[df['previous_cancellations'] > 15].drop_duplicates()\n",
        "high_cancellations\n"
      ]
    },
    {
      "cell_type": "markdown",
      "metadata": {},
      "source": [
        "View relationship between previous_cancellations and previous_bookings_not_canceled"
      ]
    },
    {
      "cell_type": "code",
      "execution_count": null,
      "metadata": {},
      "outputs": [],
      "source": [
        "sns.scatterplot(df.drop_duplicates(), x='previous_cancellations', y='previous_bookings_not_canceled')"
      ]
    },
    {
      "cell_type": "markdown",
      "metadata": {},
      "source": [
        "Guests who have very high cancellation rates are typically characterised by having no previous non-cancelled bookings and no other records after Oct 2015.\n",
        "\n",
        "These are probably valid system records which were flagged by the hotel to prevent future bookings by these customers although they could represent a system design error (e.g. the same “guest” ID may be reused by an agent, inflating cancellation counts).\n",
        "\n",
        "**ACTION:** keep"
      ]
    },
    {
      "cell_type": "markdown",
      "metadata": {},
      "source": [
        "## Previous Bookings Not Cancelled"
      ]
    },
    {
      "cell_type": "markdown",
      "metadata": {},
      "source": [
        "Inspect previous_bookings_not_canceled > 40"
      ]
    },
    {
      "cell_type": "code",
      "execution_count": null,
      "metadata": {},
      "outputs": [],
      "source": [
        "df[df['previous_bookings_not_canceled'] > 40].drop_duplicates()\n"
      ]
    },
    {
      "cell_type": "markdown",
      "metadata": {},
      "source": [
        "These bookings appear to be valid as they were all made to the City Hotel by the same company with low lead times.\n",
        "\n",
        "**ACTION:** keep"
      ]
    },
    {
      "cell_type": "markdown",
      "metadata": {},
      "source": [
        "## Booking Changes"
      ]
    },
    {
      "cell_type": "markdown",
      "metadata": {},
      "source": [
        "View values"
      ]
    },
    {
      "cell_type": "code",
      "execution_count": null,
      "metadata": {},
      "outputs": [],
      "source": [
        "summary = value_counts_and_percentages(df.drop_duplicates(), ['booking_changes'])\n",
        "summary"
      ]
    },
    {
      "cell_type": "code",
      "execution_count": null,
      "metadata": {},
      "outputs": [],
      "source": [
        "df[df['booking_changes'] > 15].drop_duplicates()"
      ]
    },
    {
      "cell_type": "markdown",
      "metadata": {},
      "source": [
        "These do not look like random errors since there are similarities:\n",
        "- All of these bookings are associated with a company or an agent (most are tied to agent 9 or agent 240, which may represent large travel agencies or corporate portals)\n",
        "- Some of these are very long stays and these are more likely to require some booking changes\n",
        "\n",
        "They could possibly be explained by agencies using \"change\" instead of cancel/rebook.\n",
        "\n",
        "**ACTION:** keep"
      ]
    },
    {
      "cell_type": "markdown",
      "metadata": {},
      "source": [
        "## Days in Waiting List"
      ]
    },
    {
      "cell_type": "code",
      "execution_count": null,
      "metadata": {},
      "outputs": [],
      "source": [
        "summary = value_counts_and_percentages(df.drop_duplicates(), ['days_in_waiting_list'])\n",
        "summary"
      ]
    },
    {
      "cell_type": "code",
      "execution_count": null,
      "metadata": {},
      "outputs": [],
      "source": [
        "df[df['days_in_waiting_list'] > 300].drop_duplicates()"
      ]
    },
    {
      "cell_type": "markdown",
      "metadata": {},
      "source": [
        "These look to be valid entries because they share the following similiarities:\n",
        "- same hotel (City)\n",
        "- group bookings by the same agent (1)\n",
        "- high lead times\n",
        "\n",
        "They reflect group reservations booked far in advance, held on a waiting list until confirmed.\n",
        "\n",
        "**ACTION:** keep"
      ]
    },
    {
      "cell_type": "markdown",
      "metadata": {},
      "source": [
        "## Average Daily Rates"
      ]
    },
    {
      "cell_type": "markdown",
      "metadata": {},
      "source": [
        "A negative value for ADR is not valid\n",
        "\n",
        "**ACTION:** drop"
      ]
    },
    {
      "cell_type": "code",
      "execution_count": null,
      "metadata": {},
      "outputs": [],
      "source": [
        "condition = df['adr'] < 0\n",
        "df = df[~condition]"
      ]
    },
    {
      "cell_type": "markdown",
      "metadata": {},
      "source": [
        "View values"
      ]
    },
    {
      "cell_type": "code",
      "execution_count": null,
      "metadata": {},
      "outputs": [],
      "source": [
        "summary = value_counts_and_percentages(df.drop_duplicates(), ['adr'])\n",
        "summary"
      ]
    },
    {
      "cell_type": "markdown",
      "metadata": {},
      "source": [
        "Approximately 2% of unduplicated records have **adr = 0** so it is worth more exploration."
      ]
    },
    {
      "cell_type": "code",
      "execution_count": null,
      "metadata": {},
      "outputs": [],
      "source": [
        "df_adr = df.copy().drop_duplicates()\n",
        "df_adr['zero_adr'] = df_adr['adr'] == 0.0\n",
        "df_adr['zero_adr'].value_counts(normalize=True)"
      ]
    },
    {
      "cell_type": "markdown",
      "metadata": {},
      "source": [
        "### Distributions in Categorical Features"
      ]
    },
    {
      "cell_type": "markdown",
      "metadata": {},
      "source": [
        "Look for differences in the distribution of categorical variables."
      ]
    },
    {
      "cell_type": "code",
      "execution_count": null,
      "metadata": {},
      "outputs": [],
      "source": [
        "cat_features = df_adr.select_dtypes(['category', 'bool']).columns.to_list()\n",
        "for feature in cat_features:\n",
        "    plot_categorical_facets(df_adr, feature, 'zero_adr')"
      ]
    },
    {
      "cell_type": "markdown",
      "metadata": {},
      "source": [
        "View which agents booked the most zero-adr bookings"
      ]
    },
    {
      "cell_type": "code",
      "execution_count": null,
      "metadata": {},
      "outputs": [],
      "source": [
        "df_adr[df_adr['zero_adr'] == True]['agent'].value_counts().head(3)"
      ]
    },
    {
      "cell_type": "markdown",
      "metadata": {},
      "source": [
        "View which companies booked the most zero-adr bookings"
      ]
    },
    {
      "cell_type": "code",
      "execution_count": null,
      "metadata": {},
      "outputs": [],
      "source": [
        "df_adr[df_adr['zero_adr'] == True]['company'].value_counts().head(3)"
      ]
    },
    {
      "cell_type": "markdown",
      "metadata": {},
      "source": [
        "### Distributions in Numeric Features"
      ]
    },
    {
      "cell_type": "markdown",
      "metadata": {},
      "source": [
        "View numeric features to investigate"
      ]
    },
    {
      "cell_type": "code",
      "execution_count": 413,
      "metadata": {},
      "outputs": [
        {
          "name": "stdout",
          "output_type": "stream",
          "text": [
            "['lead_time', 'arrival_date_week_number', 'arrival_date_day_of_month', 'stays_in_weekend_nights', 'stays_in_week_nights', 'adults', 'children', 'babies', 'previous_cancellations', 'previous_bookings_not_canceled', 'booking_changes', 'days_in_waiting_list', 'adr', 'required_car_parking_spaces', 'total_of_special_requests']\n"
          ]
        }
      ],
      "source": [
        "numeric_features = df_adr.select_dtypes('number').columns.to_list()\n",
        "print(numeric_features)"
      ]
    },
    {
      "cell_type": "markdown",
      "metadata": {},
      "source": [
        "View distributions of lead times"
      ]
    },
    {
      "cell_type": "code",
      "execution_count": 414,
      "metadata": {},
      "outputs": [
        {
          "data": {
            "text/plain": [
              "(0.0, 300.0)"
            ]
          },
          "execution_count": 414,
          "metadata": {},
          "output_type": "execute_result"
        },
        {
          "data": {
            "image/png": "[encoded data removed]",
            "text/plain": [
              "<Figure size 640x480 with 1 Axes>"
            ]
          },
          "metadata": {},
          "output_type": "display_data"
        }
      ],
      "source": [
        "sns.histplot(df_adr, x='lead_time', hue='zero_adr', stat='density', common_norm=False, kde=True)\n",
        "plt.xlim(0,300)"
      ]
    },
    {
      "cell_type": "markdown",
      "metadata": {},
      "source": [
        "Bookings with zero-adr are much more likely to have zero lead time"
      ]
    },
    {
      "cell_type": "code",
      "execution_count": 415,
      "metadata": {},
      "outputs": [
        {
          "data": {
            "text/html": [
              "<div>\n",
              "<style scoped>\n",
              "    .dataframe tbody tr th:only-of-type {\n",
              "        vertical-align: middle;\n",
              "    }\n",
              "\n",
              "    .dataframe tbody tr th {\n",
              "        vertical-align: top;\n",
              "    }\n",
              "\n",
              "    .dataframe thead th {\n",
              "        text-align: right;\n",
              "    }\n",
              "</style>\n",
              "<table border=\"1\" class=\"dataframe\">\n",
              "  <thead>\n",
              "    <tr style=\"text-align: right;\">\n",
              "      <th></th>\n",
              "      <th>zero-adr (%)</th>\n",
              "      <th>non zero-adr (%)</th>\n",
              "    </tr>\n",
              "    <tr>\n",
              "      <th>lead_time</th>\n",
              "      <th></th>\n",
              "      <th></th>\n",
              "    </tr>\n",
              "  </thead>\n",
              "  <tbody>\n",
              "    <tr>\n",
              "      <th>0</th>\n",
              "      <td>30.1</td>\n",
              "      <td>6.4</td>\n",
              "    </tr>\n",
              "    <tr>\n",
              "      <th>1</th>\n",
              "      <td>9.4</td>\n",
              "      <td>3.6</td>\n",
              "    </tr>\n",
              "    <tr>\n",
              "      <th>2</th>\n",
              "      <td>4.1</td>\n",
              "      <td>2.2</td>\n",
              "    </tr>\n",
              "    <tr>\n",
              "      <th>3</th>\n",
              "      <td>3.8</td>\n",
              "      <td>1.9</td>\n",
              "    </tr>\n",
              "    <tr>\n",
              "      <th>4</th>\n",
              "      <td>3.5</td>\n",
              "      <td>1.8</td>\n",
              "    </tr>\n",
              "    <tr>\n",
              "      <th>...</th>\n",
              "      <td>...</td>\n",
              "      <td>...</td>\n",
              "    </tr>\n",
              "    <tr>\n",
              "      <th>400</th>\n",
              "      <td>NaN</td>\n",
              "      <td>0.0</td>\n",
              "    </tr>\n",
              "    <tr>\n",
              "      <th>410</th>\n",
              "      <td>NaN</td>\n",
              "      <td>0.0</td>\n",
              "    </tr>\n",
              "    <tr>\n",
              "      <th>411</th>\n",
              "      <td>NaN</td>\n",
              "      <td>0.0</td>\n",
              "    </tr>\n",
              "    <tr>\n",
              "      <th>626</th>\n",
              "      <td>NaN</td>\n",
              "      <td>0.0</td>\n",
              "    </tr>\n",
              "    <tr>\n",
              "      <th>709</th>\n",
              "      <td>NaN</td>\n",
              "      <td>0.0</td>\n",
              "    </tr>\n",
              "  </tbody>\n",
              "</table>\n",
              "<p>479 rows × 2 columns</p>\n",
              "</div>"
            ],
            "text/plain": [
              "           zero-adr (%)  non zero-adr (%)\n",
              "lead_time                                \n",
              "0                  30.1               6.4\n",
              "1                   9.4               3.6\n",
              "2                   4.1               2.2\n",
              "3                   3.8               1.9\n",
              "4                   3.5               1.8\n",
              "...                 ...               ...\n",
              "400                 NaN               0.0\n",
              "410                 NaN               0.0\n",
              "411                 NaN               0.0\n",
              "626                 NaN               0.0\n",
              "709                 NaN               0.0\n",
              "\n",
              "[479 rows x 2 columns]"
            ]
          },
          "execution_count": 415,
          "metadata": {},
          "output_type": "execute_result"
        }
      ],
      "source": [
        "df_zero = df_adr[df_adr['zero_adr']==True]\n",
        "df_non_zero = df_adr[df_adr['zero_adr']==False]\n",
        "\n",
        "zero_count = value_counts_and_percentages(df_zero, ['lead_time'])\n",
        "non_zero_count = value_counts_and_percentages(df_non_zero, ['lead_time'])\n",
        "\n",
        "summary = pd.concat([zero_count, non_zero_count], axis=1)\n",
        "summary.drop('Count', axis=1, inplace=True)\n",
        "summary.columns = ['zero-adr (%)', 'non zero-adr (%)']\n",
        "summary"
      ]
    },
    {
      "cell_type": "markdown",
      "metadata": {},
      "source": [
        "View duration of stay"
      ]
    },
    {
      "cell_type": "code",
      "execution_count": 416,
      "metadata": {},
      "outputs": [
        {
          "data": {
            "image/png": "[encoded data removed]",
            "text/plain": [
              "<Figure size 1000x500 with 2 Axes>"
            ]
          },
          "metadata": {},
          "output_type": "display_data"
        }
      ],
      "source": [
        "plot_categorical_facets(df_adr, 'stays_in_weekend_nights', 'zero_adr')"
      ]
    },
    {
      "cell_type": "code",
      "execution_count": 418,
      "metadata": {},
      "outputs": [
        {
          "data": {
            "image/png": "[encoded data removed]",
            "text/plain": [
              "<Figure size 1000x500 with 2 Axes>"
            ]
          },
          "metadata": {},
          "output_type": "display_data"
        }
      ],
      "source": [
        "plot_categorical_facets(df_adr, 'stays_in_week_nights', 'zero_adr', (-1,10))"
      ]
    },
    {
      "cell_type": "code",
      "execution_count": 421,
      "metadata": {},
      "outputs": [
        {
          "data": {
            "image/png": "[encoded data removed]",
            "text/plain": [
              "<Figure size 1000x500 with 2 Axes>"
            ]
          },
          "metadata": {},
          "output_type": "display_data"
        }
      ],
      "source": [
        "df_adr['total_nights'] = df_adr['stays_in_week_nights'] + df_adr['stays_in_weekend_nights']\n",
        "plot_categorical_facets(df_adr, 'total_nights', 'zero_adr', (-1,20))"
      ]
    },
    {
      "cell_type": "code",
      "execution_count": null,
      "metadata": {},
      "outputs": [],
      "source": [
        "for feature in numeric_features:\n",
        "    sns.histplot(df_adr, x=feature, hue='zero_adr', stat='density', common_norm=False, kde=True)\n",
        "    plt.show()"
      ]
    },
    {
      "cell_type": "markdown",
      "metadata": {},
      "source": []
    },
    {
      "cell_type": "markdown",
      "metadata": {},
      "source": [
        "### Conclusions"
      ]
    },
    {
      "cell_type": "markdown",
      "metadata": {},
      "source": [
        "Compared to standard bookings, bookings with zero ADR have:\n",
        "- lower percentage cancellations\n",
        "- higher percentage `is_repeated_guest`\n",
        "- higher percentages in Oct and Dec for `arrival_date_month`\n",
        "- higher percentages of 'Complementary' for `market_segment`\n",
        "- higher percentages of 'Direct' for `distribution_channel`\n",
        "- higher perentage of room I and K for `assigned_room_type`\n",
        "- higher percentage for 240 for `agent`\n",
        "- predominantly been booked through company 45\n",
        "- higher occurences of zero lead time\n",
        "- fewer overnight stays and a large proportion of zero overnight stays \n",
        "\n",
        "These patterns make it unlikely that they are random errors. It is more likely that zero ADR represents valid \"non-revenue\" bookings such as staff stays, promotions, group allotments or company-specific deals where revenue is not recorded at ADR level.\n",
        "\n",
        "**ACTION:** Keep"
      ]
    },
    {
      "cell_type": "markdown",
      "metadata": {},
      "source": [
        "## Car Parking"
      ]
    },
    {
      "cell_type": "markdown",
      "metadata": {},
      "source": [
        "View values"
      ]
    },
    {
      "cell_type": "code",
      "execution_count": 422,
      "metadata": {},
      "outputs": [
        {
          "data": {
            "text/html": [
              "<div>\n",
              "<style scoped>\n",
              "    .dataframe tbody tr th:only-of-type {\n",
              "        vertical-align: middle;\n",
              "    }\n",
              "\n",
              "    .dataframe tbody tr th {\n",
              "        vertical-align: top;\n",
              "    }\n",
              "\n",
              "    .dataframe thead th {\n",
              "        text-align: right;\n",
              "    }\n",
              "</style>\n",
              "<table border=\"1\" class=\"dataframe\">\n",
              "  <thead>\n",
              "    <tr style=\"text-align: right;\">\n",
              "      <th></th>\n",
              "      <th>Count</th>\n",
              "      <th>%</th>\n",
              "    </tr>\n",
              "    <tr>\n",
              "      <th>required_car_parking_spaces</th>\n",
              "      <th></th>\n",
              "      <th></th>\n",
              "    </tr>\n",
              "  </thead>\n",
              "  <tbody>\n",
              "    <tr>\n",
              "      <th>0</th>\n",
              "      <td>79627</td>\n",
              "      <td>91.6</td>\n",
              "    </tr>\n",
              "    <tr>\n",
              "      <th>1</th>\n",
              "      <td>7235</td>\n",
              "      <td>8.3</td>\n",
              "    </tr>\n",
              "    <tr>\n",
              "      <th>2</th>\n",
              "      <td>28</td>\n",
              "      <td>0.0</td>\n",
              "    </tr>\n",
              "    <tr>\n",
              "      <th>3</th>\n",
              "      <td>3</td>\n",
              "      <td>0.0</td>\n",
              "    </tr>\n",
              "    <tr>\n",
              "      <th>8</th>\n",
              "      <td>2</td>\n",
              "      <td>0.0</td>\n",
              "    </tr>\n",
              "  </tbody>\n",
              "</table>\n",
              "</div>"
            ],
            "text/plain": [
              "                             Count     %\n",
              "required_car_parking_spaces             \n",
              "0                            79627  91.6\n",
              "1                             7235   8.3\n",
              "2                               28   0.0\n",
              "3                                3   0.0\n",
              "8                                2   0.0"
            ]
          },
          "execution_count": 422,
          "metadata": {},
          "output_type": "execute_result"
        }
      ],
      "source": [
        "summary = value_counts_and_percentages(df.drop_duplicates(), ['required_car_parking_spaces'])\n",
        "summary"
      ]
    },
    {
      "cell_type": "markdown",
      "metadata": {},
      "source": [
        "Inspect required_car_parking_spaces > 5"
      ]
    },
    {
      "cell_type": "code",
      "execution_count": null,
      "metadata": {},
      "outputs": [
        {
          "data": {
            "text/html": [
              "<div>\n",
              "<style scoped>\n",
              "    .dataframe tbody tr th:only-of-type {\n",
              "        vertical-align: middle;\n",
              "    }\n",
              "\n",
              "    .dataframe tbody tr th {\n",
              "        vertical-align: top;\n",
              "    }\n",
              "\n",
              "    .dataframe thead th {\n",
              "        text-align: right;\n",
              "    }\n",
              "</style>\n",
              "<table border=\"1\" class=\"dataframe\">\n",
              "  <thead>\n",
              "    <tr style=\"text-align: right;\">\n",
              "      <th></th>\n",
              "      <th>29045</th>\n",
              "      <th>29046</th>\n",
              "    </tr>\n",
              "  </thead>\n",
              "  <tbody>\n",
              "    <tr>\n",
              "      <th>hotel</th>\n",
              "      <td>Resort Hotel</td>\n",
              "      <td>Resort Hotel</td>\n",
              "    </tr>\n",
              "    <tr>\n",
              "      <th>is_canceled</th>\n",
              "      <td>False</td>\n",
              "      <td>False</td>\n",
              "    </tr>\n",
              "    <tr>\n",
              "      <th>lead_time</th>\n",
              "      <td>26</td>\n",
              "      <td>138</td>\n",
              "    </tr>\n",
              "    <tr>\n",
              "      <th>arrival_date_year</th>\n",
              "      <td>2017</td>\n",
              "      <td>2017</td>\n",
              "    </tr>\n",
              "    <tr>\n",
              "      <th>arrival_date_month</th>\n",
              "      <td>March</td>\n",
              "      <td>March</td>\n",
              "    </tr>\n",
              "    <tr>\n",
              "      <th>arrival_date_week_number</th>\n",
              "      <td>11</td>\n",
              "      <td>12</td>\n",
              "    </tr>\n",
              "    <tr>\n",
              "      <th>arrival_date_day_of_month</th>\n",
              "      <td>14</td>\n",
              "      <td>19</td>\n",
              "    </tr>\n",
              "    <tr>\n",
              "      <th>stays_in_weekend_nights</th>\n",
              "      <td>0</td>\n",
              "      <td>2</td>\n",
              "    </tr>\n",
              "    <tr>\n",
              "      <th>stays_in_week_nights</th>\n",
              "      <td>5</td>\n",
              "      <td>2</td>\n",
              "    </tr>\n",
              "    <tr>\n",
              "      <th>adults</th>\n",
              "      <td>2</td>\n",
              "      <td>2</td>\n",
              "    </tr>\n",
              "    <tr>\n",
              "      <th>children</th>\n",
              "      <td>0</td>\n",
              "      <td>0</td>\n",
              "    </tr>\n",
              "    <tr>\n",
              "      <th>babies</th>\n",
              "      <td>0</td>\n",
              "      <td>0</td>\n",
              "    </tr>\n",
              "    <tr>\n",
              "      <th>meal</th>\n",
              "      <td>HB</td>\n",
              "      <td>HB</td>\n",
              "    </tr>\n",
              "    <tr>\n",
              "      <th>country</th>\n",
              "      <td>AUT</td>\n",
              "      <td>AUT</td>\n",
              "    </tr>\n",
              "    <tr>\n",
              "      <th>market_segment</th>\n",
              "      <td>Direct</td>\n",
              "      <td>Direct</td>\n",
              "    </tr>\n",
              "    <tr>\n",
              "      <th>distribution_channel</th>\n",
              "      <td>Corporate</td>\n",
              "      <td>Corporate</td>\n",
              "    </tr>\n",
              "    <tr>\n",
              "      <th>is_repeated_guest</th>\n",
              "      <td>True</td>\n",
              "      <td>True</td>\n",
              "    </tr>\n",
              "    <tr>\n",
              "      <th>previous_cancellations</th>\n",
              "      <td>0</td>\n",
              "      <td>0</td>\n",
              "    </tr>\n",
              "    <tr>\n",
              "      <th>previous_bookings_not_canceled</th>\n",
              "      <td>2</td>\n",
              "      <td>2</td>\n",
              "    </tr>\n",
              "    <tr>\n",
              "      <th>reserved_room_type</th>\n",
              "      <td>E</td>\n",
              "      <td>E</td>\n",
              "    </tr>\n",
              "    <tr>\n",
              "      <th>assigned_room_type</th>\n",
              "      <td>I</td>\n",
              "      <td>F</td>\n",
              "    </tr>\n",
              "    <tr>\n",
              "      <th>booking_changes</th>\n",
              "      <td>1</td>\n",
              "      <td>1</td>\n",
              "    </tr>\n",
              "    <tr>\n",
              "      <th>deposit_type</th>\n",
              "      <td>No Deposit</td>\n",
              "      <td>No Deposit</td>\n",
              "    </tr>\n",
              "    <tr>\n",
              "      <th>agent</th>\n",
              "      <td>&lt;NA&gt;</td>\n",
              "      <td>&lt;NA&gt;</td>\n",
              "    </tr>\n",
              "    <tr>\n",
              "      <th>company</th>\n",
              "      <td>&lt;NA&gt;</td>\n",
              "      <td>&lt;NA&gt;</td>\n",
              "    </tr>\n",
              "    <tr>\n",
              "      <th>days_in_waiting_list</th>\n",
              "      <td>0</td>\n",
              "      <td>122</td>\n",
              "    </tr>\n",
              "    <tr>\n",
              "      <th>customer_type</th>\n",
              "      <td>Transient-Party</td>\n",
              "      <td>Transient-Party</td>\n",
              "    </tr>\n",
              "    <tr>\n",
              "      <th>adr</th>\n",
              "      <td>40.0</td>\n",
              "      <td>80.0</td>\n",
              "    </tr>\n",
              "    <tr>\n",
              "      <th>required_car_parking_spaces</th>\n",
              "      <td>8</td>\n",
              "      <td>8</td>\n",
              "    </tr>\n",
              "    <tr>\n",
              "      <th>total_of_special_requests</th>\n",
              "      <td>1</td>\n",
              "      <td>0</td>\n",
              "    </tr>\n",
              "    <tr>\n",
              "      <th>reservation_status</th>\n",
              "      <td>Check-Out</td>\n",
              "      <td>Check-Out</td>\n",
              "    </tr>\n",
              "    <tr>\n",
              "      <th>reservation_status_date</th>\n",
              "      <td>2017-03-19 00:00:00</td>\n",
              "      <td>2017-03-23 00:00:00</td>\n",
              "    </tr>\n",
              "  </tbody>\n",
              "</table>\n",
              "</div>"
            ],
            "text/plain": [
              "                                              29045                29046\n",
              "hotel                                  Resort Hotel         Resort Hotel\n",
              "is_canceled                                   False                False\n",
              "lead_time                                        26                  138\n",
              "arrival_date_year                              2017                 2017\n",
              "arrival_date_month                            March                March\n",
              "arrival_date_week_number                         11                   12\n",
              "arrival_date_day_of_month                        14                   19\n",
              "stays_in_weekend_nights                           0                    2\n",
              "stays_in_week_nights                              5                    2\n",
              "adults                                            2                    2\n",
              "children                                          0                    0\n",
              "babies                                            0                    0\n",
              "meal                                             HB                   HB\n",
              "country                                         AUT                  AUT\n",
              "market_segment                               Direct               Direct\n",
              "distribution_channel                      Corporate            Corporate\n",
              "is_repeated_guest                              True                 True\n",
              "previous_cancellations                            0                    0\n",
              "previous_bookings_not_canceled                    2                    2\n",
              "reserved_room_type                                E                    E\n",
              "assigned_room_type                                I                    F\n",
              "booking_changes                                   1                    1\n",
              "deposit_type                             No Deposit           No Deposit\n",
              "agent                                          <NA>                 <NA>\n",
              "company                                        <NA>                 <NA>\n",
              "days_in_waiting_list                              0                  122\n",
              "customer_type                       Transient-Party      Transient-Party\n",
              "adr                                            40.0                 80.0\n",
              "required_car_parking_spaces                       8                    8\n",
              "total_of_special_requests                         1                    0\n",
              "reservation_status                        Check-Out            Check-Out\n",
              "reservation_status_date         2017-03-19 00:00:00  2017-03-23 00:00:00"
            ]
          },
          "execution_count": 425,
          "metadata": {},
          "output_type": "execute_result"
        }
      ],
      "source": [
        "df[df['required_car_parking_spaces'] > 5]"
      ]
    },
    {
      "cell_type": "markdown",
      "metadata": {},
      "source": [
        "These are valid bookings because they are both corporate bookings classed under a `customer_type` of 'Transient-Party'.\n",
        "\n",
        "**ACTION:** Keep"
      ]
    },
    {
      "cell_type": "markdown",
      "metadata": {},
      "source": [
        "# Data Consistency Analysis"
      ]
    },
    {
      "cell_type": "markdown",
      "metadata": {},
      "source": [
        "## Investigate Distribution Channel"
      ]
    },
    {
      "cell_type": "markdown",
      "metadata": {},
      "source": [
        "### Initial Investigations"
      ]
    },
    {
      "cell_type": "markdown",
      "metadata": {},
      "source": [
        "View values for `distribution_channel`"
      ]
    },
    {
      "cell_type": "code",
      "execution_count": null,
      "metadata": {},
      "outputs": [],
      "source": [
        "summary = value_counts_and_percentages(df, ['distribution_channel'])\n",
        "display(summary)"
      ]
    },
    {
      "cell_type": "markdown",
      "metadata": {},
      "source": [
        "### `distribution_channel` + `agent`"
      ]
    },
    {
      "cell_type": "markdown",
      "metadata": {},
      "source": [
        "We expect that when an **agent** is specified, **distribution_channel = TA/TO**"
      ]
    },
    {
      "cell_type": "code",
      "execution_count": null,
      "metadata": {},
      "outputs": [],
      "source": [
        "data = df[~df['agent'].isna()]\n",
        "summary = value_counts_and_percentages(data, ['distribution_channel'])\n",
        "display(summary)"
      ]
    },
    {
      "cell_type": "markdown",
      "metadata": {},
      "source": [
        "Findings\n",
        "- **TA/TO** is expected:\n",
        "  - This is the majority class with over 90% of all observations\n",
        "  - ACTION: keep\n",
        "- **Direct** is inconsistent:\n",
        "  - Probably `distribution_channel` or `agent` is mis-labelled but impossible to know which.\n",
        "  - ACTION: drop\n",
        "- **Corporate** is possible:\n",
        "  - Some corporate bookings are handled by travel agents (e.g. travel management companies).\n",
        "  - ACTION: investigate further\n",
        "- **GDS** is valid:\n",
        "  - Many travel agents book via GDS.\n",
        "  - ACTION: keep"
      ]
    },
    {
      "cell_type": "markdown",
      "metadata": {},
      "source": [
        "Check that similar patterns are seen with both hotels"
      ]
    },
    {
      "cell_type": "code",
      "execution_count": null,
      "metadata": {},
      "outputs": [],
      "source": [
        "# City\n",
        "city_data = df[(~df['agent'].isna() & (df['hotel'] == 'City Hotel'))]\n",
        "city_summary = value_counts_and_percentages(city_data, ['distribution_channel'])\n",
        "\n",
        "# Resort\n",
        "resort_data = df[(~df['agent'].isna() & (df['hotel'] == 'Resort Hotel'))]\n",
        "resort_summary = value_counts_and_percentages(resort_data, ['distribution_channel'])\n",
        "\n",
        "# Concatenate into one table and remove counts\n",
        "summary = pd.concat([city_summary, resort_summary], axis=1)\n",
        "summary.drop('Count', axis=1, inplace=True)\n",
        "\n",
        "# Rename column headings and display\n",
        "summary.columns = ['% of City Hotel Bookings', '% of Resort Hotel Bookings']\n",
        "summary\n"
      ]
    },
    {
      "cell_type": "markdown",
      "metadata": {},
      "source": [
        "Similar patterns are seen with both hotels so there don't seem to be issues with administrative errors in only one of the hotels.\n",
        "\n",
        "Investigate `Corporate` further\n",
        "- How many of the 1134 corporate bookings have a company ID specified alongside the travel agent?"
      ]
    },
    {
      "cell_type": "code",
      "execution_count": null,
      "metadata": {},
      "outputs": [],
      "source": [
        "data = df[(~df['agent'].isna()) & (~df['company'].isna())]\n",
        "summary = value_counts_and_percentages(data, ['distribution_channel'])\n",
        "display(summary)"
      ]
    },
    {
      "cell_type": "markdown",
      "metadata": {},
      "source": [
        "Findings\n",
        "- Only 132 of the 1134 agent bookings assigned distribution_channel = corporate have a company ID associated with them (~12%)\n",
        "- These may still be valid records where the company was not recorded\n",
        "- ACTION: keep 'Corporate' but drop 'Direct'\n"
      ]
    },
    {
      "cell_type": "code",
      "execution_count": null,
      "metadata": {},
      "outputs": [],
      "source": [
        "# Drop rows with specified agent but distribution_channel = 'Direct'\n",
        "condition = (~df['agent'].isna()) & (df['distribution_channel'] == 'Direct')\n",
        "df = df[~condition]\n",
        "\n",
        "data = df[~df['agent'].isna()]\n",
        "summary = value_counts_and_percentages(data, ['distribution_channel'])\n",
        "display(summary)"
      ]
    },
    {
      "cell_type": "markdown",
      "metadata": {},
      "source": [
        "### `distribution_channel` + `company`"
      ]
    },
    {
      "cell_type": "markdown",
      "metadata": {},
      "source": [
        "We expect that when a **company** is specified, **distribution_channel = Corporate**"
      ]
    },
    {
      "cell_type": "code",
      "execution_count": null,
      "metadata": {},
      "outputs": [],
      "source": [
        "data = df[~df['company'].isna()]\n",
        "summary = value_counts_and_percentages(data, ['distribution_channel'])\n",
        "display(summary)"
      ]
    },
    {
      "cell_type": "markdown",
      "metadata": {},
      "source": [
        "Findings\n",
        "- **Corporate** is expected:\n",
        "  - This is the majority class with ~ 75% of all observations\n",
        "  - ACTION: keep\n",
        "- **TA/TO** is possible:\n",
        "  - Some corporate bookings are handled by travel agents (e.g. travel management companies).\n",
        "  - ACTION: keep\n",
        "- **Direct** is inconsistent:\n",
        "  - Probably `distribution_channel` or `company` is mis-labelled but impossible to know which.\n",
        "  - ACTION: drop\n",
        "- **GDS** is possible:\n",
        "  - The company could have booked via GDS.\n",
        "  - ACTION: keep"
      ]
    },
    {
      "cell_type": "code",
      "execution_count": null,
      "metadata": {},
      "outputs": [],
      "source": [
        "# Drop rows with specified company but distribution_channel = 'Direct'\n",
        "condition = (~df['company'].isna()) & (df['distribution_channel'] == 'Direct')\n",
        "df = df[~condition]\n",
        "\n",
        "data = df[~df['company'].isna()]\n",
        "summary = value_counts_and_percentages(data, ['distribution_channel'])\n",
        "display(summary)"
      ]
    },
    {
      "cell_type": "markdown",
      "metadata": {},
      "source": [
        "## Investigate `is_canceled`"
      ]
    },
    {
      "cell_type": "markdown",
      "metadata": {},
      "source": [
        "We expect that records with **is_canceled = 0** should have **reservation_status = 'Check-Out'**"
      ]
    },
    {
      "cell_type": "code",
      "execution_count": null,
      "metadata": {},
      "outputs": [],
      "source": [
        "data = df[df['is_canceled']==0]\n",
        "summary = value_counts_and_percentages(data, ['reservation_status'])\n",
        "display(summary)"
      ]
    },
    {
      "cell_type": "markdown",
      "metadata": {},
      "source": [
        "This is the case. We also expect that records with **is_canceled = 1** should have **reservation_status = 'Canceled' or 'No-Show'**"
      ]
    },
    {
      "cell_type": "code",
      "execution_count": null,
      "metadata": {},
      "outputs": [],
      "source": [
        "data = df[df['is_canceled']==1]\n",
        "summary = value_counts_and_percentages(data, ['reservation_status'])\n",
        "display(summary)"
      ]
    },
    {
      "cell_type": "markdown",
      "metadata": {},
      "source": [
        "This is also the case so no cleaning required here."
      ]
    },
    {
      "cell_type": "markdown",
      "metadata": {},
      "source": [
        "## Investigate `is_repeated_guest`"
      ]
    },
    {
      "cell_type": "markdown",
      "metadata": {},
      "source": [
        "This variable should relate to `previous_bookings_not_canceled` and `previous_cancellations` so these will each be investigated first."
      ]
    },
    {
      "cell_type": "markdown",
      "metadata": {},
      "source": [
        "### Investigate `previous_bookings_not_canceled`"
      ]
    },
    {
      "cell_type": "markdown",
      "metadata": {},
      "source": [
        "According to the [original data source](https://www.sciencedirect.com/science/article/pii/S2352340918315191), this variable was assigned as follows:\n",
        "> In case there was no customer profile associated with the booking, the value is set to 0. Otherwise, the value is the number of bookings with the same customer profile created before the current booking and not canceled.\n",
        "\n",
        "Presumably this also applies to bookings made before the date range of the current dataset."
      ]
    },
    {
      "cell_type": "markdown",
      "metadata": {},
      "source": [
        "View counts"
      ]
    },
    {
      "cell_type": "code",
      "execution_count": null,
      "metadata": {},
      "outputs": [],
      "source": [
        "data = df.drop_duplicates(keep='first')  # Drop duplicates to prevent skewing the data\n",
        "summary = value_counts_and_percentages(data, ['previous_bookings_not_canceled'])\n",
        "display(summary)"
      ]
    },
    {
      "cell_type": "markdown",
      "metadata": {},
      "source": [
        "### Investigate `previous_cancellations`"
      ]
    },
    {
      "cell_type": "markdown",
      "metadata": {},
      "source": [
        "According to the [original data source](https://www.sciencedirect.com/science/article/pii/S2352340918315191), this variable was assigned as follows:\n",
        "> In case there was no customer profile associated with the booking, the value is set to 0. Otherwise, the value is the number of bookings with the same customer profile created before the current booking and canceled.\n",
        "\n",
        "Presumably this also applies to bookings made before the date range of the current dataset."
      ]
    },
    {
      "cell_type": "code",
      "execution_count": null,
      "metadata": {},
      "outputs": [],
      "source": [
        "data = df.drop_duplicates(keep='first')  # Drop duplicates to prevent skewing the data\n",
        "summary = value_counts_and_percentages(data, ['previous_cancellations'])\n",
        "display(summary)"
      ]
    },
    {
      "cell_type": "markdown",
      "metadata": {},
      "source": [
        "### Investigate `is_repeated_guest`"
      ]
    },
    {
      "cell_type": "markdown",
      "metadata": {},
      "source": [
        "According to the [original data source](https://www.sciencedirect.com/science/article/pii/S2352340918315191), this variable was\n",
        "\n",
        "> *\"created by verifying if a profile was associated with the booking customer. If so, and if the customer profile creation date was prior to the creation date for the booking on the PMS database it was assumed the booking was from a repeated guest.\"*"
      ]
    },
    {
      "cell_type": "markdown",
      "metadata": {},
      "source": [
        "Create a `total_previous_bookings` column"
      ]
    },
    {
      "cell_type": "code",
      "execution_count": null,
      "metadata": {},
      "outputs": [],
      "source": [
        "df_prev_bookings = df.drop_duplicates(keep='first')\n",
        "df_prev_bookings['total_previous_bookings'] = df_prev_bookings['previous_bookings_not_canceled'] + df_prev_bookings['previous_cancellations']\n",
        "df_prev_bookings.head(3)\n"
      ]
    },
    {
      "cell_type": "markdown",
      "metadata": {},
      "source": [
        "We expect that all records with **is_repeated_guest = 0** will have no previous non-cancelled bookings but this is not found to be the case."
      ]
    },
    {
      "cell_type": "code",
      "execution_count": null,
      "metadata": {},
      "outputs": [],
      "source": [
        "data = df_prev_bookings[df_prev_bookings['is_repeated_guest']==0]\n",
        "summary = value_counts_and_percentages(data, ['total_previous_bookings', 'previous_bookings_not_canceled', 'previous_cancellations', 'is_repeated_guest'])\n",
        "display(summary)"
      ]
    },
    {
      "cell_type": "markdown",
      "metadata": {},
      "source": [
        "We expect that all records with **is_repeated_guest = 1** will have at least one previous non-cancelled booking but this is not found to be the case either. "
      ]
    },
    {
      "cell_type": "code",
      "execution_count": null,
      "metadata": {},
      "outputs": [],
      "source": [
        "data = df_prev_bookings[df_prev_bookings['is_repeated_guest']==1]\n",
        "summary = value_counts_and_percentages(data, ['total_previous_bookings', 'previous_bookings_not_canceled', 'previous_cancellations', 'is_repeated_guest'])\n",
        "display(summary)"
      ]
    },
    {
      "cell_type": "markdown",
      "metadata": {},
      "source": [
        "Since the is_repeated_guest feature is derived from whether the PMS had a guest profile created before the booking (rather than using the previous booking data), the discrepancy may have predictive power when training the model.\n",
        "- ACTION: add an additional feature (an inconsistency flag) during feature engineering and assess feature importance after training the model to see if the signal has any significance."
      ]
    }
  ],
  "metadata": {
    "accelerator": "GPU",
    "colab": {
      "name": "Data Practitioner Jupyter Notebook.ipynb",
      "provenance": [],
      "toc_visible": true
    },
    "kernelspec": {
      "display_name": ".venv",
      "language": "python",
      "name": "python3"
    },
    "language_info": {
      "codemirror_mode": {
        "name": "ipython",
        "version": 3
      },
      "file_extension": ".py",
      "mimetype": "text/x-python",
      "name": "python",
      "nbconvert_exporter": "python",
      "pygments_lexer": "ipython3",
      "version": "3.12.8"
    },
    "orig_nbformat": 2
  },
  "nbformat": 4,
  "nbformat_minor": 2
}
