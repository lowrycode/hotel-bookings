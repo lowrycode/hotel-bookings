{
  "cells": [
    {
      "cell_type": "markdown",
      "metadata": {
        "id": "0aStgWSO0E0E"
      },
      "source": [
        "# **CANCELLATIONS ANALYSIS WORKBOOK**"
      ]
    },
    {
      "cell_type": "markdown",
      "metadata": {
        "id": "1eLEkw5O0ECa"
      },
      "source": [
        "## Objectives\n",
        "\n",
        "* Answer business requirement 1:\n",
        "  - The client wants to understand patterns in booking cancellations and determine which variables are most associated/correlated with cancellations.\n",
        "\n",
        "## Inputs\n",
        "\n",
        "* **Cleaned Dataset with Duplicates Removed:** outputs/{version}/datasets/cleaned/cleaned_deduplicated.csv\n",
        "* **Cleaned Dataset with All Records:** outputs/{version}/datasets/cleaned/cleaned_all_records.csv\n",
        "\n",
        "## Outputs\n",
        "\n",
        "* Code that answers business requirement 1 and can be used to build the Streamlit App"
      ]
    },
    {
      "cell_type": "markdown",
      "metadata": {
        "id": "9uWZXH9LwoQg"
      },
      "source": [
        "---"
      ]
    },
    {
      "cell_type": "markdown",
      "metadata": {},
      "source": [
        "# Import Packages, Load Data and Initialise Useful Variables"
      ]
    },
    {
      "cell_type": "markdown",
      "metadata": {},
      "source": [
        "Imports"
      ]
    },
    {
      "cell_type": "code",
      "execution_count": null,
      "metadata": {},
      "outputs": [],
      "source": [
        "%matplotlib inline\n",
        "import numpy as np\n",
        "import pandas as pd\n",
        "import matplotlib.pyplot as plt\n",
        "import seaborn as sns\n",
        "import plotly.express as px"
      ]
    },
    {
      "cell_type": "markdown",
      "metadata": {},
      "source": [
        "Specify project version"
      ]
    },
    {
      "cell_type": "code",
      "execution_count": null,
      "metadata": {},
      "outputs": [],
      "source": [
        "version = 'v1'"
      ]
    },
    {
      "cell_type": "markdown",
      "metadata": {},
      "source": [
        "Load data"
      ]
    },
    {
      "cell_type": "code",
      "execution_count": null,
      "metadata": {},
      "outputs": [],
      "source": [
        "from pathlib import Path\n",
        "\n",
        "project_root = Path.cwd().parent\n",
        "cleaned_datasets_dir = project_root / 'outputs' / version / 'datasets' / 'cleaned'\n",
        "\n",
        "cleaned_all = cleaned_datasets_dir / 'cleaned_all_records.csv'\n",
        "cleaned_deduplicated = cleaned_datasets_dir / 'cleaned_deduplicated.csv'\n",
        "\n",
        "try:\n",
        "    df_all = pd.read_csv(cleaned_all)\n",
        "    df_deduplicated = pd.read_csv(cleaned_deduplicated)\n",
        "except FileNotFoundError as e:\n",
        "    print(f\"ERROR: Could not find file for specified project version '{version}'\\n{e}\")\n",
        "except Exception as e:\n",
        "    print(f\"ERROR: Unexpected error occurred. {e}\")\n",
        "else:\n",
        "    print(\"SUCCESS: Datasets have been loaded\")\n"
      ]
    },
    {
      "cell_type": "markdown",
      "metadata": {},
      "source": [
        "`df_deduplicated` will mainly be used in the following analysis because it allows us to study patterns and drivers of cancellations (per unique booking type) without over-representing certain types of bookings."
      ]
    },
    {
      "cell_type": "code",
      "execution_count": null,
      "metadata": {},
      "outputs": [],
      "source": [
        "df = df_deduplicated.copy()"
      ]
    },
    {
      "cell_type": "markdown",
      "metadata": {},
      "source": [
        "---"
      ]
    },
    {
      "cell_type": "markdown",
      "metadata": {},
      "source": [
        "# Change Data Types"
      ]
    },
    {
      "cell_type": "markdown",
      "metadata": {},
      "source": [
        "View current data types"
      ]
    },
    {
      "cell_type": "code",
      "execution_count": null,
      "metadata": {},
      "outputs": [],
      "source": [
        "df.info()"
      ]
    },
    {
      "cell_type": "markdown",
      "metadata": {},
      "source": [
        "Change data types"
      ]
    },
    {
      "cell_type": "code",
      "execution_count": null,
      "metadata": {},
      "outputs": [],
      "source": [
        "# Convert objects to type 'category' (for efficiency and performance)\n",
        "obj_cols = df.select_dtypes(include='object').columns.to_list()\n",
        "df[obj_cols] = df[obj_cols].astype('category')\n",
        "\n",
        "# Convert ints that are really categories\n",
        "int_to_cat_cols = ['agent', 'company']\n",
        "df[int_to_cat_cols] = df[int_to_cat_cols].astype('category')\n",
        "\n",
        "# Convert dates\n",
        "df['reservation_status_date'] = pd.to_datetime(df['reservation_status_date'])\n",
        "\n",
        "df.info()"
      ]
    },
    {
      "cell_type": "markdown",
      "metadata": {},
      "source": [
        "---"
      ]
    },
    {
      "cell_type": "markdown",
      "metadata": {},
      "source": [
        "# Useful Variables and Functions"
      ]
    },
    {
      "cell_type": "markdown",
      "metadata": {},
      "source": [
        "Useful variables"
      ]
    },
    {
      "cell_type": "code",
      "execution_count": null,
      "metadata": {},
      "outputs": [],
      "source": [
        "target = 'is_canceled'"
      ]
    },
    {
      "cell_type": "markdown",
      "metadata": {},
      "source": [
        "Useful functions"
      ]
    },
    {
      "cell_type": "code",
      "execution_count": null,
      "metadata": {},
      "outputs": [],
      "source": [
        "def plot_top_categories_pie(df, feature, top_n, title, facet_col=None):\n",
        "    \"\"\"\n",
        "    Create a pie chart showing the distribution of the top N categories for a given feature,\n",
        "    grouping all other categories into \"Other\". Optionally split the chart into facets by another column.\n",
        "    \"\"\"\n",
        "    \n",
        "    # Prevent changes to original dataframe\n",
        "    df = df.copy()\n",
        "    \n",
        "    # Group countries not in top ten as 'Other'\n",
        "    top_n_items = df[feature].value_counts().head(top_n).index.to_list()\n",
        "    df['grouped_feature'] = df[feature].astype(str).where(df[feature].isin(top_n_items), 'Other')\n",
        "\n",
        "    # Count values again for the grouped column\n",
        "    if facet_col:\n",
        "        grouped_counts = df.groupby(['grouped_feature', facet_col]).size().reset_index()\n",
        "        grouped_counts.columns = [feature, facet_col, 'count']\n",
        "    else: \n",
        "        grouped_counts = df.groupby(['grouped_feature']).size().reset_index()\n",
        "        grouped_counts.columns = [feature, 'count']\n",
        "\n",
        "    # Plot pie chart\n",
        "    fig = px.pie(\n",
        "        grouped_counts,\n",
        "        names=feature,\n",
        "        values='count',\n",
        "        color=feature,\n",
        "        color_discrete_sequence=px.colors.qualitative.Set3,\n",
        "        title=title,\n",
        "        facet_col=facet_col,\n",
        "    )\n",
        "    fig.show()\n",
        "\n",
        "\n",
        "def get_percentage_cancelled(df, feature, target, min_total_bookings=0):\n",
        "    \"\"\"\n",
        "    Calculate total bookings and percentage cancellations for each group of a specified feature.\n",
        "    Optionally apply a minimum bookings threshold, and return a dataframe summarizing results\n",
        "    sorted by cancellation percentage.\n",
        "\n",
        "    This function assumes `target` is the column `is_canceled` with boolean categories\n",
        "    (True = cancelled, False = not cancelled).\n",
        "    \"\"\"\n",
        "    \n",
        "    # Get counts\n",
        "    counts = df.groupby([feature, target]).size().reset_index(name='count')\n",
        "    counts = counts.pivot(index=feature, columns=target, values='count').fillna(0)\n",
        "    counts.columns.name = None\n",
        "\n",
        "    # Add total bookings and % cancelled\n",
        "    summary = counts.copy()\n",
        "    summary['Total Bookings'] = summary.sum(axis=1).astype('int')\n",
        "    summary['% Cancelled'] = round(summary[True] / summary['Total Bookings'] * 100,1)\n",
        "\n",
        "    # Filter for relevant columns\n",
        "    summary = summary[['Total Bookings', '% Cancelled']]\n",
        "\n",
        "    # Filter out countries with total bookings below a threshold\n",
        "    condition = summary['Total Bookings'] >= min_total_bookings\n",
        "    summary = summary[condition]\n",
        "\n",
        "    # Sort and display\n",
        "    summary.sort_values('% Cancelled', ascending=False, inplace=True)\n",
        "    return summary"
      ]
    },
    {
      "cell_type": "markdown",
      "metadata": {},
      "source": [
        "---"
      ]
    },
    {
      "cell_type": "markdown",
      "metadata": {},
      "source": [
        "# Correlation Studies"
      ]
    },
    {
      "cell_type": "markdown",
      "metadata": {},
      "source": [
        "We will explore whether any features correlate strongly with booking cancellations using the dataset with duplicate records removed.\n",
        "\n",
        "We will analyse:\n",
        "1. All record types (both unique and duplicated)\n",
        "2. Unique vs duplicated records\n",
        "3. City hotel vs resort hotel\n",
        "\n",
        "It would not be appropriate to use the Pearson method for calculating correlations since most variables are NOT continuous numeric variables with normal distributions. Therefore, we will use Spearman correlation coefficients throughout this analysis."
      ]
    },
    {
      "cell_type": "markdown",
      "metadata": {},
      "source": [
        "## Prepare Data"
      ]
    },
    {
      "cell_type": "code",
      "execution_count": null,
      "metadata": {},
      "outputs": [],
      "source": [
        "df_corr = df.copy()"
      ]
    },
    {
      "cell_type": "markdown",
      "metadata": {},
      "source": [
        "Drop `reservation_status` (since it overlaps strongly with `is_canceled`)"
      ]
    },
    {
      "cell_type": "code",
      "execution_count": null,
      "metadata": {},
      "outputs": [],
      "source": [
        "df_corr.drop('reservation_status', axis=1, inplace=True)"
      ]
    },
    {
      "cell_type": "markdown",
      "metadata": {},
      "source": [
        "Encode `hotel` and boolean features as integers "
      ]
    },
    {
      "cell_type": "code",
      "execution_count": null,
      "metadata": {},
      "outputs": [],
      "source": [
        "# Encode hotel type\n",
        "hotel_map = {'City Hotel': 0, 'Resort Hotel': 1}\n",
        "df_corr['hotel'] = df_corr['hotel'].map(hotel_map).astype('int')\n",
        "\n",
        "# Convert booleans to integers\n",
        "bool_cols = df_corr.select_dtypes('bool').columns.to_list()\n",
        "df_corr[bool_cols] = df_corr[bool_cols].astype('int')\n",
        "\n",
        "df_corr.head(3)"
      ]
    },
    {
      "cell_type": "markdown",
      "metadata": {},
      "source": [
        "Get all numeric columns (including those encoded above) for using with correlation heatmaps"
      ]
    },
    {
      "cell_type": "code",
      "execution_count": null,
      "metadata": {},
      "outputs": [],
      "source": [
        "numeric_cols = df_corr.select_dtypes('number').columns.to_list()\n",
        "\n",
        "# Move target to first column (for easier analysis)\n",
        "numeric_cols.remove(target)\n",
        "numeric_cols.insert(0, target)"
      ]
    },
    {
      "cell_type": "markdown",
      "metadata": {},
      "source": [
        "Get categorical features and separate into those with\n",
        "- low cardinality (<15 categories): for one-hot encoding\n",
        "- high cardinality (15+ categories): to exclude from correlation analysis"
      ]
    },
    {
      "cell_type": "code",
      "execution_count": null,
      "metadata": {},
      "outputs": [],
      "source": [
        "# Get all categorical features as a list\n",
        "cat_cols = df_corr.select_dtypes(include=['object', 'category']).columns.to_list()\n",
        "\n",
        "# Get low cardinality categorical features\n",
        "low_card_cats = [col for col in cat_cols if (3 <= df_corr[col].nunique() < 15)]\n",
        "print('Low cardinality features will be encoded:\\n', low_card_cats)\n",
        "\n",
        "# Get high cardinality categorical features and drop from dataframe\n",
        "high_card_cats = [col for col in cat_cols if df_corr[col].nunique() >= 15]\n",
        "print('\\nHigh cardinality features will be dropped from dataframe:\\n', high_card_cats)"
      ]
    },
    {
      "cell_type": "markdown",
      "metadata": {},
      "source": [
        "One-hot encode categorical features with low cardinality"
      ]
    },
    {
      "cell_type": "code",
      "execution_count": null,
      "metadata": {},
      "outputs": [],
      "source": [
        "from feature_engine.encoding import OneHotEncoder\n",
        "\n",
        "encoder = OneHotEncoder(variables=low_card_cats, drop_last=False)\n",
        "df_corr = encoder.fit_transform(df_corr)\n",
        "df_corr.head(3)"
      ]
    },
    {
      "cell_type": "markdown",
      "metadata": {},
      "source": [
        "Drop high cardinality features"
      ]
    },
    {
      "cell_type": "code",
      "execution_count": null,
      "metadata": {},
      "outputs": [],
      "source": [
        "df_corr.drop(high_card_cats, axis=1, inplace=True)\n",
        "print('Number of columns:', df_corr.shape[1])\n",
        "df_corr.columns"
      ]
    },
    {
      "cell_type": "markdown",
      "metadata": {},
      "source": [
        "## Useful Functions for Correlation Analysis"
      ]
    },
    {
      "cell_type": "code",
      "execution_count": null,
      "metadata": {},
      "outputs": [],
      "source": [
        "def generate_corr_heatmap(data, method='spearman', figsize=(20,10), lower_threshold=0):\n",
        "    # Get correlation matrix\n",
        "    corr = data.corr(method=method)\n",
        "\n",
        "    # Create masks\n",
        "    mask_threshold = np.abs(corr) < lower_threshold\n",
        "    mask_upper = np.triu(np.ones_like(corr, dtype=bool))\n",
        "    mask = mask_threshold | mask_upper\n",
        "\n",
        "    # Plot heatmap\n",
        "    plt.figure(figsize=figsize)\n",
        "    sns.heatmap(corr, mask=mask, annot=True, cmap='coolwarm', linewidths=0.4, linecolor='#ddd')\n",
        "    plt.show()\n",
        "\n",
        "    return corr\n",
        "\n",
        "def generate_corr_comparisons_table(data1, data2, col_headings, target='is_canceled', sort_by='Mean', method='spearman'):\n",
        "    # Calculate Spearman correlation scores for both datasets\n",
        "    corr1 = data1.corr(method=method)[target].sort_values(key=abs, ascending=False)[1:]\n",
        "    corr2 = data2.corr(method=method)[target].sort_values(key=abs, ascending=False)[1:]\n",
        "\n",
        "    # Concatenate scores into a single summary table\n",
        "    summary = pd.concat([corr1, corr2], axis=1)\n",
        "    summary.columns = col_headings\n",
        "\n",
        "    # Add columns to show the mean and difference\n",
        "    summary['Mean'] = summary[col_headings].mean(axis=1)\n",
        "    summary['Diff'] = summary[col_headings[0]] - summary[col_headings[1]]\n",
        "\n",
        "    # Display table, sorted descending by mean\n",
        "    summary = summary.sort_values(by=sort_by, key=abs, ascending=False).round(2)\n",
        "    return summary\n",
        "\n",
        "def plot_corr_comparisons(summary, col_headings, figsize=(15,6)):\n",
        "    summary[col_headings].plot(\n",
        "        kind=\"bar\", figsize=figsize, rot=90, title=f\"Comparison of Correlation Coefficients: {col_headings[0]} vs {col_headings[1]}\"\n",
        "    )\n",
        "    plt.ylabel(\"Correlation Coefficients\")\n",
        "    plt.show()\n",
        "\n",
        "def compare_sample_sizes(df, cols, subset_by, target):\n",
        "    for col in cols:\n",
        "        counts = df.groupby([subset_by, col, target]).size().reset_index(name=\"Count\")\n",
        "        sns.catplot(counts, x=col, y=\"Count\", hue=subset_by, col=target, kind=\"bar\",sharey=False)\n",
        "        plt.show()\n"
      ]
    },
    {
      "cell_type": "markdown",
      "metadata": {},
      "source": [
        "## 1. All Records"
      ]
    },
    {
      "cell_type": "markdown",
      "metadata": {},
      "source": [
        "### Analysis"
      ]
    },
    {
      "cell_type": "markdown",
      "metadata": {},
      "source": [
        "Generate correlation heatmap using numeric features only"
      ]
    },
    {
      "cell_type": "code",
      "execution_count": null,
      "metadata": {},
      "outputs": [],
      "source": [
        "data = df_corr[numeric_cols]\n",
        "corr = generate_corr_heatmap(data, lower_threshold=0)"
      ]
    },
    {
      "cell_type": "markdown",
      "metadata": {},
      "source": [
        "View top ten features with strongest correlations to `is_canceled` (including one-hot encoded features)"
      ]
    },
    {
      "cell_type": "code",
      "execution_count": null,
      "metadata": {},
      "outputs": [],
      "source": [
        "corr = df_corr.corr(method='spearman')[target].sort_values(key=abs, ascending=False)[1:]\n",
        "corr.head(10)"
      ]
    },
    {
      "cell_type": "markdown",
      "metadata": {},
      "source": [
        "### Conclusions"
      ]
    },
    {
      "cell_type": "markdown",
      "metadata": {},
      "source": [
        "When considering all records in the deduplicated dataset, no features are strongly associated with `is_canceled` but some are weakly associated.\n",
        "\n",
        "Based on the analysis of all bookings combined, cancellations are somewhat more likely for bookings:\n",
        "- with **longer lead times**\n",
        "- made through **Online Travel Agents**\n",
        "- with a **non-refundable deposit**\n",
        "- with a **higher average daily rate**\n",
        "- booked via the **TA/TO distribution channel**\n",
        "- made by **transient customers**\n",
        "\n",
        "In contrast, bookings are less likely to be cancelled when they:\n",
        "- require **more car parking spaces**\n",
        "- have **no deposit required**\n",
        "- are made through **Offline Travel Agents or Tour Operators**\n",
        "- include **special requests**"
      ]
    },
    {
      "cell_type": "markdown",
      "metadata": {},
      "source": [
        "## 2. Unique vs Duplicated Records"
      ]
    },
    {
      "cell_type": "markdown",
      "metadata": {},
      "source": [
        "### Analysis"
      ]
    },
    {
      "cell_type": "markdown",
      "metadata": {},
      "source": [
        "Compare results for unique records and those with duplicates"
      ]
    },
    {
      "cell_type": "code",
      "execution_count": null,
      "metadata": {},
      "outputs": [],
      "source": [
        "# Split df_corr for unique and duplicate records\n",
        "df_unique = df_corr[df_corr['record_count']==1]\n",
        "df_duplicates = df_corr[df_corr['record_count']>1]\n",
        "\n",
        "print('Unique records:', df_unique.shape[0])\n",
        "print('Duplicated records:', df_duplicates.shape[0])\n",
        "\n",
        "# Generate comparison table\n",
        "col_headings = ['Unique', 'Duplicates']\n",
        "summary = generate_corr_comparisons_table(df_unique, df_duplicates, col_headings, sort_by='Mean')\n",
        "summary.head(10)"
      ]
    },
    {
      "cell_type": "markdown",
      "metadata": {},
      "source": [
        "Plot results to more easily compare differences"
      ]
    },
    {
      "cell_type": "code",
      "execution_count": null,
      "metadata": {},
      "outputs": [],
      "source": [
        "plot_corr_comparisons(summary, col_headings)"
      ]
    },
    {
      "cell_type": "markdown",
      "metadata": {},
      "source": [
        "Check large differences in correlation coefficients cannot be explained by very small sample sizes"
      ]
    },
    {
      "cell_type": "code",
      "execution_count": null,
      "metadata": {},
      "outputs": [],
      "source": [
        "df_diff = df_corr.copy()\n",
        "df_diff['is_duplicated'] = df_diff['record_count'] > 1\n",
        "high_diff_features = summary[abs(summary['Diff']) > 0.08].index.to_list()\n",
        "compare_sample_sizes(df_diff, high_diff_features, 'is_duplicated', target)"
      ]
    },
    {
      "cell_type": "markdown",
      "metadata": {},
      "source": [
        "### Conclusions"
      ]
    },
    {
      "cell_type": "markdown",
      "metadata": {},
      "source": [
        "There are clearly significant differences between how strongly ccertain features correlate with cancellation rates in the two types of bookings. This further supports the assumption that duplicated records are by nature a different type of booking (e.g. bulk reservations or group bookings).\n",
        "\n",
        "*NOTE: Similar differences in the associations of features are observed when the unique records subset is downsampled to the same size as the duplicated records subset. This confirms that the differences are not due to sample size but rather reflect different types of bookings.*\n",
        "\n",
        "Although the strengths of associations are different, the direction of these associations are nearly always the same in each group. Therefore, it is not the case that correlations are cancelled out between the two groups. One notable exception is seen when considering the `market_segment` 'Groups' category which shows a weakly positive association with cancellation in the duplicates subset but a weakly negative association in the unique records subset. This provides further evidence for the different nature of the bookings in each subset.\n",
        "\n",
        "The most strongly associated features in the unique records subset are:\n",
        "- `market_segment`: 'Online TA' shows a weak positive association (+0.23) but 'Offline TA/TO' shows a weak negative association (-0.15)\n",
        "- `lead_time`: shows a weak positive association (+0.22)\n",
        "- `required_car_parking_spaces`: shows a weak negative association (-0.18)\n",
        "- `adr`: shows a weak positive association (+0.17)\n",
        "- `customer_type`: 'Transient' shows a weak positive association (+0.14) but 'Transient Party' shows a weak negative association (-0.11)\n",
        "- `previous_cancellations`: shows a weak positive association (+0.28)\n",
        "- `total_of_special_requests`: shows a weak negative association (-0.12)\n",
        "- `booking_changes`: shows a weak negative association (-0.11)\n",
        "\n",
        "The most strongly associated features in the duplicates subset are:\n",
        "- `deposit_type`: 'Non Refund' shows a moderately positive association (+0.39) but 'No Deposit' shows a moderately negative association (-0.39)\n",
        "- `customer_type`: 'Transient' shows a weak positive association (+0.30) but 'Transient Party' shows a weak negative association (-0.29)\n",
        "- `previous_cancellations`: shows a weak positive association (+0.28)\n",
        "- `total_of_special_requests`: shows a weak negative association (-0.22)\n",
        "- `lead_time`: shows a weak positive association (+0.22) - *this is the same as in the unique dataset*\n",
        "- `record_count`: shows a weak positive association (+0.20)\n",
        "- `booking_changes`: shows a weak negative association (-0.16)\n",
        "\n",
        "Since some features are more strongly associated with cancellations in one subset but not the other, predictors do not have uniform predictive power across all booking types and need to be compared and contrasted.\n",
        "\n",
        "**SIMILARITIES**\n",
        "\n",
        "For both datasets, cancellations are somewhat **more likely** for bookings:\n",
        "- for **transient customers**\n",
        "- with **longer lead times**\n",
        "- made by guests with a history of **previous cancellations**.\n",
        "\n",
        "Cancellations are **less likely** for bookings that:\n",
        "- involve **transient-party customers**\n",
        "- include **special requests** or **booking changes**\n",
        "\n",
        "**DIFFERENCES**\n",
        "\n",
        "Although both datasets show the same direction (+/-) of associations in both, the magnitude (strength) of these associations are different in each dataset.\n",
        "\n",
        "Stronger Associations in **duplicated** dataset:\n",
        "- **Deposit Type**: (CAUTION - small sample size)\n",
        "  - bookings are more likely to cancel with **non-refundable deposit** and less likely to cancel with **no deposit** required\n",
        "  - this likely reflects the fact that group/bulk bookings are more prone to cancellations and that the hotels correctly identify this and therefore require a deposit for these bookings \n",
        "\n",
        "Stronger Associations in **unique** dataset:\n",
        "- **Market Segment** shows a stronger positive association for **Online TA** (more likely to cancel)\n",
        "- **Number of Parking Spaces Required** shows a stronger negative association (less likely to cancel)\n",
        "\n",
        "**IMPLICATIONS FOR HYPOTHESIS 3**\n",
        "\n",
        "Hypothesis:\n",
        "> \"Bookings with higher average daily rates tend to cancel more.\"\n",
        "\n",
        "The analysis supports this hypothesis to some extent. In both unique and duplicated bookings there is a very weak positive association with whether a booking will be cancelled. However, other features have stronger associations with cancellation rates and this feature should not be considered a main driver as to whether a booking will be cancelled.\n",
        "\n",
        "**IMPLICATIONS FOR ML MODELS**\n",
        "\n",
        "ML models may need to consider interactions with booking type (unique vs duplicated) or even train separate models for each subset.\n"
      ]
    },
    {
      "cell_type": "markdown",
      "metadata": {},
      "source": [
        "## 3. City Hotel vs Resort Hotel"
      ]
    },
    {
      "cell_type": "markdown",
      "metadata": {},
      "source": [
        "### Analysis"
      ]
    },
    {
      "cell_type": "markdown",
      "metadata": {},
      "source": [
        "Compare results for city and resort hotels"
      ]
    },
    {
      "cell_type": "code",
      "execution_count": null,
      "metadata": {},
      "outputs": [],
      "source": [
        "# Split df_corr for unique and duplicate records\n",
        "df_city = df_corr[df_corr['hotel']==0]\n",
        "df_hotel = df_corr[df_corr['hotel']==1]\n",
        "\n",
        "print('City hotel records:', df_city.shape[0])\n",
        "print('Resort hotel records:', df_hotel.shape[0])\n",
        "\n",
        "# Generate comparison table\n",
        "col_headings = ['City', 'Resort']\n",
        "summary = generate_corr_comparisons_table(df_city, df_hotel, col_headings, sort_by='Mean')\n",
        "summary.head(10)"
      ]
    },
    {
      "cell_type": "code",
      "execution_count": null,
      "metadata": {},
      "outputs": [],
      "source": [
        "diff_features = summary[abs(summary['Diff']) > 0.1].index.to_list()"
      ]
    },
    {
      "cell_type": "markdown",
      "metadata": {},
      "source": [
        "Plot results to more easily compare differences"
      ]
    },
    {
      "cell_type": "code",
      "execution_count": null,
      "metadata": {},
      "outputs": [],
      "source": [
        "plot_corr_comparisons(summary, col_headings)"
      ]
    },
    {
      "cell_type": "markdown",
      "metadata": {},
      "source": [
        "Check large differences in correlation coefficients cannot be explained by very small sample sizes"
      ]
    },
    {
      "cell_type": "code",
      "execution_count": null,
      "metadata": {},
      "outputs": [],
      "source": [
        "df_diff = df_corr.copy()\n",
        "high_diff_features = summary[abs(summary['Diff']) > 0.08].index.to_list()\n",
        "compare_sample_sizes(df_diff, high_diff_features, 'hotel', target)"
      ]
    },
    {
      "cell_type": "markdown",
      "metadata": {},
      "source": [
        "### Conclusions"
      ]
    },
    {
      "cell_type": "markdown",
      "metadata": {},
      "source": [
        "Many of the same patterns observed earlier are seen again. There are no strong correlations but some features are weakly correlated.\n",
        "\n",
        "Again, there are differences in how strongly certain features correlate with cancellation rates in the two types of hotel bookings. Although the strengths of associations are different, the direction of these associations are usually the same. The exceptions (meal types, room bookings) are very weakly associated with cancellation rates and not likely to be significant.\n",
        "\n",
        "The most strongly associated features in the **City Hotel** subset are:\n",
        "- `lead_time`: shows a weak positive association (+0.22)\n",
        "- `deposit_type`: 'No Deposit' shows a weak negative association (-0.19) but 'Non Refund' shows a weak positive association (+0.19)\n",
        "- `total_of_special_requests`: shows a weak negative association (-0.19)\n",
        "- `market_segment`: 'Online TA' shows a weak positive association (+0.17) but 'Offline TA/TO' shows a weak negative association (-0.12)\n",
        "- `customer_type`: 'Transient' shows a weak positive association (+0.13)\n",
        "- `booking_changes`: shows a weak negative association (-0.13)\n",
        "- `previous_cancellations`: shows a weak positive association (+0.13)\n",
        "- `distribution_channel`: the 'TA/TO' category shows a weak positive association (+0.12)\n",
        "\n",
        "The most strongly associated features in the **Resort Hotel** subset are:\n",
        "- `lead_time`: shows a weak positive association (+0.25)\n",
        "- `market_segment`: 'Online TA' shows a weak positive association (+0.25) but 'Offline TA/TO' shows a weak negative association (-0.15) and 'Direct' also shows a weak negative association (-0.12)\n",
        "- `required_car_parking_spaces`: shows a weak negative association (-0.24)\n",
        "- `adr`: shows a weak positive association (+0.18)\n",
        "- `distribution_channel`: the 'TA/TO' category shows a weak positive association (+0.14)\n",
        "- `customer_type`: 'Transient' shows a weak positive association (+0.14)\n",
        "- `stays_in_week_nights`: shows a weak positive association (+0.13)\n",
        "- `children`: shows a weak positive association (+0.12)\n",
        "\n",
        "**Similarities**\n",
        "\n",
        "In both hotels, bookings are more likely to cancel if they have:\n",
        "- **longer lead times**\n",
        "- booked via **travel agents**, especially **online travel agents**\n",
        "- for **transient customers**\n",
        "- been made by guests who have **previous cancellations**\n",
        "\n",
        "Bookings are less likely to be cancelled if they are\n",
        "- booked by **Offline travel agents or tour operators**\n",
        "- have **more booking changes**\n",
        "\n",
        "**Differences**\n",
        "\n",
        "In the City Hotel, the following factors are more significant:\n",
        "- **Deposit type**  (CAUTION - small sample sizes)\n",
        "  - 'No Deposit' corresponds with lower cancellations while 'Non Refund' corresponds with more cancellations\n",
        "  - This likely reflects existing hotel practices for identify bookings at risk of cancellation\n",
        "- **Special requests**\n",
        "  - Both tend to correlate with fewer cancellations but the association is significantly stronger in the city hotel\n",
        "\n",
        "In the Resort Hotel, the following factors are more significant:\n",
        "- **Required car parking spaces**\n",
        "  - More car parking spaces tends to correlate with fewer cancellations\n",
        "- **Average Daily Rate**\n",
        "  - Although higher rates are correlated with more cancellations in both, the feature appears slightly more significant ranking in the top 4 features for the resort hotel but number 13 for the City hotel\n",
        "\n",
        "**IMPLICATIONS FOR HYPOTHESIS 3**\n",
        "\n",
        "Hypothesis:\n",
        "> \"Bookings with higher average daily rates tend to cancel more.\"\n",
        "\n",
        "The analysis supports this hypothesis to some extent. In both hotels there is a very weak positive association with whether a booking will be cancelled. The correlation is more significant for the resort hotel than the city hotel but other features (e.g. lead times, market segment 'Online TA') have stronger associations with cancellation rates in both hotels. Therefore, this feature should not be considered a main driver as to whether a booking will be cancelled.\n"
      ]
    },
    {
      "cell_type": "markdown",
      "metadata": {
        "id": "ZY3l0-AxO93d"
      },
      "source": [
        "---"
      ]
    },
    {
      "cell_type": "markdown",
      "metadata": {},
      "source": [
        "# Analysis by Country"
      ]
    },
    {
      "cell_type": "markdown",
      "metadata": {},
      "source": [
        "Useful variable"
      ]
    },
    {
      "cell_type": "code",
      "execution_count": null,
      "metadata": {},
      "outputs": [],
      "source": [
        "top_n = 10\n",
        "feature = 'country'"
      ]
    },
    {
      "cell_type": "markdown",
      "metadata": {},
      "source": [
        "Useful function"
      ]
    },
    {
      "cell_type": "markdown",
      "metadata": {},
      "source": [
        "## Total Bookings"
      ]
    },
    {
      "cell_type": "markdown",
      "metadata": {},
      "source": [
        "**QUESTION:** Which countries make the most bookings?"
      ]
    },
    {
      "cell_type": "markdown",
      "metadata": {},
      "source": [
        "### Analysis"
      ]
    },
    {
      "cell_type": "markdown",
      "metadata": {},
      "source": [
        "View proportions of bookings by country in deduplicated dataset"
      ]
    },
    {
      "cell_type": "code",
      "execution_count": null,
      "metadata": {},
      "outputs": [],
      "source": [
        "title = 'Proportions of Total Bookings by Country (Duplicates counted once)'\n",
        "plot_top_categories_pie(df_deduplicated, feature=feature, top_n=top_n, title=title)"
      ]
    },
    {
      "cell_type": "markdown",
      "metadata": {},
      "source": [
        "View proportions of bookings by country for all bookings (with all duplicates counted)"
      ]
    },
    {
      "cell_type": "code",
      "execution_count": null,
      "metadata": {},
      "outputs": [],
      "source": [
        "title = 'Proportions of Total Bookings by Country (All duplicates counted)'\n",
        "plot_top_categories_pie(df_all, feature=feature, top_n=top_n, title=title)"
      ]
    },
    {
      "cell_type": "markdown",
      "metadata": {},
      "source": [
        "View map to see where most bookings originate (deduplicated dataset)"
      ]
    },
    {
      "cell_type": "code",
      "execution_count": null,
      "metadata": {},
      "outputs": [],
      "source": [
        "# Prepare data\n",
        "counts = df_deduplicated['country'].value_counts().reset_index()\n",
        "counts.columns = ['Country', 'Total Bookings']\n",
        "counts['Log_Bookings'] = np.log(counts['Total Bookings'])\n",
        "\n",
        "# Create choropleth\n",
        "fig = px.choropleth(\n",
        "    counts,\n",
        "    locations='Country',\n",
        "    color='Log_Bookings',\n",
        "    hover_name='Country',\n",
        "    hover_data={'Total Bookings': True, 'Log_Bookings': True},\n",
        "    color_continuous_scale='Viridis',\n",
        "    title='Total Bookings by Country (duplicates counted once)',\n",
        "    range_color=[0, counts['Log_Bookings'].max()],  # fix color scale\n",
        "    width=1200,\n",
        "    height=700\n",
        ")\n",
        "\n",
        "fig.show()"
      ]
    },
    {
      "cell_type": "markdown",
      "metadata": {},
      "source": [
        "### Conclusions"
      ]
    },
    {
      "cell_type": "markdown",
      "metadata": {},
      "source": [
        "Both pie charts show that the largest share of bookings comes from Portuguese guests. These far exceed the number of bookings from Great Britain which ranks in second place.\n",
        "\n",
        "The first pie chart shows the proportions when duplicated records are counted once. This gives an indication of the number of bookings made without giving too much weight to group bookings and bulk reservations. The number of Portuguese bookings is roughly 3x greater than those from Great Britain.\n",
        "\n",
        "The second pie chart shows the proportions when all duplicates are counted. This gives an indication of the actual number of room reservations made and a measure of the impact on hotel operations. The number of Portuguese bookings is roughly 4x greater than those from Great Britain, illustrating that most group/bulk bookings originate from Portugal.\n",
        "\n",
        "On the map view, a logarithmic scale was used to limit the impact of the large number of bookings from Portugal and make it easier to compare the number of bookings from other countries. Unsurprisingly, most bookings are from European countries, followed by USA and Brazil."
      ]
    },
    {
      "cell_type": "markdown",
      "metadata": {},
      "source": [
        "## Total Cancellations"
      ]
    },
    {
      "cell_type": "markdown",
      "metadata": {},
      "source": [
        "**QUESTION:** Which countries make the most cancellations?"
      ]
    },
    {
      "cell_type": "markdown",
      "metadata": {},
      "source": [
        "### Analysis"
      ]
    },
    {
      "cell_type": "markdown",
      "metadata": {},
      "source": [
        "View proportions of bookings by country in deduplicated dataset"
      ]
    },
    {
      "cell_type": "code",
      "execution_count": null,
      "metadata": {},
      "outputs": [],
      "source": [
        "title = 'Proportions of Total Bookings by Country Faceted by Cancellation Status (All duplicates counted)'\n",
        "plot_top_categories_pie(df_deduplicated, feature=feature, top_n=top_n, title=title, facet_col=target)"
      ]
    },
    {
      "cell_type": "markdown",
      "metadata": {},
      "source": [
        "View proportions of bookings by country for all bookings (with all duplicates counted)"
      ]
    },
    {
      "cell_type": "code",
      "execution_count": null,
      "metadata": {},
      "outputs": [],
      "source": [
        "title = 'Proportions of Total Bookings by Country Faceted by Cancellation Status (All duplicates counted)'\n",
        "plot_top_categories_pie(df_all, feature=feature, top_n=top_n, title=title, facet_col=target)"
      ]
    },
    {
      "cell_type": "markdown",
      "metadata": {},
      "source": [
        "Compare cancellations for top ten countries only"
      ]
    },
    {
      "cell_type": "code",
      "execution_count": null,
      "metadata": {},
      "outputs": [],
      "source": [
        "# Get sorted list of top ten countries\n",
        "top_countries_deduplicated = df_deduplicated['country'].value_counts().sort_values(ascending=False).head(top_n).index.to_list()\n",
        "top_countries_all = df_all['country'].value_counts().sort_values(ascending=False).head(top_n).index.to_list()\n",
        "\n",
        "# Create figure with sub-plots\n",
        "fig, axes = plt.subplots(ncols=2, figsize=(15,6))\n",
        "fig.suptitle(f'Comparison of Top {top_n} Countries for Bookings', fontsize=16)\n",
        "\n",
        "# Add subplots\n",
        "sns.countplot(data=df_deduplicated, x='country', hue=target, order=top_countries_deduplicated, ax=axes[0])\n",
        "sns.countplot(data=df_all, x='country', hue=target, order=top_countries_all, ax=axes[1])\n",
        "\n",
        "# Set titles and labels for each sub-plot\n",
        "axes[0].set_title(f'Duplicates Counted Once')\n",
        "axes[1].set_title(f'All Duplicates Counted')\n",
        "for ax in axes:\n",
        "    ax.set_ylabel('Number of Bookings')\n",
        "    ax.set_xlabel('Country')\n",
        "    ax.legend(title='Cancelled')\n",
        "\n",
        "# Improve layout and display figure\n",
        "plt.tight_layout()\n",
        "plt.show()\n"
      ]
    },
    {
      "cell_type": "markdown",
      "metadata": {},
      "source": [
        "View total cancellations on a map"
      ]
    },
    {
      "cell_type": "code",
      "execution_count": null,
      "metadata": {},
      "outputs": [],
      "source": [
        "is_cancelled = df_deduplicated[target] == 0\n",
        "counts = df_deduplicated[is_cancelled]['country'].value_counts().reset_index(name='count')\n",
        "counts.columns = ['Country', 'Total Cancellations']\n",
        "\n",
        "\n",
        "# Create choropleth\n",
        "fig = px.choropleth(\n",
        "    counts,\n",
        "    locations='Country',\n",
        "    color='Total Cancellations',\n",
        "    hover_name='Country',\n",
        "    hover_data={'Total Cancellations': True, 'Country': False},\n",
        "    color_continuous_scale='Viridis',\n",
        "    title='Total Cancellations by Country (duplicates counted once)',\n",
        "    width=1200,\n",
        "    height=700\n",
        ")\n",
        "\n",
        "fig.show()"
      ]
    },
    {
      "cell_type": "markdown",
      "metadata": {},
      "source": [
        "### Conclusions"
      ]
    },
    {
      "cell_type": "markdown",
      "metadata": {},
      "source": [
        "The number of cancellations made by guests from Portugal is much higher than any other country. When all duplicates are counted, the number of cancellations even exceeds the number of completed bookings for Portuguese guests.\n",
        "\n",
        "Unsurprisingly, most cancellations are from countries that also make the most bookings."
      ]
    },
    {
      "cell_type": "markdown",
      "metadata": {},
      "source": [
        "## Percentage Cancellations"
      ]
    },
    {
      "cell_type": "markdown",
      "metadata": {},
      "source": [
        "**QUESTION:** Which countries have the highest percentage cancellations?\n",
        "\n",
        "**HYPOTHESIS 1:** Local guests (from Portugal) tend to cancel more than guests from further afield."
      ]
    },
    {
      "cell_type": "markdown",
      "metadata": {},
      "source": [
        "### Analysis"
      ]
    },
    {
      "cell_type": "markdown",
      "metadata": {},
      "source": [
        "Define minumum number of bookings required to be included in analysis"
      ]
    },
    {
      "cell_type": "code",
      "execution_count": null,
      "metadata": {},
      "outputs": [],
      "source": [
        "min_total_bookings = 100"
      ]
    },
    {
      "cell_type": "markdown",
      "metadata": {},
      "source": [
        "Get percentage cancellations for deduplicated dataset"
      ]
    },
    {
      "cell_type": "code",
      "execution_count": null,
      "metadata": {},
      "outputs": [],
      "source": [
        "percent_deduplicated = get_percentage_cancelled(df_deduplicated, 'country', target, min_total_bookings=min_total_bookings)\n",
        "percent_deduplicated.head(10)"
      ]
    },
    {
      "cell_type": "markdown",
      "metadata": {},
      "source": [
        "Get percentage cancellations for dataset with all duplicates counted"
      ]
    },
    {
      "cell_type": "code",
      "execution_count": null,
      "metadata": {},
      "outputs": [],
      "source": [
        "percent_all = get_percentage_cancelled(df_all, 'country', target, min_total_bookings=min_total_bookings)\n",
        "percent_all.head(10)"
      ]
    },
    {
      "cell_type": "markdown",
      "metadata": {},
      "source": [
        "Plot countries with highest percentage cancellations in both datasets"
      ]
    },
    {
      "cell_type": "code",
      "execution_count": null,
      "metadata": {},
      "outputs": [],
      "source": [
        "# Get top countries in each dataset\n",
        "top_countries_deduplicated = percent_deduplicated.head(top_n).index.to_list()\n",
        "top_countries_all = percent_all.head(top_n).index.to_list()\n",
        "\n",
        "# Assign common colour palette\n",
        "all_countries = percent_all.index.to_list()\n",
        "palette = sns.color_palette('tab20', n_colors=len(all_countries))\n",
        "colour_map = dict(zip(all_countries, palette))\n",
        "\n",
        "# Create figure with sub-plots\n",
        "fig, axes = plt.subplots(ncols=2, figsize=(15, 6), sharey=True)\n",
        "fig.suptitle(f'Comparison of Top {top_n} Countries for % Booking Cancellations', fontsize=16)\n",
        "\n",
        "# Add subplots\n",
        "sns.barplot(\n",
        "    data=percent_deduplicated,\n",
        "    x=percent_deduplicated.index,\n",
        "    y='% Cancelled',\n",
        "    order=top_countries_deduplicated,\n",
        "    hue=percent_deduplicated.index,\n",
        "    palette=colour_map,\n",
        "    ax=axes[0],\n",
        ")\n",
        "sns.barplot(\n",
        "    data=percent_all,\n",
        "    x=percent_all.index,\n",
        "    y='% Cancelled',\n",
        "    order=top_countries_all,\n",
        "    hue=percent_all.index,\n",
        "    palette=colour_map,\n",
        "    ax=axes[1],\n",
        ")\n",
        "\n",
        "# Set titles and labels for each sub-plot\n",
        "axes[0].set_title(f'Duplicates Counted Once')\n",
        "axes[1].set_title(f'All Duplicates Counted')\n",
        "for ax in axes:\n",
        "    ax.set_ylabel('% of Bookings Cancelled')\n",
        "    ax.set_xlabel('Country')\n",
        "\n",
        "# Improve layout and display figure\n",
        "plt.tight_layout()\n",
        "plt.show()"
      ]
    },
    {
      "cell_type": "markdown",
      "metadata": {},
      "source": [
        "View percentage cancellations for deduplicated dataset on a map"
      ]
    },
    {
      "cell_type": "code",
      "execution_count": null,
      "metadata": {},
      "outputs": [],
      "source": [
        "# Reset index so 'country' is a column\n",
        "percent_deduplicated_reset = percent_deduplicated.reset_index()\n",
        "\n",
        "# Create choropleth\n",
        "fig = px.choropleth(\n",
        "    percent_deduplicated_reset,\n",
        "    locations='country',\n",
        "    color='% Cancelled',\n",
        "    hover_name='country',\n",
        "    hover_data={'country': False, '% Cancelled': True},\n",
        "    color_continuous_scale='Viridis',\n",
        "    title='Percentage Cancellations by Country (minimum reservations = duplicates counted once)',\n",
        "    width=1200,\n",
        "    height=700\n",
        ")\n",
        "\n",
        "fig.show()"
      ]
    },
    {
      "cell_type": "markdown",
      "metadata": {},
      "source": [
        "### Conclusions"
      ]
    },
    {
      "cell_type": "markdown",
      "metadata": {},
      "source": [
        "In this analysis, only countries with a minimum of 100 total bookings were considered to avoid skewing the data.\n",
        "\n",
        "When all duplicate bookings are counted, Portuguese guests have the highest cancellation rate at 58.8%. However, when duplicates are counted only once, the cancellation rate for Portuguese bookings drops to 37.1%, and seven other countries exceed this figure."
      ]
    },
    {
      "cell_type": "markdown",
      "metadata": {},
      "source": [
        "## Differences by hotel"
      ]
    },
    {
      "cell_type": "markdown",
      "metadata": {},
      "source": [
        "**QUESTION:** Which countries have the highest percentage cancellations for each hotel?\n",
        "\n",
        "**HYPOTHESIS 1:** Local guests (from Portugal) tend to cancel more than guests from further afield."
      ]
    },
    {
      "cell_type": "markdown",
      "metadata": {},
      "source": [
        "### Analysis With Duplicates Counted Once"
      ]
    },
    {
      "cell_type": "markdown",
      "metadata": {},
      "source": [
        "Subset for each hotel"
      ]
    },
    {
      "cell_type": "code",
      "execution_count": null,
      "metadata": {},
      "outputs": [],
      "source": [
        "df_city = df_deduplicated[df_deduplicated['hotel'] == 'City Hotel']\n",
        "df_resort = df_deduplicated[df_deduplicated['hotel'] == 'Resort Hotel']"
      ]
    },
    {
      "cell_type": "markdown",
      "metadata": {},
      "source": [
        "View top percentage cancellations for city hotel"
      ]
    },
    {
      "cell_type": "code",
      "execution_count": null,
      "metadata": {},
      "outputs": [],
      "source": [
        "percent_city = get_percentage_cancelled(df_city, 'country', target, min_total_bookings=min_total_bookings)\n",
        "percent_city.head(10)"
      ]
    },
    {
      "cell_type": "markdown",
      "metadata": {},
      "source": [
        "View top percentage cancellations for resort hotel"
      ]
    },
    {
      "cell_type": "code",
      "execution_count": null,
      "metadata": {},
      "outputs": [],
      "source": [
        "percent_resort = get_percentage_cancelled(df_resort, 'country', target, min_total_bookings=min_total_bookings)\n",
        "percent_resort.head(10)"
      ]
    },
    {
      "cell_type": "markdown",
      "metadata": {},
      "source": [
        "Plot countries with highest percentage cancellations in each hotel"
      ]
    },
    {
      "cell_type": "code",
      "execution_count": null,
      "metadata": {},
      "outputs": [],
      "source": [
        "# Get top countries in each dataset\n",
        "top_countries_city = percent_city.head(top_n).index.to_list()\n",
        "top_countries_resort = percent_resort.head(top_n).index.to_list()\n",
        "\n",
        "# Assign common colour palette\n",
        "all_countries = df_deduplicated['country'].value_counts().index.to_list()\n",
        "palette = sns.color_palette('tab20', n_colors=len(all_countries))\n",
        "colour_map = dict(zip(all_countries, palette))\n",
        "\n",
        "# Create figure with sub-plots\n",
        "fig, axes = plt.subplots(ncols=2, figsize=(15, 6), sharey=True)\n",
        "fig.suptitle(f'Comparison of Top {top_n} Countries for % Booking Cancellations (duplicates counted once)', fontsize=16)\n",
        "\n",
        "# Add subplots\n",
        "sns.barplot(\n",
        "    data=percent_city,\n",
        "    x=percent_city.index,\n",
        "    y='% Cancelled',\n",
        "    order=top_countries_city,\n",
        "    hue=percent_city.index,\n",
        "    palette=colour_map,\n",
        "    ax=axes[0],\n",
        ")\n",
        "sns.barplot(\n",
        "    data=percent_resort,\n",
        "    x=percent_resort.index,\n",
        "    y='% Cancelled',\n",
        "    order=top_countries_resort,\n",
        "    hue=percent_resort.index,\n",
        "    palette=colour_map,\n",
        "    ax=axes[1],\n",
        ")\n",
        "\n",
        "# Set titles and labels for each sub-plot\n",
        "axes[0].set_title(f'City Hotel')\n",
        "axes[1].set_title(f'Resort Hotel')\n",
        "for ax in axes:\n",
        "    ax.set_ylabel('% of Bookings Cancelled')\n",
        "    ax.set_xlabel('Country')\n",
        "\n",
        "# Improve layout and display figure\n",
        "plt.tight_layout()\n",
        "plt.show()"
      ]
    },
    {
      "cell_type": "markdown",
      "metadata": {},
      "source": [
        "### Analysis With All Duplicates Counted"
      ]
    },
    {
      "cell_type": "markdown",
      "metadata": {},
      "source": [
        "Subset for each hotel"
      ]
    },
    {
      "cell_type": "code",
      "execution_count": null,
      "metadata": {},
      "outputs": [],
      "source": [
        "df_city = df_all[df_all['hotel'] == 'City Hotel']\n",
        "df_resort = df_all[df_all['hotel'] == 'Resort Hotel']"
      ]
    },
    {
      "cell_type": "markdown",
      "metadata": {},
      "source": [
        "View top percentage cancellations for city hotel"
      ]
    },
    {
      "cell_type": "code",
      "execution_count": null,
      "metadata": {},
      "outputs": [],
      "source": [
        "percent_city = get_percentage_cancelled(df_city, 'country', target, min_total_bookings=min_total_bookings)\n",
        "percent_city.head(10)"
      ]
    },
    {
      "cell_type": "markdown",
      "metadata": {},
      "source": [
        "View top percentage cancellations for resort hotel"
      ]
    },
    {
      "cell_type": "code",
      "execution_count": null,
      "metadata": {},
      "outputs": [],
      "source": [
        "percent_resort = get_percentage_cancelled(df_resort, 'country', target, min_total_bookings=min_total_bookings)\n",
        "percent_resort.head(10)"
      ]
    },
    {
      "cell_type": "markdown",
      "metadata": {},
      "source": [
        "Plot countries with highest percentage cancellations in each hotel"
      ]
    },
    {
      "cell_type": "code",
      "execution_count": null,
      "metadata": {},
      "outputs": [],
      "source": [
        "# Get top countries in each dataset\n",
        "top_countries_city = percent_city.head(top_n).index.to_list()\n",
        "top_countries_resort = percent_resort.head(top_n).index.to_list()\n",
        "\n",
        "# Assign common colour palette\n",
        "all_countries = df_deduplicated['country'].value_counts().index.to_list()\n",
        "palette = sns.color_palette('tab20', n_colors=len(all_countries))\n",
        "colour_map = dict(zip(all_countries, palette))\n",
        "\n",
        "# Create figure with sub-plots\n",
        "fig, axes = plt.subplots(ncols=2, figsize=(15, 6), sharey=True)\n",
        "fig.suptitle(f'Comparison of Top {top_n} Countries for % Booking Cancellations (all duplicates counted)', fontsize=16)\n",
        "\n",
        "# Add subplots\n",
        "sns.barplot(\n",
        "    data=percent_city,\n",
        "    x=percent_city.index,\n",
        "    y='% Cancelled',\n",
        "    order=top_countries_city,\n",
        "    hue=percent_city.index,\n",
        "    palette=colour_map,\n",
        "    ax=axes[0],\n",
        ")\n",
        "sns.barplot(\n",
        "    data=percent_resort,\n",
        "    x=percent_resort.index,\n",
        "    y='% Cancelled',\n",
        "    order=top_countries_resort,\n",
        "    hue=percent_resort.index,\n",
        "    palette=colour_map,\n",
        "    ax=axes[1],\n",
        ")\n",
        "\n",
        "# Set titles and labels for each sub-plot\n",
        "axes[0].set_title(f'City Hotel')\n",
        "axes[1].set_title(f'Resort Hotel')\n",
        "for ax in axes:\n",
        "    ax.set_ylabel('% of Bookings Cancelled')\n",
        "    ax.set_xlabel('Country')\n",
        "\n",
        "# Improve layout and display figure\n",
        "plt.tight_layout()\n",
        "plt.show()"
      ]
    },
    {
      "cell_type": "markdown",
      "metadata": {},
      "source": [
        "### Conclusions"
      ]
    },
    {
      "cell_type": "markdown",
      "metadata": {},
      "source": [
        "In this analysis, only countries with a minimum of 100 total bookings were considered to avoid skewing the data.\n",
        "\n",
        "When comparing the countries with the highest cancellation rates for each hotel, significant differences are seen in the order of the countries and the percentages of cancelled bookings. Countries listed with the highest cancellation rates in one hotel are often not listed for the other hotel. Percentage cancellations tend to be higher for the city hotel than the resort hotel.\n",
        "\n",
        "For the resort hotel, Portugal is the country with the highest percentage cancellations, both when duplicates are counted once or when every duplicate reservation is counted. \n",
        "\n",
        "For the city hotel, Portugal is lower down the list when duplicate bookings are counted once - nine other countries have higher percentage cancellations. When all duplicates are counted, Portugal shows the highest percentage cancellations, presumably due to the greater number of group bookings and bulk reservations that are made and then later cancelled."
      ]
    },
    {
      "cell_type": "markdown",
      "metadata": {},
      "source": [
        "## Does the Data Support Hypothesis 1?"
      ]
    },
    {
      "cell_type": "markdown",
      "metadata": {},
      "source": [
        "The hypothesis states:\n",
        "> *\"Local guests (from Portugal) tend to cancel more than guests from further afield.\"*\n",
        "\n",
        "This hypothesis is supported to some extent:\n",
        "- For the resort hotel, Portugal ranks as the country with the highest percentage cancellations.\n",
        "- When all duplicate reservations are counted, Portugal has the highest percentage cancellations overall (for both hotels).\n",
        "\n",
        "However, the data does not support the hypothesis in the following ways:\n",
        "- When duplicate reservations are counted once, Portuguese guests are not the most likely to cancel for the City hotel, although they remain among the top 10 countries with the highest cancellation rates.\n",
        "- Many of the countries with the highest cancellation rates are for guests from countries that are very far away (such as China, Russia, South Korea and Colombia).\n",
        "\n",
        "Overall, there is no clear linear relationship between distance from Portugal and percentage of cancellations."
      ]
    }
  ],
  "metadata": {
    "accelerator": "GPU",
    "colab": {
      "name": "Data Practitioner Jupyter Notebook.ipynb",
      "provenance": [],
      "toc_visible": true
    },
    "kernelspec": {
      "display_name": ".venv",
      "language": "python",
      "name": "python3"
    },
    "language_info": {
      "codemirror_mode": {
        "name": "ipython",
        "version": 3
      },
      "file_extension": ".py",
      "mimetype": "text/x-python",
      "name": "python",
      "nbconvert_exporter": "python",
      "pygments_lexer": "ipython3",
      "version": "3.12.8"
    },
    "orig_nbformat": 2
  },
  "nbformat": 4,
  "nbformat_minor": 2
}
